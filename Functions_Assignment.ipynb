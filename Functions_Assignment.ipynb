{
  "nbformat": 4,
  "nbformat_minor": 0,
  "metadata": {
    "colab": {
      "provenance": [],
      "authorship_tag": "ABX9TyNZAk3HYfbkki0n7LZlIaP0",
      "include_colab_link": true
    },
    "kernelspec": {
      "name": "python3",
      "display_name": "Python 3"
    },
    "language_info": {
      "name": "python"
    }
  },
  "cells": [
    {
      "cell_type": "markdown",
      "metadata": {
        "id": "view-in-github",
        "colab_type": "text"
      },
      "source": [
        "<a href=\"https://colab.research.google.com/github/AnjaliSharma2002/Assignments/blob/main/Functions_Assignment.ipynb\" target=\"_parent\"><img src=\"https://colab.research.google.com/assets/colab-badge.svg\" alt=\"Open In Colab\"/></a>"
      ]
    },
    {
      "cell_type": "code",
      "execution_count": 1,
      "metadata": {
        "id": "w-NOFr5xqTrl"
      },
      "outputs": [],
      "source": [
        "# Theory Questions"
      ]
    },
    {
      "cell_type": "code",
      "source": [
        "# Q1.\n",
        "# A function is a block of code that performs a specific task and can be called directly by its name.\n",
        "# It can exist independently and is defined using the def keyword\n",
        "# A function can accept parameters and return a result.\n",
        "\n",
        "# A method is essentially a function, but it is associated with an object or a class.\n",
        "# It is defined within a class and operates on instances of that class (or the class itself if it’s a class method).\n",
        "# A method is associated with an object or class and is called on instances of that class."
      ],
      "metadata": {
        "id": "_j3UIOkDqi7Y"
      },
      "execution_count": 2,
      "outputs": []
    },
    {
      "cell_type": "code",
      "source": [
        "# Q2.\n",
        "# Parameters are the names listed in the function definition. They act as placeholders for the values that will be passed into the function when it is called.\n",
        "# Parameters are used to define what kind of values (data) the function expects to work with.\n",
        "\n",
        "# Arguments are the actual values or data you pass to a function when calling it.\n",
        "# Arguments are mapped to the corresponding parameters in the function definition."
      ],
      "metadata": {
        "id": "Cgy16kO2q9-e"
      },
      "execution_count": 3,
      "outputs": []
    },
    {
      "cell_type": "code",
      "source": [
        "# Q3.\n",
        "def greet(name):\n",
        "    return f\"Hello, {name}!\"\n",
        "greet(\"Anjali\")\n"
      ],
      "metadata": {
        "colab": {
          "base_uri": "https://localhost:8080/",
          "height": 36
        },
        "id": "78jjZGNirViv",
        "outputId": "ca6585ba-e449-4b28-f8d6-4ef7f7577ee9"
      },
      "execution_count": 4,
      "outputs": [
        {
          "output_type": "execute_result",
          "data": {
            "text/plain": [
              "'Hello, Anjali!'"
            ],
            "application/vnd.google.colaboratory.intrinsic+json": {
              "type": "string"
            }
          },
          "metadata": {},
          "execution_count": 4
        }
      ]
    },
    {
      "cell_type": "code",
      "source": [
        "def greet(name, age=20):\n",
        "    return f\"Hello, {name}! You are {age} years old.\"\n",
        "greet(\"Anjali\")"
      ],
      "metadata": {
        "colab": {
          "base_uri": "https://localhost:8080/",
          "height": 36
        },
        "id": "VcipsyOYrnbo",
        "outputId": "7d05cce0-7e1f-4b9d-8669-ef31ff38fffb"
      },
      "execution_count": 6,
      "outputs": [
        {
          "output_type": "execute_result",
          "data": {
            "text/plain": [
              "'Hello, Anjali! You are 20 years old.'"
            ],
            "application/vnd.google.colaboratory.intrinsic+json": {
              "type": "string"
            }
          },
          "metadata": {},
          "execution_count": 6
        }
      ]
    },
    {
      "cell_type": "code",
      "source": [
        "greet(age=25, name=\"Anjali\")"
      ],
      "metadata": {
        "colab": {
          "base_uri": "https://localhost:8080/",
          "height": 36
        },
        "id": "s9NUvQh7ryN9",
        "outputId": "bdbcdc6f-6a9d-443b-ff42-243dd5963c5a"
      },
      "execution_count": 7,
      "outputs": [
        {
          "output_type": "execute_result",
          "data": {
            "text/plain": [
              "'Hello, Anjali! You are 25 years old.'"
            ],
            "application/vnd.google.colaboratory.intrinsic+json": {
              "type": "string"
            }
          },
          "metadata": {},
          "execution_count": 7
        }
      ]
    },
    {
      "cell_type": "code",
      "source": [
        "def sum_numbers(*args):\n",
        "    return sum(args)\n",
        "sum_numbers(1, 2, 3)"
      ],
      "metadata": {
        "colab": {
          "base_uri": "https://localhost:8080/"
        },
        "id": "4y2oKiHcrrWA",
        "outputId": "df59dab6-eb18-45fb-8849-a11c39ea2863"
      },
      "execution_count": 8,
      "outputs": [
        {
          "output_type": "execute_result",
          "data": {
            "text/plain": [
              "6"
            ]
          },
          "metadata": {},
          "execution_count": 8
        }
      ]
    },
    {
      "cell_type": "code",
      "source": [
        "def display_info(**kwargs):\n",
        "    for key, value in kwargs.items():\n",
        "        print(f\"{key}: {value}\")\n",
        "display_info(name=\"Anjali\", age=25)"
      ],
      "metadata": {
        "colab": {
          "base_uri": "https://localhost:8080/"
        },
        "id": "Ir6jfYGBr2Qc",
        "outputId": "e01c3efb-2b35-461f-dd06-629c7f8012c1"
      },
      "execution_count": 10,
      "outputs": [
        {
          "output_type": "stream",
          "name": "stdout",
          "text": [
            "name: Anjali\n",
            "age: 25\n"
          ]
        }
      ]
    },
    {
      "cell_type": "code",
      "source": [
        "def greet():\n",
        "    return \"Hello, World!\"\n",
        "\n",
        "greet()"
      ],
      "metadata": {
        "colab": {
          "base_uri": "https://localhost:8080/",
          "height": 36
        },
        "id": "R62GW7mHr6a5",
        "outputId": "d84473ac-0c43-43df-dac4-10ba59d23194"
      },
      "execution_count": 11,
      "outputs": [
        {
          "output_type": "execute_result",
          "data": {
            "text/plain": [
              "'Hello, World!'"
            ],
            "application/vnd.google.colaboratory.intrinsic+json": {
              "type": "string"
            }
          },
          "metadata": {},
          "execution_count": 11
        }
      ]
    },
    {
      "cell_type": "code",
      "source": [
        "def factorial(n):\n",
        "    if n == 0:\n",
        "        return 1\n",
        "    return n * factorial(n - 1)"
      ],
      "metadata": {
        "id": "ndUlGSZlsEuP"
      },
      "execution_count": 12,
      "outputs": []
    },
    {
      "cell_type": "code",
      "source": [
        "factorial(5)"
      ],
      "metadata": {
        "colab": {
          "base_uri": "https://localhost:8080/"
        },
        "id": "eN0Uux31sJEF",
        "outputId": "53adfb78-fe02-4e76-f38a-f3fdc70ad650"
      },
      "execution_count": 13,
      "outputs": [
        {
          "output_type": "execute_result",
          "data": {
            "text/plain": [
              "120"
            ]
          },
          "metadata": {},
          "execution_count": 13
        }
      ]
    },
    {
      "cell_type": "code",
      "source": [
        "# Q4.\n",
        "# The return statement in a Python function is used to send a result back to the caller and exit the function.\n",
        "# It allows the function to output a value, which can then be used elsewhere in the program."
      ],
      "metadata": {
        "id": "z3d1ezRwsKqD"
      },
      "execution_count": 14,
      "outputs": []
    },
    {
      "cell_type": "code",
      "source": [
        "def add(x, y):\n",
        "    return x + y\n",
        "\n",
        "result = add(3, 4)\n",
        "\n",
        "result"
      ],
      "metadata": {
        "colab": {
          "base_uri": "https://localhost:8080/"
        },
        "id": "6R4v7jkxsXmk",
        "outputId": "eb1a675b-65e8-4777-9579-812b8b59bf52"
      },
      "execution_count": 15,
      "outputs": [
        {
          "output_type": "execute_result",
          "data": {
            "text/plain": [
              "7"
            ]
          },
          "metadata": {},
          "execution_count": 15
        }
      ]
    },
    {
      "cell_type": "code",
      "source": [
        "# Q5.\n",
        "# An iterator is an object that keeps track of its current state and knows how to get the next item using the __next__() method. It is obtained from an iterable using iter().\n",
        "\n",
        "my_list = [1, 2, 3]\n",
        "\n",
        "my_iter = iter(my_list)\n",
        "print(next(my_iter))\n",
        "print(next(my_iter))"
      ],
      "metadata": {
        "colab": {
          "base_uri": "https://localhost:8080/"
        },
        "id": "0g-1ajg4scaN",
        "outputId": "4c0a14c4-9bed-4fd3-d8c9-09a1426b4ade"
      },
      "execution_count": 17,
      "outputs": [
        {
          "output_type": "stream",
          "name": "stdout",
          "text": [
            "1\n",
            "2\n"
          ]
        }
      ]
    },
    {
      "cell_type": "code",
      "source": [
        "# An iterable is any object that can return an iterator, such as lists, tuples, and dictionaries. It implements the __iter__() method and can be used in loops.\n",
        "\n",
        "my_list = [1, 2, 3]\n"
      ],
      "metadata": {
        "id": "2R8DF6bisvxx"
      },
      "execution_count": 18,
      "outputs": []
    },
    {
      "cell_type": "code",
      "source": [
        "# Q6.\n",
        "\n",
        "# A generator in Python is a special type of iterator that generates values on the fly, one at a time, using the yield keyword. Unlike regular functions that return a value and exit, a generator can pause its execution and resume later, making it memory-efficient for large data sets.\n",
        "\n",
        "def count_up_to(n):\n",
        "    count = 1\n",
        "    while count <= n:\n",
        "        yield count  # Generates the next value\n",
        "        count += 1\n",
        "\n",
        "gen = count_up_to(5)\n",
        "print(next(gen))\n",
        "print(next(gen))"
      ],
      "metadata": {
        "colab": {
          "base_uri": "https://localhost:8080/"
        },
        "id": "yHzNo5X2s6qX",
        "outputId": "031f058c-f982-4344-87bc-4f079230682f"
      },
      "execution_count": 19,
      "outputs": [
        {
          "output_type": "stream",
          "name": "stdout",
          "text": [
            "1\n",
            "2\n"
          ]
        }
      ]
    },
    {
      "cell_type": "code",
      "source": [
        "# Q7.\n",
        "\n",
        "# The advantages of using generators over regular functions are:\n",
        "\n",
        "# Memory Efficiency: Generators produce values one at a time and do not store the entire sequence in memory, making them ideal for handling large datasets or infinite sequences.\n",
        "\n",
        "# Lazy Evaluation: They generate values only when needed (on demand), which can lead to faster execution when dealing with large input data.\n",
        "\n",
        "# State Retention: Generators automatically keep track of their state between calls, so there's no need for explicit state management, unlike regular functions that would require additional memory to store intermediate results."
      ],
      "metadata": {
        "id": "jiWQTfjqtZni"
      },
      "execution_count": 20,
      "outputs": []
    },
    {
      "cell_type": "code",
      "source": [
        "# Q8.\n",
        "\n",
        "# A lambda function in Python is a small, anonymous function defined using the lambda keyword. It can have any number of arguments but only one expression, which is evaluated and returned.\n",
        "\n",
        "add = lambda x, y: x + y\n",
        "print(add(3, 4))"
      ],
      "metadata": {
        "colab": {
          "base_uri": "https://localhost:8080/"
        },
        "id": "RidRQwe_to1Y",
        "outputId": "8cac93e5-62b6-442b-da1c-f7ad248c3565"
      },
      "execution_count": 21,
      "outputs": [
        {
          "output_type": "stream",
          "name": "stdout",
          "text": [
            "7\n"
          ]
        }
      ]
    },
    {
      "cell_type": "code",
      "source": [
        "# Q9.\n",
        "\n",
        "# The map() function in Python is used to apply a given function to all items in an iterable (like a list, tuple, etc.) and return a map object (an iterator) with the results.\n",
        "\n",
        "# syntax: map(function, iterable)\n",
        "\n",
        "\n",
        "# It allows you to process and transform each element in an iterable efficiently.\n",
        "# It's a convenient way to apply a function to every item in a collection without writing an explicit loop.\n",
        "\n",
        "def square(x):\n",
        "    return x * x\n",
        "\n",
        "numbers = [1, 2, 3, 4]\n",
        "squared_numbers = map(square, numbers)\n",
        "\n",
        "print(list(squared_numbers))"
      ],
      "metadata": {
        "colab": {
          "base_uri": "https://localhost:8080/"
        },
        "id": "rCgL03TJt4vk",
        "outputId": "625cd7c6-63c9-4d12-9d74-ac00b59fda74"
      },
      "execution_count": 22,
      "outputs": [
        {
          "output_type": "stream",
          "name": "stdout",
          "text": [
            "[1, 4, 9, 16]\n"
          ]
        }
      ]
    },
    {
      "cell_type": "code",
      "source": [
        "# map(): Applies a function to each item in an iterable and returns the results.\n",
        "\n",
        "# Example:\n",
        "\n",
        "map(lambda x: x*2, [1, 2, 3])\n",
        "\n",
        "# reduce(): Applies a function cumulatively to items in an iterable, reducing them to a single value.\n",
        "\n",
        "# Example:\n",
        "from functools import reduce\n",
        "reduce(lambda x, y: x + y, [1, 2, 3])\n",
        "# Note: Requires from functools import reduce.\n",
        "\n",
        "# filter(): Filters items in an iterable based on a condition, returning items where the condition is True.\n",
        "\n",
        "# Example:\n",
        "\n",
        "filter(lambda x: x % 2 == 0, [1, 2, 3, 4])"
      ],
      "metadata": {
        "colab": {
          "base_uri": "https://localhost:8080/"
        },
        "id": "8YQLGqs2uvUi",
        "outputId": "438285ad-5c8f-4e52-c2fd-114afc97d116"
      },
      "execution_count": 25,
      "outputs": [
        {
          "output_type": "execute_result",
          "data": {
            "text/plain": [
              "<filter at 0x787333b2fbb0>"
            ]
          },
          "metadata": {},
          "execution_count": 25
        }
      ]
    },
    {
      "cell_type": "code",
      "source": [
        "# Practical Questions"
      ],
      "metadata": {
        "id": "Sf2EjlVqvBaV"
      },
      "execution_count": 26,
      "outputs": []
    },
    {
      "cell_type": "code",
      "source": [
        "# Q1.\n",
        "def sumOfList(l,n):\n",
        "  sum = 0\n",
        "  for i in l:\n",
        "    sum = sum+i\n",
        "  return sum\n",
        "\n",
        "l = []\n",
        "n = int(input(\"Enter length of the list: \"))\n",
        "\n",
        "for i in range(n):\n",
        "  x = int(input(\"Enter Number: \"))\n",
        "  l.append(x)\n",
        "\n",
        "sumOfList(l,n)"
      ],
      "metadata": {
        "colab": {
          "base_uri": "https://localhost:8080/"
        },
        "id": "JuBhpS3bvPuX",
        "outputId": "ca4b8d34-7f07-4497-c0db-561ab30035d4"
      },
      "execution_count": 29,
      "outputs": [
        {
          "name": "stdout",
          "output_type": "stream",
          "text": [
            "Enter length of the list: 5\n",
            "Enter Number: 1\n",
            "Enter Number: 2\n",
            "Enter Number: 3\n",
            "Enter Number: 4\n",
            "Enter Number: 5\n"
          ]
        },
        {
          "output_type": "execute_result",
          "data": {
            "text/plain": [
              "15"
            ]
          },
          "metadata": {},
          "execution_count": 29
        }
      ]
    },
    {
      "cell_type": "code",
      "source": [
        "# Q2.\n",
        "\n",
        "def reverse_string(s):\n",
        "    return s[::-1]\n",
        "\n",
        "input_string = input(\"Enter the string: \")\n",
        "result = reverse_string(input_string)\n",
        "print(result)"
      ],
      "metadata": {
        "colab": {
          "base_uri": "https://localhost:8080/"
        },
        "id": "s7rm7h-dvkqx",
        "outputId": "8528a13e-7d30-4dc4-9b16-9ff87c5c166d"
      },
      "execution_count": 32,
      "outputs": [
        {
          "output_type": "stream",
          "name": "stdout",
          "text": [
            "Enter the string: anjali\n",
            "ilajna\n"
          ]
        }
      ]
    },
    {
      "cell_type": "code",
      "source": [
        "# Q3.\n",
        "\n",
        "def SqaureOfList(l):\n",
        "  new_list = []\n",
        "  for i in l:\n",
        "    new_list.append(i*i)\n",
        "  return new_list\n",
        "\n",
        "\n",
        "l = []\n",
        "n = int(input(\"Enter length of the list: \"))\n",
        "\n",
        "for i in range(n):\n",
        "  x = int(input(\"Enter Number: \"))\n",
        "  l.append(x)\n",
        "\n",
        "print(SqaureOfList(l))"
      ],
      "metadata": {
        "colab": {
          "base_uri": "https://localhost:8080/"
        },
        "id": "KbERGClcw_bm",
        "outputId": "5deb22f5-3c34-41e8-c5a4-2f4057022c0c"
      },
      "execution_count": 33,
      "outputs": [
        {
          "output_type": "stream",
          "name": "stdout",
          "text": [
            "Enter length of the list: 5\n",
            "Enter Number: 1\n",
            "Enter Number: 2\n",
            "Enter Number: 3\n",
            "Enter Number: 4\n",
            "Enter Number: 5\n",
            "[1, 4, 9, 16, 25]\n"
          ]
        }
      ]
    },
    {
      "cell_type": "code",
      "source": [
        "# Q4.\n",
        "\n",
        "def is_prime(n):\n",
        "    if n <= 1:\n",
        "        return False\n",
        "    for i in range(2, int(n ** 0.5) + 1):\n",
        "        if n % i == 0:\n",
        "            return False\n",
        "    return True\n",
        "\n",
        "num = int(input(\"Enter a number to check if it's prime: \"))\n",
        "\n",
        "if is_prime(num):\n",
        "    print(f\"{num} is a prime number.\")\n",
        "else:\n",
        "    print(f\"{num} is not a prime number.\")\n"
      ],
      "metadata": {
        "colab": {
          "base_uri": "https://localhost:8080/"
        },
        "id": "_P6aJKVDxwAh",
        "outputId": "709338de-8e5d-4ccc-a380-8ac3ce676a1a"
      },
      "execution_count": 35,
      "outputs": [
        {
          "output_type": "stream",
          "name": "stdout",
          "text": [
            "Enter a number to check if it's prime: 200\n",
            "200 is not a prime number.\n"
          ]
        }
      ]
    },
    {
      "cell_type": "code",
      "source": [
        "# Q5.\n",
        "\n",
        "nterms = int(input(\"How many terms? \"))\n",
        "\n",
        "n1, n2 = 0, 1\n",
        "count = 0\n",
        "\n",
        "if nterms <= 0:\n",
        "   print(\"Please enter a positive integer\")\n",
        "elif nterms == 1:\n",
        "   print(\"Fibonacci sequence upto\",nterms,\":\")\n",
        "   print(n1)\n",
        "else:\n",
        "   print(\"Fibonacci sequence:\")\n",
        "   while count < nterms:\n",
        "       print(n1)\n",
        "       nth = n1 + n2\n",
        "       n1 = n2\n",
        "       n2 = nth\n",
        "       count += 1"
      ],
      "metadata": {
        "colab": {
          "base_uri": "https://localhost:8080/"
        },
        "id": "zdt-j__6zBan",
        "outputId": "d5546347-d6f9-405c-ad6f-e6ac9d2559df"
      },
      "execution_count": 37,
      "outputs": [
        {
          "output_type": "stream",
          "name": "stdout",
          "text": [
            "How many terms? 10\n",
            "Fibonacci sequence:\n",
            "0\n",
            "1\n",
            "1\n",
            "2\n",
            "3\n",
            "5\n",
            "8\n",
            "13\n",
            "21\n",
            "34\n"
          ]
        }
      ]
    },
    {
      "cell_type": "code",
      "source": [
        "# Q6.\n",
        "\n",
        "def powers_of_2(exponent):\n",
        "    for i in range(exponent + 1):\n",
        "        yield 2 ** i\n",
        "\n",
        "# Example usage:\n",
        "for power in powers_of_2(5):\n",
        "    print(power, end=' ')\n"
      ],
      "metadata": {
        "colab": {
          "base_uri": "https://localhost:8080/"
        },
        "id": "ilCi7suHz5og",
        "outputId": "7603f05d-4e3d-4790-9ec4-1a370d33388d"
      },
      "execution_count": 38,
      "outputs": [
        {
          "output_type": "stream",
          "name": "stdout",
          "text": [
            "1 2 4 8 16 32 "
          ]
        }
      ]
    },
    {
      "cell_type": "code",
      "source": [
        "# Q7.\n",
        "def read_file_line_by_line(filename):\n",
        "    with open(filename, 'r') as file:\n",
        "        for line in file:\n",
        "            yield line.strip()\n",
        "\n",
        "filename = 'example.txt'\n",
        "for line in read_file_line_by_line(filename):\n",
        "    print(line)"
      ],
      "metadata": {
        "colab": {
          "base_uri": "https://localhost:8080/"
        },
        "id": "5Obu9mMj0kUx",
        "outputId": "21648724-5afd-4ee5-c9c5-c0e878513088"
      },
      "execution_count": 40,
      "outputs": [
        {
          "output_type": "stream",
          "name": "stdout",
          "text": [
            "Hello, world!\n",
            "This is a test.\n",
            "Python is awesome!\n"
          ]
        }
      ]
    },
    {
      "cell_type": "code",
      "source": [
        "# Q8.\n",
        "\n",
        "tuples_list = [(1, 3), (4, 1), (2, 2), (5, 4)]\n",
        "\n",
        "sorted_list = sorted(tuples_list, key=lambda x: x[1])\n",
        "\n",
        "print(sorted_list)\n"
      ],
      "metadata": {
        "colab": {
          "base_uri": "https://localhost:8080/"
        },
        "id": "IOvbk6J30z8u",
        "outputId": "76d7b144-e2f2-4fcb-828a-1337db0bb798"
      },
      "execution_count": 41,
      "outputs": [
        {
          "output_type": "stream",
          "name": "stdout",
          "text": [
            "[(4, 1), (2, 2), (1, 3), (5, 4)]\n"
          ]
        }
      ]
    },
    {
      "cell_type": "code",
      "source": [
        "# Q9.\n",
        "\n",
        "celsius_temperatures = [0, 10, 20, 30, 40, 50]\n",
        "\n",
        "fahrenheit_temperatures = list(map(lambda c: (c * 9/5) + 32, celsius_temperatures))\n",
        "\n",
        "print(fahrenheit_temperatures)"
      ],
      "metadata": {
        "colab": {
          "base_uri": "https://localhost:8080/"
        },
        "id": "jJCmDxXC1TES",
        "outputId": "80bb0a69-768b-436c-be4a-fd422817f80e"
      },
      "execution_count": 42,
      "outputs": [
        {
          "output_type": "stream",
          "name": "stdout",
          "text": [
            "[32.0, 50.0, 68.0, 86.0, 104.0, 122.0]\n"
          ]
        }
      ]
    },
    {
      "cell_type": "code",
      "source": [
        "# Q10\n",
        "\n",
        "def remove_vowels(input_string):\n",
        "    vowels = \"aeiouAEIOU\"\n",
        "    return ''.join(filter(lambda x: x not in vowels, input_string))\n",
        "\n",
        "input_string = \"Hello, World!\"\n",
        "result = remove_vowels(input_string)\n",
        "print(result)"
      ],
      "metadata": {
        "colab": {
          "base_uri": "https://localhost:8080/"
        },
        "id": "D8SAWgQI1dNa",
        "outputId": "ea8a190e-bcf7-4d01-d141-61feae8ed258"
      },
      "execution_count": 43,
      "outputs": [
        {
          "output_type": "stream",
          "name": "stdout",
          "text": [
            "Hll, Wrld!\n"
          ]
        }
      ]
    },
    {
      "cell_type": "code",
      "source": [
        "# Q11.\n",
        "\n",
        "orders = [\n",
        "    (34587, \"Learning Python, Mark Lutz\", 4, 40.95),\n",
        "    (98762, \"Programming Python, Mark Lutz\", 5, 56.80),\n",
        "    (77226, \"Head First Python, Paul Barry\", 3, 32.95),\n",
        "    (88112, \"Einführung in Python3, Bernd Klein\", 3, 24.99),\n",
        "]\n",
        "\n",
        "result = list(map(lambda order: (order[0], order[2] * order[3] + (10 if order[2] * order[3] < 100 else 0)), orders))\n",
        "\n",
        "print(result)\n"
      ],
      "metadata": {
        "colab": {
          "base_uri": "https://localhost:8080/"
        },
        "id": "v9QxArpV1m1o",
        "outputId": "1aa27cea-2426-49b8-d7de-f15e83ec860c"
      },
      "execution_count": 44,
      "outputs": [
        {
          "output_type": "stream",
          "name": "stdout",
          "text": [
            "[(34587, 163.8), (98762, 284.0), (77226, 108.85000000000001), (88112, 84.97)]\n"
          ]
        }
      ]
    },
    {
      "cell_type": "code",
      "source": [],
      "metadata": {
        "id": "vojYNrzh2OOQ"
      },
      "execution_count": null,
      "outputs": []
    }
  ]
}