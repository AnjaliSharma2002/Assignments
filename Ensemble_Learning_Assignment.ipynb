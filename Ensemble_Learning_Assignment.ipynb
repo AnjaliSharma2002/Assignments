{
  "nbformat": 4,
  "nbformat_minor": 0,
  "metadata": {
    "colab": {
      "provenance": [],
      "authorship_tag": "ABX9TyME0QMH36NO37LtFozLmgaP",
      "include_colab_link": true
    },
    "kernelspec": {
      "name": "python3",
      "display_name": "Python 3"
    },
    "language_info": {
      "name": "python"
    }
  },
  "cells": [
    {
      "cell_type": "markdown",
      "metadata": {
        "id": "view-in-github",
        "colab_type": "text"
      },
      "source": [
        "<a href=\"https://colab.research.google.com/github/AnjaliSharma2002/Assignments/blob/main/Ensemble_Learning_Assignment.ipynb\" target=\"_parent\"><img src=\"https://colab.research.google.com/assets/colab-badge.svg\" alt=\"Open In Colab\"/></a>"
      ]
    },
    {
      "cell_type": "code",
      "execution_count": 1,
      "metadata": {
        "id": "NKfyyvUnVnWW"
      },
      "outputs": [],
      "source": [
        "# Theoretical\n",
        "\n",
        "# Q1.\n",
        "\n",
        "# Yes, Bagging can be used for regression problems.\n",
        "\n",
        "# It trains multiple models on different subsets of data (bootstrap samples).\n",
        "\n",
        "# Final prediction is the average of all models' outputs.\n",
        "\n",
        "# Helps reduce variance and improve accuracy.\n",
        "\n",
        "# Commonly used with DecisionTreeRegressor as base model."
      ]
    },
    {
      "cell_type": "code",
      "source": [
        "#Q2.\n",
        "\n",
        "# In single model training, only one model is trained on the entire dataset to make predictions. This approach is simple, faster, and easier to interpret, but it may suffer from issues like high variance (overfitting) or high bias (underfitting), depending on the model used. In contrast, multiple model training, also known as ensemble learning, involves training several models and combining their predictions. Techniques like bagging, boosting, and stacking fall under this category. This approach generally leads to better performance, as it reduces variance and improves generalization by aggregating the strengths of multiple models. However, it is more computationally expensive and often harder to interpret.\n"
      ],
      "metadata": {
        "id": "mGMevJrbtMWV"
      },
      "execution_count": 2,
      "outputs": []
    },
    {
      "cell_type": "code",
      "source": [
        "# Q3.\n",
        "\n",
        "# Feature randomness in Random Forest means that at each split in a tree, only a random subset of features is considered instead of all features. This makes trees more diverse, reduces overfitting, and improves the overall accuracy of the model.\n"
      ],
      "metadata": {
        "id": "JCn9sZsOtZdq"
      },
      "execution_count": 3,
      "outputs": []
    },
    {
      "cell_type": "code",
      "source": [
        "# Q4.\n",
        "\n",
        "# The OOB (Out-of-Bag) score is a performance estimate used in Random Forest models without needing a separate validation set. When each decision tree in the forest is trained, it uses a bootstrap sample—random data points selected with replacement. As a result, about one-third of the original data is not included in each tree’s training set. These excluded data points are called out-of-bag samples. After the tree is trained, it is tested on its corresponding OOB samples. The model's predictions on these samples are then compared to the actual values, and the overall performance across all trees is averaged to calculate the OOB score. This score serves as a reliable and efficient internal validation method to estimate the model’s accuracy or error."
      ],
      "metadata": {
        "id": "xMw7QOQttnlc"
      },
      "execution_count": 4,
      "outputs": []
    },
    {
      "cell_type": "code",
      "source": [
        "# Q5.\n",
        "\n",
        "# Feature importance in a Random Forest model can be measured by evaluating how much each feature contributes to the model’s predictive power. One common method is the Mean Decrease in Impurity (MDI), where the model tracks how much each feature reduces impurity (like Gini index or mean squared error) every time it is used to split a node. These reductions are averaged across all trees to determine the feature’s importance. Another method is Permutation Importance (also called Mean Decrease in Accuracy), where the model’s accuracy is measured before and after randomly shuffling the values of a feature. A significant drop in performance indicates that the feature was important. While MDI is faster and built-in, permutation importance gives a more accurate picture, especially when features are correlated."
      ],
      "metadata": {
        "id": "PdzaLK_Xtwzv"
      },
      "execution_count": 5,
      "outputs": []
    },
    {
      "cell_type": "code",
      "source": [
        "# Q6.\n",
        "\n",
        "# The Bagging Classifier works on the principle of Bootstrap Aggregating (Bagging), which aims to improve the performance and stability of machine learning models by reducing variance.\n",
        "\n",
        "# In this method, multiple models (usually of the same type, like decision trees) are trained independently on different random subsets of the original training data. These subsets are created through bootstrap sampling, meaning data is selected with replacement, so some samples may appear more than once, and others not at all.\n",
        "\n",
        "# Each model learns separately from its own dataset. When it's time to make a prediction, the Bagging Classifier combines the outputs of all models through majority voting (for classification) or averaging (for regression). This aggregation helps smooth out individual model errors, making the overall prediction more accurate and robust."
      ],
      "metadata": {
        "id": "9UsK8Xt4t7CW"
      },
      "execution_count": 6,
      "outputs": []
    },
    {
      "cell_type": "code",
      "source": [
        "# Q7.\n",
        "\n",
        "# The performance of a Bagging Classifier is evaluated using standard classification metrics. The most common measure is accuracy, which indicates the proportion of correct predictions out of total predictions. For a deeper understanding of model performance, especially with imbalanced data, metrics like precision, recall, and F1-score are used. These provide insights into how well the model identifies each class. A confusion matrix further breaks down the types of correct and incorrect predictions, helping to visualize errors. Additionally, for binary classification tasks, the ROC curve and AUC score assess the model’s ability to distinguish between classes. To ensure the model performs consistently across different subsets of the data, cross-validation is often applied, which provides an average performance score over multiple train-test splits. These combined evaluations help in determining how well the Bagging Classifier generalizes to unseen data."
      ],
      "metadata": {
        "id": "U-QmzbtAuFvH"
      },
      "execution_count": 7,
      "outputs": []
    },
    {
      "cell_type": "code",
      "source": [
        "# Q8.\n",
        "\n",
        "# A Bagging Regressor works by combining the predictions of multiple regression models trained on different random subsets of the original training data to improve overall performance and reduce variance.\n",
        "\n",
        "# It uses the bootstrap aggregating (bagging) technique, where:\n",
        "\n",
        "# Multiple training sets are created by randomly sampling (with replacement) from the original dataset.\n",
        "\n",
        "# A separate regression model (often a decision tree) is trained on each of these subsets.\n",
        "\n",
        "# When making predictions, all the trained models predict the output for a given input.\n",
        "\n",
        "# The final prediction is the average of all individual model predictions.\n",
        "\n",
        "# This ensemble approach helps in smoothing out errors from individual models, making the overall model more robust, stable, and less prone to overfitting, especially when using high-variance models like decision trees."
      ],
      "metadata": {
        "id": "OgtdpAH6uRBb"
      },
      "execution_count": 8,
      "outputs": []
    },
    {
      "cell_type": "code",
      "source": [
        "# Q9.\n",
        "\n",
        "# The main advantage of ensemble techniques is that they combine multiple models to produce a more accurate, stable, and robust prediction than any single model alone.\n",
        "\n",
        "# By aggregating the strengths of different models, ensemble methods:\n",
        "\n",
        "# Reduce variance (e.g., through Bagging),\n",
        "\n",
        "# Reduce bias (e.g., through Boosting),\n",
        "\n",
        "# And often improve generalization performance on unseen data.\n",
        "\n",
        "# This leads to better accuracy, especially in complex or noisy datasets, and makes ensemble techniques a powerful tool in both classification and regression tasks."
      ],
      "metadata": {
        "id": "T40NU-0Gubkm"
      },
      "execution_count": 9,
      "outputs": []
    },
    {
      "cell_type": "code",
      "source": [
        "# Q10.\n",
        "\n",
        "# The main challenge of ensemble methods is their increased complexity and computational cost.\n",
        "\n",
        "# Since ensemble techniques combine multiple models, they:\n",
        "\n",
        "# Require more training time and computational resources,\n",
        "\n",
        "# Are harder to interpret, especially compared to simple models,\n",
        "\n",
        "# May lead to overfitting if not properly tuned (especially with Boosting),\n",
        "\n",
        "# And can be difficult to deploy in real-time systems due to slower prediction times."
      ],
      "metadata": {
        "id": "LK2WM6ujuuvK"
      },
      "execution_count": 10,
      "outputs": []
    },
    {
      "cell_type": "code",
      "source": [
        "# Q11.\n",
        "\n",
        "# The key idea behind ensemble techniques is to combine the predictions of multiple models to achieve better overall performance than any single model could provide on its own.\n",
        "\n",
        "# Each individual model, known as a base learner, may make different errors. By aggregating their outputs—either through voting (for classification) or averaging (for regression)—ensemble methods can reduce errors, improve accuracy, and increase model stability. The diversity among models helps to cancel out individual weaknesses, leading to a more robust and generalizable prediction.\n",
        "\n",
        "# In essence, ensemble learning works on the principle that a group of weak learners can come together to form a strong learner.\n"
      ],
      "metadata": {
        "id": "AnVpsg2bu20q"
      },
      "execution_count": 11,
      "outputs": []
    },
    {
      "cell_type": "code",
      "source": [
        "# Q12.\n",
        "\n",
        "# A Random Forest Classifier is an ensemble machine learning algorithm used for classification tasks. It builds a \"forest\" of multiple decision trees, each trained on a random subset of the data (with replacement, called bootstrap sampling) and a random subset of features at each split.\n",
        "\n",
        "# Each decision tree makes a prediction, and the Random Forest combines them using majority voting—the class that gets the most votes is the final prediction. This approach helps to reduce overfitting, increase accuracy, and improve generalization compared to a single decision tree."
      ],
      "metadata": {
        "id": "KfjODeAYvC9E"
      },
      "execution_count": 12,
      "outputs": []
    },
    {
      "cell_type": "code",
      "source": [
        "# Q13.\n",
        "\n",
        "# The main types of ensemble techniques are Bagging, Boosting, and Stacking. Bagging (Bootstrap Aggregating) works by training multiple models independently on different random subsets of the training data and then combining their predictions through majority voting (for classification) or averaging (for regression). This helps reduce variance and improve model stability. Boosting, on the other hand, builds models sequentially, where each new model focuses on correcting the errors made by the previous ones. It combines their predictions in a weighted manner to reduce bias and improve accuracy. Stacking takes a different approach by combining multiple diverse models and using a separate model, called a meta-learner, to learn how best to combine their predictions. Each of these techniques enhances predictive performance by leveraging the strengths of multiple models in different ways."
      ],
      "metadata": {
        "id": "yNdSpcglvZ1d"
      },
      "execution_count": 13,
      "outputs": []
    },
    {
      "cell_type": "code",
      "source": [
        "# Q14.\n",
        "\n",
        "# Ensemble learning in machine learning is a technique where multiple models (often called base learners or weak learners) are combined to solve the same problem in order to achieve better performance than any single model alone.\n",
        "\n",
        "# The core idea is that while individual models may make errors, combining them helps reduce variance, reduce bias, and improve generalization. Ensemble methods work by either averaging the predictions (for regression) or using majority voting (for classification).\n",
        "\n",
        "# Common ensemble techniques include Bagging (like Random Forest), Boosting (like AdaBoost, XGBoost), and Stacking. These methods leverage the diversity and strengths of multiple models to produce a final, more accurate prediction."
      ],
      "metadata": {
        "id": "HsUU3pVdvmCE"
      },
      "execution_count": 14,
      "outputs": []
    },
    {
      "cell_type": "code",
      "source": [
        "# Q15.\n",
        "\n",
        "# Ensemble methods should be avoided in situations where model interpretability is important, as they tend to be complex and difficult to explain compared to simpler models like decision trees or logistic regression. They also may not be suitable when working with small datasets, since ensemble techniques typically require more data to perform well and may overfit on limited samples. Additionally, ensemble models can be computationally expensive, making them a poor choice when resources like time, memory, or processing power are limited. In scenarios where real-time predictions are needed, the slower prediction speed of ensembles can also be a drawback. Finally, if a simple model already provides good accuracy, adding an ensemble might only increase complexity without offering significant performance improvement."
      ],
      "metadata": {
        "id": "u8vktxpnvwlw"
      },
      "execution_count": 15,
      "outputs": []
    },
    {
      "cell_type": "code",
      "source": [
        "# Q16.\n",
        "\n",
        "# Bagging helps reduce overfitting by decreasing the variance of a high-variance model, such as a decision tree.\n",
        "\n",
        "# Here's how it works: Bagging creates multiple versions of the training data using bootstrap sampling (random sampling with replacement). It then trains a separate model on each of these datasets independently. Since each model sees a slightly different dataset, they learn slightly different patterns and make different errors. When predictions are made, Bagging aggregates all the individual model outputs—using majority voting for classification or averaging for regression.\n",
        "\n",
        "# This aggregation smooths out the noise and errors from individual models, making the final prediction more stable and less likely to overfit to the training data. In essence, Bagging reduces the model's sensitivity to fluctuations in the training set, leading to better generalization on unseen data."
      ],
      "metadata": {
        "id": "ujIi1ofmv7gz"
      },
      "execution_count": 16,
      "outputs": []
    },
    {
      "cell_type": "code",
      "source": [
        "# Q17.\n",
        "\n",
        "# Random Forest is generally better than a single Decision Tree because it offers higher accuracy, better generalization, and less overfitting.\n",
        "\n",
        "# A single decision tree is prone to overfitting, especially when it's deep and complex, because it tries to perfectly learn the training data—even the noise. In contrast, Random Forest builds multiple decision trees on random subsets of the data and features, and combines their outputs using majority voting (for classification) or averaging (for regression). This process reduces the variance of the model without significantly increasing bias, making it more robust and accurate on unseen data. Additionally, Random Forest handles missing values, outliers, and feature importance more effectively, making it a more reliable choice in practice."
      ],
      "metadata": {
        "id": "i4krujTRwE3F"
      },
      "execution_count": 17,
      "outputs": []
    },
    {
      "cell_type": "code",
      "source": [
        "# Q18.\n",
        "\n",
        "# The role of bootstrap sampling in Bagging is to create diverse training datasets by randomly sampling the original dataset with replacement. This means each new dataset (called a bootstrap sample) may include duplicate records and leave out others.\n",
        "\n",
        "# By training each base model (e.g., a decision tree) on a different bootstrap sample, Bagging ensures that the models learn slightly different patterns. This diversity among models helps to reduce overfitting and variance, as their combined predictions (via averaging or majority voting) are more stable and generalize better to new data."
      ],
      "metadata": {
        "id": "nOf7xsAnwSBW"
      },
      "execution_count": 18,
      "outputs": []
    },
    {
      "cell_type": "code",
      "source": [
        "# Q19.\n",
        "\n",
        "# Ensemble techniques are widely used in real-world applications where high accuracy and reliability are essential. In healthcare, they assist in disease prediction and diagnosis, such as cancer detection and patient risk assessment, by combining outputs from multiple models to improve decision-making. In the finance sector, ensemble models are used for credit scoring, fraud detection, and stock market prediction, as they can identify complex patterns in financial data. E-commerce platforms use ensemble methods for personalized product recommendations, customer churn prediction, and purchase behavior analysis. In natural language processing (NLP), ensemble techniques enhance tasks like sentiment analysis, spam detection, and text classification by combining different algorithms. Autonomous vehicles rely on ensemble models for object detection and scene understanding to ensure robust navigation in dynamic environments. Additionally, in cybersecurity, ensemble learning helps build intrusion detection systems that can better identify potential threats. Overall, ensemble techniques play a crucial role in improving predictive performance across various industries."
      ],
      "metadata": {
        "id": "gS9hskHewXJq"
      },
      "execution_count": 19,
      "outputs": []
    },
    {
      "cell_type": "code",
      "source": [
        "# Q20.\n",
        "\n",
        "# Bagging and Boosting are both ensemble learning techniques, but they differ significantly in how they build and combine models. Bagging, short for Bootstrap Aggregating, trains multiple models independently and in parallel on different random subsets of the training data created through bootstrap sampling. The goal of bagging is to reduce variance and improve model stability by averaging the predictions (for regression) or using majority voting (for classification). In contrast, Boosting builds models sequentially, where each new model focuses on correcting the mistakes made by the previous ones. Boosting assigns more weight to the misclassified data points, making the model pay more attention to hard-to-learn examples. The final prediction is a weighted combination of all models, aiming to reduce bias and improve accuracy. While bagging is more effective at preventing overfitting, boosting tends to produce highly accurate models by focusing on model improvement at each step."
      ],
      "metadata": {
        "id": "J1HARguCwmhL"
      },
      "execution_count": 20,
      "outputs": []
    },
    {
      "cell_type": "code",
      "source": [
        "# Practical"
      ],
      "metadata": {
        "id": "MqkYuf8Zwz74"
      },
      "execution_count": 21,
      "outputs": []
    },
    {
      "cell_type": "code",
      "source": [
        "# 21.\n",
        "\n",
        "from sklearn.datasets import load_iris\n",
        "from sklearn.ensemble import BaggingClassifier\n",
        "from sklearn.tree import DecisionTreeClassifier\n",
        "from sklearn.model_selection import train_test_split\n",
        "from sklearn.metrics import accuracy_score\n",
        "\n",
        "data = load_iris()\n",
        "X = data.data\n",
        "y = data.target\n",
        "\n",
        "X_train, X_test, y_train, y_test = train_test_split(X, y, test_size=0.2, random_state=42)\n",
        "\n",
        "model = BaggingClassifier(\n",
        "    estimator=DecisionTreeClassifier(),\n",
        "    n_estimators=10,\n",
        "    random_state=42\n",
        ")\n",
        "\n",
        "model.fit(X_train, y_train)\n",
        "\n",
        "y_pred = model.predict(X_test)\n",
        "\n",
        "accuracy = accuracy_score(y_test, y_pred)\n",
        "print(\"Model Accuracy:\", round(accuracy * 100, 2), \"%\")"
      ],
      "metadata": {
        "colab": {
          "base_uri": "https://localhost:8080/"
        },
        "id": "Zf4ynET_w3l7",
        "outputId": "453b9de2-0909-4065-ed73-422cf6acd533"
      },
      "execution_count": 23,
      "outputs": [
        {
          "output_type": "stream",
          "name": "stdout",
          "text": [
            "Model Accuracy: 100.0 %\n"
          ]
        }
      ]
    },
    {
      "cell_type": "code",
      "source": [
        "# 22.\n",
        "\n",
        "from sklearn.datasets import load_diabetes\n",
        "from sklearn.ensemble import BaggingRegressor\n",
        "from sklearn.tree import DecisionTreeRegressor\n",
        "from sklearn.model_selection import train_test_split\n",
        "from sklearn.metrics import mean_squared_error\n",
        "\n",
        "data = load_diabetes()\n",
        "X = data.data\n",
        "y = data.target\n",
        "\n",
        "X_train, X_test, y_train, y_test = train_test_split(X, y, test_size=0.2, random_state=42)\n",
        "\n",
        "model = BaggingRegressor(\n",
        "    estimator=DecisionTreeRegressor(),\n",
        "    n_estimators=10,\n",
        "    random_state=42\n",
        ")\n",
        "\n",
        "model.fit(X_train, y_train)\n",
        "\n",
        "y_pred = model.predict(X_test)\n",
        "\n",
        "mse = mean_squared_error(y_test, y_pred)\n",
        "print(\"Mean Squared Error (MSE):\", round(mse, 2))"
      ],
      "metadata": {
        "colab": {
          "base_uri": "https://localhost:8080/"
        },
        "id": "SrmnAdL3xUnz",
        "outputId": "d445ea26-70af-4698-aadd-e2d7f20d0b47"
      },
      "execution_count": 24,
      "outputs": [
        {
          "output_type": "stream",
          "name": "stdout",
          "text": [
            "Mean Squared Error (MSE): 3256.96\n"
          ]
        }
      ]
    },
    {
      "cell_type": "code",
      "source": [
        "# 23.\n",
        "\n",
        "from sklearn.datasets import load_breast_cancer\n",
        "from sklearn.ensemble import RandomForestClassifier\n",
        "from sklearn.model_selection import train_test_split\n",
        "import pandas as pd\n",
        "\n",
        "data = load_breast_cancer()\n",
        "X = data.data\n",
        "y = data.target\n",
        "feature_names = data.feature_names\n",
        "\n",
        "X_train, X_test, y_train, y_test = train_test_split(X, y, test_size=0.2, random_state=42)\n",
        "\n",
        "model = RandomForestClassifier(n_estimators=100, random_state=42)\n",
        "model.fit(X_train, y_train)\n",
        "\n",
        "importances = model.feature_importances_\n",
        "\n",
        "feature_importance_df = pd.DataFrame({\n",
        "    'Feature': feature_names,\n",
        "    'Importance': importances\n",
        "}).sort_values(by='Importance', ascending=False)\n",
        "\n",
        "print(feature_importance_df)"
      ],
      "metadata": {
        "colab": {
          "base_uri": "https://localhost:8080/"
        },
        "id": "MgD-_Cinxt4u",
        "outputId": "3ef2dfd8-0652-4248-d349-7a0842b1006e"
      },
      "execution_count": 25,
      "outputs": [
        {
          "output_type": "stream",
          "name": "stdout",
          "text": [
            "                    Feature  Importance\n",
            "23               worst area    0.153892\n",
            "27     worst concave points    0.144663\n",
            "7       mean concave points    0.106210\n",
            "20             worst radius    0.077987\n",
            "6            mean concavity    0.068001\n",
            "22          worst perimeter    0.067115\n",
            "2            mean perimeter    0.053270\n",
            "0               mean radius    0.048703\n",
            "3                 mean area    0.047555\n",
            "26          worst concavity    0.031802\n",
            "13               area error    0.022407\n",
            "21            worst texture    0.021749\n",
            "25        worst compactness    0.020266\n",
            "10             radius error    0.020139\n",
            "5          mean compactness    0.013944\n",
            "1              mean texture    0.013591\n",
            "12          perimeter error    0.011303\n",
            "24         worst smoothness    0.010644\n",
            "28           worst symmetry    0.010120\n",
            "16          concavity error    0.009386\n",
            "4           mean smoothness    0.007285\n",
            "19  fractal dimension error    0.005321\n",
            "15        compactness error    0.005253\n",
            "29  worst fractal dimension    0.005210\n",
            "11            texture error    0.004724\n",
            "14         smoothness error    0.004271\n",
            "18           symmetry error    0.004018\n",
            "9    mean fractal dimension    0.003886\n",
            "8             mean symmetry    0.003770\n",
            "17     concave points error    0.003513\n"
          ]
        }
      ]
    },
    {
      "cell_type": "code",
      "source": [
        "# 24.\n",
        "\n",
        "from sklearn.datasets import load_diabetes\n",
        "from sklearn.model_selection import train_test_split\n",
        "from sklearn.tree import DecisionTreeRegressor\n",
        "from sklearn.ensemble import RandomForestRegressor\n",
        "from sklearn.metrics import mean_squared_error, r2_score\n",
        "\n",
        "data = load_diabetes()\n",
        "X = data.data\n",
        "y = data.target\n",
        "\n",
        "X_train, X_test, y_train, y_test = train_test_split(X, y, test_size=0.2, random_state=42)\n",
        "\n",
        "dt_model = DecisionTreeRegressor(random_state=42)\n",
        "dt_model.fit(X_train, y_train)\n",
        "dt_pred = dt_model.predict(X_test)\n",
        "\n",
        "rf_model = RandomForestRegressor(n_estimators=100, random_state=42)\n",
        "rf_model.fit(X_train, y_train)\n",
        "rf_pred = rf_model.predict(X_test)\n",
        "\n",
        "dt_mse = mean_squared_error(y_test, dt_pred)\n",
        "rf_mse = mean_squared_error(y_test, rf_pred)\n",
        "\n",
        "dt_r2 = r2_score(y_test, dt_pred)\n",
        "rf_r2 = r2_score(y_test, rf_pred)\n",
        "\n",
        "print(\"Decision Tree Regressor:\")\n",
        "print(\"  Mean Squared Error:\", round(dt_mse, 2))\n",
        "print(\"  R² Score:\", round(dt_r2, 2))\n",
        "\n",
        "print(\"\\nRandom Forest Regressor:\")\n",
        "print(\"  Mean Squared Error:\", round(rf_mse, 2))\n",
        "print(\"  R² Score:\", round(rf_r2, 2))\n"
      ],
      "metadata": {
        "colab": {
          "base_uri": "https://localhost:8080/"
        },
        "id": "MAjfo-0jx7Pt",
        "outputId": "0665cb46-4c15-4efa-87ea-7bb9291c4eda"
      },
      "execution_count": 26,
      "outputs": [
        {
          "output_type": "stream",
          "name": "stdout",
          "text": [
            "Decision Tree Regressor:\n",
            "  Mean Squared Error: 4976.8\n",
            "  R² Score: 0.06\n",
            "\n",
            "Random Forest Regressor:\n",
            "  Mean Squared Error: 2952.01\n",
            "  R² Score: 0.44\n"
          ]
        }
      ]
    },
    {
      "cell_type": "code",
      "source": [
        "# 25.\n",
        "\n",
        "from sklearn.datasets import load_breast_cancer\n",
        "from sklearn.ensemble import RandomForestClassifier\n",
        "from sklearn.model_selection import train_test_split\n",
        "\n",
        "data = load_breast_cancer()\n",
        "X = data.data\n",
        "y = data.target\n",
        "\n",
        "X_train, X_test, y_train, y_test = train_test_split(X, y, test_size=0.2, random_state=42)\n",
        "\n",
        "model = RandomForestClassifier(\n",
        "    n_estimators=100,\n",
        "    oob_score=True,\n",
        "    bootstrap=True,\n",
        "    random_state=42\n",
        ")\n",
        "\n",
        "model.fit(X_train, y_train)\n",
        "\n",
        "print(\"OOB Score:\", round(model.oob_score_ * 100, 2), \"%\")\n"
      ],
      "metadata": {
        "colab": {
          "base_uri": "https://localhost:8080/"
        },
        "id": "D52YqCH3yG6s",
        "outputId": "7e7be955-14fe-46ed-929d-075b2e1976fe"
      },
      "execution_count": 27,
      "outputs": [
        {
          "output_type": "stream",
          "name": "stdout",
          "text": [
            "OOB Score: 95.6 %\n"
          ]
        }
      ]
    },
    {
      "cell_type": "code",
      "source": [
        "# 26.\n",
        "\n",
        "from sklearn.datasets import load_iris\n",
        "from sklearn.model_selection import train_test_split\n",
        "from sklearn.ensemble import BaggingClassifier\n",
        "from sklearn.svm import SVC\n",
        "from sklearn.metrics import accuracy_score\n",
        "\n",
        "data = load_iris()\n",
        "X = data.data\n",
        "y = data.target\n",
        "\n",
        "X_train, X_test, y_train, y_test = train_test_split(X, y, test_size=0.2, random_state=42)\n",
        "\n",
        "model = BaggingClassifier(\n",
        "    estimator=SVC(),\n",
        "    n_estimators=10,\n",
        "    random_state=42\n",
        ")\n",
        "\n",
        "model.fit(X_train, y_train)\n",
        "\n",
        "y_pred = model.predict(X_test)\n",
        "\n",
        "accuracy = accuracy_score(y_test, y_pred)\n",
        "print(\"Bagging Classifier (SVM base) Accuracy:\", round(accuracy * 100, 2), \"%\")\n"
      ],
      "metadata": {
        "colab": {
          "base_uri": "https://localhost:8080/"
        },
        "id": "5zYYGBr3yVaA",
        "outputId": "6622b95a-ec5f-47e7-fc36-c10f87e2866f"
      },
      "execution_count": 28,
      "outputs": [
        {
          "output_type": "stream",
          "name": "stdout",
          "text": [
            "Bagging Classifier (SVM base) Accuracy: 100.0 %\n"
          ]
        }
      ]
    },
    {
      "cell_type": "code",
      "source": [
        "# 27.\n",
        "\n",
        "from sklearn.datasets import load_breast_cancer\n",
        "from sklearn.ensemble import RandomForestClassifier\n",
        "from sklearn.model_selection import train_test_split\n",
        "from sklearn.metrics import accuracy_score\n",
        "\n",
        "data = load_breast_cancer()\n",
        "X = data.data\n",
        "y = data.target\n",
        "\n",
        "X_train, X_test, y_train, y_test = train_test_split(X, y, test_size=0.2, random_state=42)\n",
        "\n",
        "n_estimators_list = [1, 10, 50, 100, 200]\n",
        "results = {}\n",
        "\n",
        "for n in n_estimators_list:\n",
        "    model = RandomForestClassifier(n_estimators=n, random_state=42)\n",
        "    model.fit(X_train, y_train)\n",
        "    y_pred = model.predict(X_test)\n",
        "    accuracy = accuracy_score(y_test, y_pred)\n",
        "    results[n] = round(accuracy * 100, 2)\n",
        "\n",
        "print(\"Random Forest Accuracy for different number of trees:\")\n",
        "for n, acc in results.items():\n",
        "    print(f\"  n_estimators = {n}: Accuracy = {acc}%\")\n"
      ],
      "metadata": {
        "colab": {
          "base_uri": "https://localhost:8080/"
        },
        "id": "ErNSsVRRyf7i",
        "outputId": "d6df0444-9f03-4412-a60e-c172d962a1bd"
      },
      "execution_count": 29,
      "outputs": [
        {
          "output_type": "stream",
          "name": "stdout",
          "text": [
            "Random Forest Accuracy for different number of trees:\n",
            "  n_estimators = 1: Accuracy = 93.86%\n",
            "  n_estimators = 10: Accuracy = 95.61%\n",
            "  n_estimators = 50: Accuracy = 96.49%\n",
            "  n_estimators = 100: Accuracy = 96.49%\n",
            "  n_estimators = 200: Accuracy = 96.49%\n"
          ]
        }
      ]
    },
    {
      "cell_type": "code",
      "source": [
        "# 28.\n",
        "\n",
        "from sklearn.datasets import load_breast_cancer\n",
        "from sklearn.ensemble import BaggingClassifier\n",
        "from sklearn.linear_model import LogisticRegression\n",
        "from sklearn.model_selection import train_test_split\n",
        "from sklearn.metrics import roc_auc_score\n",
        "\n",
        "data = load_breast_cancer()\n",
        "X = data.data\n",
        "y = data.target\n",
        "\n",
        "X_train, X_test, y_train, y_test = train_test_split(X, y, test_size=0.2, random_state=42)\n",
        "\n",
        "model = BaggingClassifier(\n",
        "    estimator=LogisticRegression(max_iter=1000, solver='liblinear'),\n",
        "    n_estimators=10,\n",
        "    random_state=42\n",
        ")\n",
        "\n",
        "model.fit(X_train, y_train)\n",
        "\n",
        "y_prob = model.predict_proba(X_test)[:, 1]\n",
        "\n",
        "auc_score = roc_auc_score(y_test, y_prob)\n",
        "print(\"Bagging Classifier (Logistic Regression base) AUC Score:\", round(auc_score, 4))\n"
      ],
      "metadata": {
        "colab": {
          "base_uri": "https://localhost:8080/"
        },
        "id": "NswH8by7ysJO",
        "outputId": "09403dd9-f75d-4054-b0c5-1bf344716594"
      },
      "execution_count": 30,
      "outputs": [
        {
          "output_type": "stream",
          "name": "stdout",
          "text": [
            "Bagging Classifier (Logistic Regression base) AUC Score: 0.9974\n"
          ]
        }
      ]
    },
    {
      "cell_type": "code",
      "source": [
        "# 29.\n",
        "\n",
        "from sklearn.datasets import fetch_california_housing\n",
        "from sklearn.ensemble import RandomForestRegressor\n",
        "from sklearn.model_selection import train_test_split\n",
        "import pandas as pd\n",
        "\n",
        "data = fetch_california_housing()\n",
        "X = data.data\n",
        "y = data.target\n",
        "feature_names = data.feature_names\n",
        "\n",
        "X_train, X_test, y_train, y_test = train_test_split(X, y, test_size=0.2, random_state=42)\n",
        "\n",
        "model = RandomForestRegressor(n_estimators=100, random_state=42)\n",
        "model.fit(X_train, y_train)\n",
        "\n",
        "importances = model.feature_importances_\n",
        "\n",
        "importance_df = pd.DataFrame({\n",
        "    'Feature': feature_names,\n",
        "    'Importance': importances\n",
        "}).sort_values(by='Importance', ascending=False)\n",
        "\n",
        "print(\"Feature Importances from Random Forest Regressor:\\n\")\n",
        "print(importance_df)"
      ],
      "metadata": {
        "colab": {
          "base_uri": "https://localhost:8080/"
        },
        "id": "HfRLKqKzy3FY",
        "outputId": "aa08c4bb-d5f7-42ac-da28-42fccc7df066"
      },
      "execution_count": 31,
      "outputs": [
        {
          "output_type": "stream",
          "name": "stdout",
          "text": [
            "Feature Importances from Random Forest Regressor:\n",
            "\n",
            "      Feature  Importance\n",
            "0      MedInc    0.524871\n",
            "5    AveOccup    0.138443\n",
            "6    Latitude    0.088936\n",
            "7   Longitude    0.088629\n",
            "1    HouseAge    0.054593\n",
            "2    AveRooms    0.044272\n",
            "4  Population    0.030650\n",
            "3   AveBedrms    0.029606\n"
          ]
        }
      ]
    },
    {
      "cell_type": "code",
      "source": [
        "# 30.\n",
        "\n",
        "from sklearn.datasets import load_breast_cancer\n",
        "from sklearn.ensemble import BaggingClassifier, RandomForestClassifier\n",
        "from sklearn.tree import DecisionTreeClassifier\n",
        "from sklearn.model_selection import train_test_split\n",
        "from sklearn.metrics import accuracy_score\n",
        "\n",
        "data = load_breast_cancer()\n",
        "X = data.data\n",
        "y = data.target\n",
        "\n",
        "X_train, X_test, y_train, y_test = train_test_split(X, y, test_size=0.2, random_state=42)\n",
        "\n",
        "bagging_model = BaggingClassifier(\n",
        "    estimator=DecisionTreeClassifier(),\n",
        "    n_estimators=100,\n",
        "    random_state=42\n",
        ")\n",
        "bagging_model.fit(X_train, y_train)\n",
        "bagging_preds = bagging_model.predict(X_test)\n",
        "bagging_acc = accuracy_score(y_test, bagging_preds)\n",
        "\n",
        "rf_model = RandomForestClassifier(n_estimators=100, random_state=42)\n",
        "rf_model.fit(X_train, y_train)\n",
        "rf_preds = rf_model.predict(X_test)\n",
        "rf_acc = accuracy_score(y_test, rf_preds)\n",
        "\n",
        "print(\"Bagging Classifier Accuracy:\", round(bagging_acc * 100, 2), \"%\")\n",
        "print(\"Random Forest Classifier Accuracy:\", round(rf_acc * 100, 2), \"%\")\n"
      ],
      "metadata": {
        "colab": {
          "base_uri": "https://localhost:8080/"
        },
        "id": "XWesCGxWzEHR",
        "outputId": "cbcba77b-d29b-45bb-f8f9-9a363715e89c"
      },
      "execution_count": 32,
      "outputs": [
        {
          "output_type": "stream",
          "name": "stdout",
          "text": [
            "Bagging Classifier Accuracy: 95.61 %\n",
            "Random Forest Classifier Accuracy: 96.49 %\n"
          ]
        }
      ]
    },
    {
      "cell_type": "code",
      "source": [
        "# 31.\n",
        "\n",
        "from sklearn.datasets import load_breast_cancer\n",
        "from sklearn.ensemble import RandomForestClassifier\n",
        "from sklearn.model_selection import GridSearchCV, train_test_split\n",
        "from sklearn.metrics import accuracy_score\n",
        "\n",
        "data = load_breast_cancer()\n",
        "X = data.data\n",
        "y = data.target\n",
        "\n",
        "X_train, X_test, y_train, y_test = train_test_split(X, y, test_size=0.2, random_state=42)\n",
        "\n",
        "rf = RandomForestClassifier(random_state=42)\n",
        "\n",
        "param_grid = {\n",
        "    'n_estimators': [50, 100, 200],\n",
        "    'max_depth': [None, 10, 20],\n",
        "    'min_samples_split': [2, 5, 10]\n",
        "}\n",
        "\n",
        "grid_search = GridSearchCV(estimator=rf, param_grid=param_grid,\n",
        "                           cv=5, scoring='accuracy', n_jobs=-1, verbose=1)\n",
        "\n",
        "grid_search.fit(X_train, y_train)\n",
        "\n",
        "best_model = grid_search.best_estimator_\n",
        "print(\"Best Parameters:\", grid_search.best_params_)\n",
        "\n",
        "y_pred = best_model.predict(X_test)\n",
        "accuracy = accuracy_score(y_test, y_pred)\n",
        "print(\"Test Accuracy with Best Parameters:\", round(accuracy * 100, 2), \"%\")\n"
      ],
      "metadata": {
        "colab": {
          "base_uri": "https://localhost:8080/"
        },
        "id": "J3iSDnVxzO9k",
        "outputId": "aac9c02f-5803-4b9f-a4d3-39ab08c1dcc8"
      },
      "execution_count": 33,
      "outputs": [
        {
          "output_type": "stream",
          "name": "stdout",
          "text": [
            "Fitting 5 folds for each of 27 candidates, totalling 135 fits\n",
            "Best Parameters: {'max_depth': None, 'min_samples_split': 2, 'n_estimators': 200}\n",
            "Test Accuracy with Best Parameters: 96.49 %\n"
          ]
        }
      ]
    },
    {
      "cell_type": "code",
      "source": [
        "# 32.\n",
        "\n",
        "from sklearn.datasets import fetch_california_housing\n",
        "from sklearn.ensemble import BaggingRegressor\n",
        "from sklearn.tree import DecisionTreeRegressor\n",
        "from sklearn.model_selection import train_test_split\n",
        "from sklearn.metrics import mean_squared_error\n",
        "import matplotlib.pyplot as plt\n",
        "\n",
        "data = fetch_california_housing()\n",
        "X = data.data\n",
        "y = data.target\n",
        "\n",
        "X_train, X_test, y_train, y_test = train_test_split(X, y, test_size=0.2, random_state=42)\n",
        "\n",
        "n_estimators_list = [1, 5, 10, 20, 50, 100]\n",
        "mse_list = []\n",
        "\n",
        "for n in n_estimators_list:\n",
        "    model = BaggingRegressor(\n",
        "        estimator=DecisionTreeRegressor(),\n",
        "        n_estimators=n,\n",
        "        random_state=42\n",
        "    )\n",
        "    model.fit(X_train, y_train)\n",
        "    preds = model.predict(X_test)\n",
        "    mse = mean_squared_error(y_test, preds)\n",
        "    mse_list.append(mse)\n",
        "    print(f\"Estimators: {n} => MSE: {round(mse, 4)}\")\n",
        "\n",
        "plt.figure(figsize=(8, 5))\n",
        "plt.plot(n_estimators_list, mse_list, marker='o')\n",
        "plt.xlabel(\"Number of Base Estimators\")\n",
        "plt.ylabel(\"Mean Squared Error\")\n",
        "plt.title(\"Bagging Regressor Performance vs Number of Estimators\")\n",
        "plt.grid(True)\n",
        "plt.show()\n"
      ],
      "metadata": {
        "colab": {
          "base_uri": "https://localhost:8080/",
          "height": 555
        },
        "id": "QUX_VN1wzZqd",
        "outputId": "330c18e0-ff56-4a86-fe85-e8b2aa509af2"
      },
      "execution_count": 34,
      "outputs": [
        {
          "output_type": "stream",
          "name": "stdout",
          "text": [
            "Estimators: 1 => MSE: 0.5501\n",
            "Estimators: 5 => MSE: 0.306\n",
            "Estimators: 10 => MSE: 0.2824\n",
            "Estimators: 20 => MSE: 0.2643\n",
            "Estimators: 50 => MSE: 0.2573\n",
            "Estimators: 100 => MSE: 0.2559\n"
          ]
        },
        {
          "output_type": "display_data",
          "data": {
            "text/plain": [
              "<Figure size 800x500 with 1 Axes>"
            ],
            "image/png": "[encoded data removed]"
          },
          "metadata": {}
        }
      ]
    },
    {
      "cell_type": "code",
      "source": [
        "# 33.\n",
        "\n",
        "from sklearn.datasets import load_breast_cancer\n",
        "from sklearn.ensemble import RandomForestClassifier\n",
        "from sklearn.model_selection import train_test_split\n",
        "from sklearn.metrics import classification_report, confusion_matrix\n",
        "import pandas as pd\n",
        "\n",
        "data = load_breast_cancer()\n",
        "X = pd.DataFrame(data.data, columns=data.feature_names)\n",
        "y = pd.Series(data.target)\n",
        "\n",
        "X_train, X_test, y_train, y_test = train_test_split(X, y, test_size=0.2, random_state=42)\n",
        "\n",
        "rf = RandomForestClassifier(n_estimators=100, random_state=42)\n",
        "rf.fit(X_train, y_train)\n",
        "\n",
        "y_pred = rf.predict(X_test)\n",
        "\n",
        "misclassified = X_test[y_pred != y_test]\n",
        "true_labels = y_test[y_pred != y_test]\n",
        "predicted_labels = pd.Series(y_pred, index=y_test.index)[y_pred != y_test]\n",
        "\n",
        "misclassified_df = misclassified.copy()\n",
        "misclassified_df['True Label'] = true_labels\n",
        "misclassified_df['Predicted Label'] = predicted_labels\n",
        "\n",
        "print(\"Classification Report:\\n\")\n",
        "print(classification_report(y_test, y_pred))\n",
        "\n",
        "print(\"\\nNumber of Misclassified Samples:\", len(misclassified_df))\n",
        "print(\"\\nMisclassified Samples:\\n\")\n",
        "print(misclassified_df.head())"
      ],
      "metadata": {
        "colab": {
          "base_uri": "https://localhost:8080/"
        },
        "id": "s9lgMd5DzhIh",
        "outputId": "4a961b74-ba46-4b1e-b2f1-f36bd5f5bd48"
      },
      "execution_count": 35,
      "outputs": [
        {
          "output_type": "stream",
          "name": "stdout",
          "text": [
            "Classification Report:\n",
            "\n",
            "              precision    recall  f1-score   support\n",
            "\n",
            "           0       0.98      0.93      0.95        43\n",
            "           1       0.96      0.99      0.97        71\n",
            "\n",
            "    accuracy                           0.96       114\n",
            "   macro avg       0.97      0.96      0.96       114\n",
            "weighted avg       0.97      0.96      0.96       114\n",
            "\n",
            "\n",
            "Number of Misclassified Samples: 4\n",
            "\n",
            "Misclassified Samples:\n",
            "\n",
            "     mean radius  mean texture  mean perimeter  mean area  mean smoothness  \\\n",
            "81         13.34         15.86           86.49      520.0          0.10780   \n",
            "73         13.80         15.79           90.43      584.1          0.10070   \n",
            "255        13.96         17.05           91.43      602.4          0.10960   \n",
            "86         14.48         21.46           94.25      648.2          0.09444   \n",
            "\n",
            "     mean compactness  mean concavity  mean concave points  mean symmetry  \\\n",
            "81            0.15350         0.11690              0.06987         0.1942   \n",
            "73            0.12800         0.07789              0.05069         0.1662   \n",
            "255           0.12790         0.09789              0.05246         0.1908   \n",
            "86            0.09947         0.12040              0.04938         0.2075   \n",
            "\n",
            "     mean fractal dimension  ...  worst perimeter  worst area  \\\n",
            "81                  0.06902  ...            96.66       614.9   \n",
            "73                  0.06566  ...           110.30       812.4   \n",
            "255                 0.06130  ...           108.10       826.0   \n",
            "86                  0.05636  ...           108.40       808.9   \n",
            "\n",
            "     worst smoothness  worst compactness  worst concavity  \\\n",
            "81             0.1536             0.4791           0.4858   \n",
            "73             0.1411             0.3542           0.2779   \n",
            "255            0.1512             0.3262           0.3209   \n",
            "86             0.1306             0.1976           0.3349   \n",
            "\n",
            "     worst concave points  worst symmetry  worst fractal dimension  \\\n",
            "81                 0.1708          0.3527                  0.10160   \n",
            "73                 0.1383          0.2589                  0.10300   \n",
            "255                0.1374          0.3068                  0.07957   \n",
            "86                 0.1225          0.3020                  0.06846   \n",
            "\n",
            "     True Label  Predicted Label  \n",
            "81            1                0  \n",
            "73            0                1  \n",
            "255           0                1  \n",
            "86            0                1  \n",
            "\n",
            "[4 rows x 32 columns]\n"
          ]
        }
      ]
    },
    {
      "cell_type": "code",
      "source": [
        "# 34.\n",
        "\n",
        "from sklearn.datasets import load_breast_cancer\n",
        "from sklearn.model_selection import train_test_split\n",
        "from sklearn.tree import DecisionTreeClassifier\n",
        "from sklearn.ensemble import BaggingClassifier\n",
        "from sklearn.metrics import accuracy_score\n",
        "\n",
        "data = load_breast_cancer()\n",
        "X = data.data\n",
        "y = data.target\n",
        "\n",
        "X_train, X_test, y_train, y_test = train_test_split(X, y, test_size=0.2, random_state=42)\n",
        "\n",
        "dt = DecisionTreeClassifier(random_state=42)\n",
        "dt.fit(X_train, y_train)\n",
        "dt_preds = dt.predict(X_test)\n",
        "dt_accuracy = accuracy_score(y_test, dt_preds)\n",
        "\n",
        "bagging = BaggingClassifier(\n",
        "    estimator=DecisionTreeClassifier(),\n",
        "    n_estimators=50,\n",
        "    random_state=42\n",
        ")\n",
        "bagging.fit(X_train, y_train)\n",
        "bag_preds = bagging.predict(X_test)\n",
        "bag_accuracy = accuracy_score(y_test, bag_preds)\n",
        "\n",
        "print(\"Single Decision Tree Accuracy: {:.2f}%\".format(dt_accuracy * 100))\n",
        "print(\"Bagging Classifier Accuracy: {:.2f}%\".format(bag_accuracy * 100))"
      ],
      "metadata": {
        "colab": {
          "base_uri": "https://localhost:8080/"
        },
        "id": "JURF-W8WzxXO",
        "outputId": "7bbab0ae-e46d-4ae6-895b-c2cdb32ebed9"
      },
      "execution_count": 36,
      "outputs": [
        {
          "output_type": "stream",
          "name": "stdout",
          "text": [
            "Single Decision Tree Accuracy: 94.74%\n",
            "Bagging Classifier Accuracy: 95.61%\n"
          ]
        }
      ]
    },
    {
      "cell_type": "code",
      "source": [
        "# 35.\n",
        "\n",
        "from sklearn.datasets import load_breast_cancer\n",
        "from sklearn.model_selection import train_test_split\n",
        "from sklearn.ensemble import RandomForestClassifier\n",
        "from sklearn.metrics import confusion_matrix, ConfusionMatrixDisplay, accuracy_score\n",
        "import matplotlib.pyplot as plt\n",
        "\n",
        "data = load_breast_cancer()\n",
        "X = data.data\n",
        "y = data.target\n",
        "\n",
        "X_train, X_test, y_train, y_test = train_test_split(X, y, test_size=0.2, random_state=42)\n",
        "\n",
        "rf = RandomForestClassifier(n_estimators=100, random_state=42)\n",
        "rf.fit(X_train, y_train)\n",
        "\n",
        "y_pred = rf.predict(X_test)\n",
        "\n",
        "cm = confusion_matrix(y_test, y_pred)\n",
        "disp = ConfusionMatrixDisplay(confusion_matrix=cm, display_labels=data.target_names)\n",
        "disp.plot(cmap='Blues')\n",
        "\n",
        "print(\"Accuracy: {:.2f}%\".format(accuracy_score(y_test, y_pred) * 100))\n",
        "\n",
        "plt.title(\"Random Forest Confusion Matrix\")\n",
        "plt.show()\n"
      ],
      "metadata": {
        "colab": {
          "base_uri": "https://localhost:8080/",
          "height": 489
        },
        "id": "PVdXjn5Dz7C7",
        "outputId": "c62be435-278d-4bad-c9da-cafcc7f72207"
      },
      "execution_count": 38,
      "outputs": [
        {
          "output_type": "stream",
          "name": "stdout",
          "text": [
            "Accuracy: 96.49%\n"
          ]
        },
        {
          "output_type": "display_data",
          "data": {
            "text/plain": [
              "<Figure size 640x480 with 2 Axes>"
            ],
            "image/png": "[encoded data removed]"
          },
          "metadata": {}
        }
      ]
    },
    {
      "cell_type": "code",
      "source": [
        "# 36.\n",
        "\n",
        "from logging import warning\n",
        "from sklearn.datasets import load_breast_cancer\n",
        "from sklearn.model_selection import train_test_split\n",
        "from sklearn.ensemble import StackingClassifier\n",
        "from sklearn.linear_model import LogisticRegression\n",
        "from sklearn.tree import DecisionTreeClassifier\n",
        "from sklearn.svm import SVC\n",
        "from sklearn.metrics import accuracy_score\n",
        "import warnings\n",
        "warnings.filterwarnings(\"ignore\")\n",
        "\n",
        "data = load_breast_cancer()\n",
        "X = data.data\n",
        "y = data.target\n",
        "\n",
        "X_train, X_test, y_train, y_test = train_test_split(X, y, test_size=0.2, random_state=42)\n",
        "\n",
        "base_estimators = [\n",
        "    ('dt', DecisionTreeClassifier(random_state=42)),\n",
        "    ('svm', SVC(probability=True, random_state=42)),\n",
        "    ('lr', LogisticRegression(max_iter=1000, random_state=42))\n",
        "]\n",
        "\n",
        "final_estimator = LogisticRegression(max_iter=1000, random_state=42)\n",
        "\n",
        "stacking_model = StackingClassifier(\n",
        "    estimators=base_estimators,\n",
        "    final_estimator=final_estimator,\n",
        "    cv=5\n",
        ")\n",
        "\n",
        "stacking_model.fit(X_train, y_train)\n",
        "stack_pred = stacking_model.predict(X_test)\n",
        "stack_acc = accuracy_score(y_test, stack_pred)\n",
        "\n",
        "dt = DecisionTreeClassifier(random_state=42)\n",
        "svm = SVC(probability=True, random_state=42)\n",
        "lr = LogisticRegression(max_iter=1000, random_state=42)\n",
        "\n",
        "dt.fit(X_train, y_train)\n",
        "svm.fit(X_train, y_train)\n",
        "lr.fit(X_train, y_train)\n",
        "\n",
        "dt_acc = accuracy_score(y_test, dt.predict(X_test))\n",
        "svm_acc = accuracy_score(y_test, svm.predict(X_test))\n",
        "lr_acc = accuracy_score(y_test, lr.predict(X_test))\n",
        "\n",
        "print(f\"Decision Tree Accuracy: {dt_acc:.2f}\")\n",
        "print(f\"SVM Accuracy: {svm_acc:.2f}\")\n",
        "print(f\"Logistic Regression Accuracy: {lr_acc:.2f}\")\n",
        "print(f\"Stacking Classifier Accuracy: {stack_acc:.2f}\")\n"
      ],
      "metadata": {
        "colab": {
          "base_uri": "https://localhost:8080/"
        },
        "id": "eaHYU1wr0CKp",
        "outputId": "00a0455d-f87c-4119-8faa-edfeac30f041"
      },
      "execution_count": 41,
      "outputs": [
        {
          "output_type": "stream",
          "name": "stdout",
          "text": [
            "Decision Tree Accuracy: 0.95\n",
            "SVM Accuracy: 0.95\n",
            "Logistic Regression Accuracy: 0.96\n",
            "Stacking Classifier Accuracy: 0.96\n"
          ]
        }
      ]
    },
    {
      "cell_type": "code",
      "source": [
        "# 37.\n",
        "\n",
        "from sklearn.datasets import load_breast_cancer\n",
        "from sklearn.ensemble import RandomForestClassifier\n",
        "from sklearn.model_selection import train_test_split\n",
        "import pandas as pd\n",
        "import numpy as np\n",
        "\n",
        "data = load_breast_cancer()\n",
        "X = data.data\n",
        "y = data.target\n",
        "feature_names = data.feature_names\n",
        "\n",
        "X_train, X_test, y_train, y_test = train_test_split(X, y, test_size=0.2, random_state=42)\n",
        "\n",
        "rf = RandomForestClassifier(n_estimators=100, random_state=42)\n",
        "rf.fit(X_train, y_train)\n",
        "\n",
        "importances = rf.feature_importances_\n",
        "\n",
        "feat_df = pd.DataFrame({\n",
        "    'Feature': feature_names,\n",
        "    'Importance': importances\n",
        "})\n",
        "\n",
        "top_features = feat_df.sort_values(by='Importance', ascending=False).head(5)\n",
        "print(\"Top 5 Most Important Features:\")\n",
        "print(top_features.to_string(index=False))"
      ],
      "metadata": {
        "colab": {
          "base_uri": "https://localhost:8080/"
        },
        "id": "atUkEtQZ0WRy",
        "outputId": "c5a92398-8de3-48d6-dadf-ea68a58eb655"
      },
      "execution_count": 42,
      "outputs": [
        {
          "output_type": "stream",
          "name": "stdout",
          "text": [
            "Top 5 Most Important Features:\n",
            "             Feature  Importance\n",
            "          worst area    0.153892\n",
            "worst concave points    0.144663\n",
            " mean concave points    0.106210\n",
            "        worst radius    0.077987\n",
            "      mean concavity    0.068001\n"
          ]
        }
      ]
    },
    {
      "cell_type": "code",
      "source": [
        "# 38.\n",
        "\n",
        "from sklearn.datasets import load_breast_cancer\n",
        "from sklearn.ensemble import BaggingClassifier\n",
        "from sklearn.tree import DecisionTreeClassifier\n",
        "from sklearn.model_selection import train_test_split\n",
        "from sklearn.metrics import precision_score, recall_score, f1_score, classification_report\n",
        "\n",
        "data = load_breast_cancer()\n",
        "X = data.data\n",
        "y = data.target\n",
        "\n",
        "X_train, X_test, y_train, y_test = train_test_split(X, y, test_size=0.2, random_state=42)\n",
        "\n",
        "model = BaggingClassifier(\n",
        "    estimator=DecisionTreeClassifier(),\n",
        "    n_estimators=50,\n",
        "    random_state=42\n",
        ")\n",
        "\n",
        "model.fit(X_train, y_train)\n",
        "\n",
        "y_pred = model.predict(X_test)\n",
        "\n",
        "print(\"Classification Report:\\n\")\n",
        "print(classification_report(y_test, y_pred, target_names=data.target_names))"
      ],
      "metadata": {
        "colab": {
          "base_uri": "https://localhost:8080/"
        },
        "id": "Lr22QMvk0yc3",
        "outputId": "73b43612-eb09-4896-fd0a-195a64facebc"
      },
      "execution_count": 43,
      "outputs": [
        {
          "output_type": "stream",
          "name": "stdout",
          "text": [
            "Classification Report:\n",
            "\n",
            "              precision    recall  f1-score   support\n",
            "\n",
            "   malignant       0.95      0.93      0.94        43\n",
            "      benign       0.96      0.97      0.97        71\n",
            "\n",
            "    accuracy                           0.96       114\n",
            "   macro avg       0.96      0.95      0.95       114\n",
            "weighted avg       0.96      0.96      0.96       114\n",
            "\n"
          ]
        }
      ]
    },
    {
      "cell_type": "code",
      "source": [
        "# 39.\n",
        "\n",
        "import matplotlib.pyplot as plt\n",
        "from sklearn.datasets import load_breast_cancer\n",
        "from sklearn.ensemble import RandomForestClassifier\n",
        "from sklearn.model_selection import train_test_split\n",
        "from sklearn.metrics import accuracy_score\n",
        "\n",
        "data = load_breast_cancer()\n",
        "X = data.data\n",
        "y = data.target\n",
        "\n",
        "X_train, X_test, y_train, y_test = train_test_split(X, y, test_size=0.2, random_state=42)\n",
        "\n",
        "depths = range(1, 21)\n",
        "accuracies = []\n",
        "\n",
        "for depth in depths:\n",
        "    model = RandomForestClassifier(max_depth=depth, n_estimators=100, random_state=42)\n",
        "    model.fit(X_train, y_train)\n",
        "    y_pred = model.predict(X_test)\n",
        "    acc = accuracy_score(y_test, y_pred)\n",
        "    accuracies.append(acc)\n",
        "\n",
        "plt.figure(figsize=(8, 5))\n",
        "plt.plot(depths, accuracies, marker='o', linestyle='-', color='blue')"
      ],
      "metadata": {
        "colab": {
          "base_uri": "https://localhost:8080/",
          "height": 435
        },
        "id": "bSEdboHT0-Hp",
        "outputId": "2ba9be9d-54b1-4a51-8e8b-a406ec0e3352"
      },
      "execution_count": 44,
      "outputs": [
        {
          "output_type": "execute_result",
          "data": {
            "text/plain": [
              "[<matplotlib.lines.Line2D at 0x7f1a1834a890>]"
            ]
          },
          "metadata": {},
          "execution_count": 44
        },
        {
          "output_type": "display_data",
          "data": {
            "text/plain": [
              "<Figure size 800x500 with 1 Axes>"
            ],
            "image/png": "[encoded data removed]"
          },
          "metadata": {}
        }
      ]
    },
    {
      "cell_type": "code",
      "source": [
        "# 40.\n",
        "\n",
        "from sklearn.datasets import fetch_california_housing\n",
        "from sklearn.ensemble import BaggingRegressor\n",
        "from sklearn.tree import DecisionTreeRegressor\n",
        "from sklearn.neighbors import KNeighborsRegressor\n",
        "from sklearn.model_selection import train_test_split\n",
        "from sklearn.metrics import mean_squared_error\n",
        "\n",
        "data = fetch_california_housing()\n",
        "X = data.data\n",
        "y = data.target\n",
        "\n",
        "X_train, X_test, y_train, y_test = train_test_split(X, y, test_size=0.2, random_state=42)\n",
        "\n",
        "bagging_dt = BaggingRegressor(\n",
        "    estimator=DecisionTreeRegressor(),\n",
        "    n_estimators=50,\n",
        "    random_state=42\n",
        ")\n",
        "bagging_dt.fit(X_train, y_train)\n",
        "pred_dt = bagging_dt.predict(X_test)\n",
        "mse_dt = mean_squared_error(y_test, pred_dt)\n",
        "\n",
        "bagging_knn = BaggingRegressor(\n",
        "    estimator=KNeighborsRegressor(),\n",
        "    n_estimators=50,\n",
        "    random_state=42\n",
        ")\n",
        "bagging_knn.fit(X_train, y_train)\n",
        "pred_knn = bagging_knn.predict(X_test)\n",
        "mse_knn = mean_squared_error(y_test, pred_knn)\n",
        "\n",
        "print(f\"Bagging Regressor with Decision Tree MSE: {mse_dt:.4f}\")\n",
        "print(f\"Bagging Regressor with KNN MSE: {mse_knn:.4f}\")"
      ],
      "metadata": {
        "colab": {
          "base_uri": "https://localhost:8080/"
        },
        "id": "AbiyyZGF1J7e",
        "outputId": "3f9dca5e-b7d0-449b-b052-bf43190ef48d"
      },
      "execution_count": 46,
      "outputs": [
        {
          "output_type": "stream",
          "name": "stdout",
          "text": [
            "Bagging Regressor with Decision Tree MSE: 0.2573\n",
            "Bagging Regressor with KNN MSE: 1.0763\n"
          ]
        }
      ]
    },
    {
      "cell_type": "code",
      "source": [
        "# 41.\n",
        "\n",
        "from sklearn.datasets import load_breast_cancer\n",
        "from sklearn.ensemble import RandomForestClassifier\n",
        "from sklearn.model_selection import train_test_split\n",
        "from sklearn.metrics import roc_auc_score\n",
        "\n",
        "data = load_breast_cancer()\n",
        "X = data.data\n",
        "y = data.target\n",
        "\n",
        "X_train, X_test, y_train, y_test = train_test_split(X, y, test_size=0.2, random_state=42)\n",
        "\n",
        "rf = RandomForestClassifier(n_estimators=100, random_state=42)\n",
        "rf.fit(X_train, y_train)\n",
        "\n",
        "y_proba = rf.predict_proba(X_test)[:, 1]\n",
        "\n",
        "roc_auc = roc_auc_score(y_test, y_proba)\n",
        "print(f\"ROC-AUC Score: {roc_auc:.4f}\")\n"
      ],
      "metadata": {
        "colab": {
          "base_uri": "https://localhost:8080/"
        },
        "id": "E9U-USwn1UPD",
        "outputId": "9ec99832-512c-480f-e460-da043b60bbcf"
      },
      "execution_count": 47,
      "outputs": [
        {
          "output_type": "stream",
          "name": "stdout",
          "text": [
            "ROC-AUC Score: 0.9953\n"
          ]
        }
      ]
    },
    {
      "cell_type": "code",
      "source": [
        "# 42.\n",
        "\n",
        "from sklearn.datasets import load_breast_cancer\n",
        "from sklearn.ensemble import BaggingClassifier\n",
        "from sklearn.tree import DecisionTreeClassifier\n",
        "from sklearn.model_selection import cross_val_score\n",
        "\n",
        "data = load_breast_cancer()\n",
        "X = data.data\n",
        "y = data.target\n",
        "\n",
        "model = BaggingClassifier(\n",
        "    estimator=DecisionTreeClassifier(),\n",
        "    n_estimators=50,\n",
        "    random_state=42\n",
        ")\n",
        "\n",
        "cv_scores = cross_val_score(model, X, y, cv=5, scoring='accuracy')\n",
        "\n",
        "print(\"Cross-validation accuracies:\", cv_scores)\n",
        "print(\"Mean CV Accuracy: {:.2f}%\".format(cv_scores.mean() * 100))\n",
        "print(\"Standard Deviation: {:.2f}%\".format(cv_scores.std() * 100))"
      ],
      "metadata": {
        "colab": {
          "base_uri": "https://localhost:8080/"
        },
        "id": "6yzu9H_l1epe",
        "outputId": "d71eb143-7850-4579-d262-d04af2b9b29b"
      },
      "execution_count": 48,
      "outputs": [
        {
          "output_type": "stream",
          "name": "stdout",
          "text": [
            "Cross-validation accuracies: [0.9122807  0.92105263 0.98245614 0.95614035 1.        ]\n",
            "Mean CV Accuracy: 95.44%\n",
            "Standard Deviation: 3.39%\n"
          ]
        }
      ]
    },
    {
      "cell_type": "code",
      "source": [
        "# 43.\n",
        "\n",
        "import matplotlib.pyplot as plt\n",
        "from sklearn.datasets import load_breast_cancer\n",
        "from sklearn.ensemble import RandomForestClassifier\n",
        "from sklearn.model_selection import train_test_split\n",
        "from sklearn.metrics import precision_recall_curve, average_precision_score\n",
        "\n",
        "data = load_breast_cancer()\n",
        "X = data.data\n",
        "y = data.target\n",
        "\n",
        "X_train, X_test, y_train, y_test = train_test_split(X, y, test_size=0.2, random_state=42)\n",
        "\n",
        "rf = RandomForestClassifier(n_estimators=100, random_state=42)\n",
        "rf.fit(X_train, y_train)\n",
        "\n",
        "y_scores = rf.predict_proba(X_test)[:, 1]\n",
        "\n",
        "precision, recall, thresholds = precision_recall_curve(y_test, y_scores)\n",
        "avg_precision = average_precision_score(y_test, y_scores)\n",
        "\n",
        "plt.figure(figsize=(8, 6))\n",
        "plt.plot(recall, precision, label=f'AP = {avg_precision:.4f}')\n",
        "plt.xlabel('Recall')\n",
        "plt.ylabel('Precision')\n",
        "plt.title('Precision-Recall Curve for Random Forest Classifier')\n",
        "plt.legend(loc='best')\n",
        "plt.grid(True)\n",
        "plt.show()\n"
      ],
      "metadata": {
        "colab": {
          "base_uri": "https://localhost:8080/",
          "height": 521
        },
        "id": "H0jhFHbP1oA0",
        "outputId": "ac7df7c2-c9fd-40e2-c965-a5e4ca9a9302"
      },
      "execution_count": 49,
      "outputs": [
        {
          "output_type": "display_data",
          "data": {
            "text/plain": [
              "<Figure size 800x600 with 1 Axes>"
            ],
            "image/png": "[encoded data removed]"
          },
          "metadata": {}
        }
      ]
    },
    {
      "cell_type": "code",
      "source": [
        "# 44.\n",
        "\n",
        "from sklearn.datasets import load_breast_cancer\n",
        "from sklearn.ensemble import StackingClassifier, RandomForestClassifier\n",
        "from sklearn.linear_model import LogisticRegression\n",
        "from sklearn.model_selection import train_test_split\n",
        "from sklearn.metrics import accuracy_score\n",
        "\n",
        "data = load_breast_cancer()\n",
        "X = data.data\n",
        "y = data.target\n",
        "\n",
        "X_train, X_test, y_train, y_test = train_test_split(X, y, test_size=0.2, random_state=42)\n",
        "\n",
        "estimators = [\n",
        "    ('rf', RandomForestClassifier(n_estimators=100, random_state=42)),\n",
        "    ('lr', LogisticRegression(max_iter=1000, random_state=42))\n",
        "]\n",
        "\n",
        "stacking_clf = StackingClassifier(\n",
        "    estimators=estimators,\n",
        "    final_estimator=LogisticRegression(max_iter=1000, random_state=42),\n",
        "    cv=5\n",
        ")\n",
        "\n",
        "stacking_clf.fit(X_train, y_train)\n",
        "stack_pred = stacking_clf.predict(X_test)\n",
        "stack_acc = accuracy_score(y_test, stack_pred)\n",
        "\n",
        "rf = RandomForestClassifier(n_estimators=100, random_state=42)\n",
        "lr = LogisticRegression(max_iter=1000, random_state=42)\n",
        "\n",
        "rf.fit(X_train, y_train)\n",
        "lr.fit(X_train, y_train)\n",
        "\n",
        "rf_acc = accuracy_score(y_test, rf.predict(X_test))\n",
        "lr_acc = accuracy_score(y_test, lr.predict(X_test))\n",
        "\n",
        "print(f\"Random Forest Accuracy: {rf_acc:.4f}\")\n",
        "print(f\"Logistic Regression Accuracy: {lr_acc:.4f}\")\n",
        "print(f\"Stacking Classifier Accuracy: {stack_acc:.4f}\")"
      ],
      "metadata": {
        "colab": {
          "base_uri": "https://localhost:8080/"
        },
        "id": "0NGRJ4W61zhF",
        "outputId": "6059b691-ce1a-4ceb-98d3-2896f5792dc0"
      },
      "execution_count": 50,
      "outputs": [
        {
          "output_type": "stream",
          "name": "stdout",
          "text": [
            "Random Forest Accuracy: 0.9649\n",
            "Logistic Regression Accuracy: 0.9561\n",
            "Stacking Classifier Accuracy: 0.9649\n"
          ]
        }
      ]
    },
    {
      "cell_type": "code",
      "source": [
        "# 45.\n",
        "\n",
        "from sklearn.datasets import fetch_california_housing\n",
        "from sklearn.ensemble import BaggingRegressor\n",
        "from sklearn.tree import DecisionTreeRegressor\n",
        "from sklearn.model_selection import train_test_split\n",
        "from sklearn.metrics import mean_squared_error\n",
        "import matplotlib.pyplot as plt\n",
        "\n",
        "data = fetch_california_housing()\n",
        "X = data.data\n",
        "y = data.target\n",
        "\n",
        "X_train, X_test, y_train, y_test = train_test_split(X, y, test_size=0.2, random_state=42)\n",
        "\n",
        "bootstrap_samples = [0.3, 0.5, 0.7, 1.0]\n",
        "\n",
        "mse_list = []\n",
        "\n",
        "for sample_frac in bootstrap_samples:\n",
        "    model = BaggingRegressor(\n",
        "        estimator=DecisionTreeRegressor(),\n",
        "        n_estimators=50,\n",
        "        max_samples=sample_frac,\n",
        "        bootstrap=True,\n",
        "        random_state=42\n",
        "    )\n",
        "    model.fit(X_train, y_train)\n",
        "    preds = model.predict(X_test)\n",
        "    mse = mean_squared_error(y_test, preds)\n",
        "    mse_list.append(mse)\n",
        "    print(f\"max_samples = {sample_frac}: MSE = {mse:.4f}\")\n",
        "\n",
        "plt.figure(figsize=(8, 5))\n",
        "plt.plot(bootstrap_samples, mse_list, marker='o')\n",
        "plt.xlabel('Fraction of Training Samples (max_samples)')\n",
        "plt.ylabel('Mean Squared Error')\n",
        "plt.title('Effect of max_samples on Bagging Regressor Performance')\n",
        "plt.grid(True)\n",
        "plt.show()"
      ],
      "metadata": {
        "colab": {
          "base_uri": "https://localhost:8080/",
          "height": 514
        },
        "id": "n28hDy0_2Aje",
        "outputId": "b2625ef6-a35a-4f97-f74e-d2ef54975e10"
      },
      "execution_count": 51,
      "outputs": [
        {
          "output_type": "stream",
          "name": "stdout",
          "text": [
            "max_samples = 0.3: MSE = 0.2797\n",
            "max_samples = 0.5: MSE = 0.2664\n",
            "max_samples = 0.7: MSE = 0.2638\n",
            "max_samples = 1.0: MSE = 0.2573\n"
          ]
        },
        {
          "output_type": "display_data",
          "data": {
            "text/plain": [
              "<Figure size 800x500 with 1 Axes>"
            ],
            "image/png": "[encoded data removed]"
          },
          "metadata": {}
        }
      ]
    }
  ]
}