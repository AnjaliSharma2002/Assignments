{
  "nbformat": 4,
  "nbformat_minor": 0,
  "metadata": {
    "colab": {
      "provenance": [],
      "authorship_tag": "ABX9TyNwQr0rLx+TY4EALWLxVmnN",
      "include_colab_link": true
    },
    "kernelspec": {
      "name": "python3",
      "display_name": "Python 3"
    },
    "language_info": {
      "name": "python"
    }
  },
  "cells": [
    {
      "cell_type": "markdown",
      "metadata": {
        "id": "view-in-github",
        "colab_type": "text"
      },
      "source": [
        "<a href=\"https://colab.research.google.com/github/AnjaliSharma2002/Assignments/blob/main/Basic_Statistics_Assignment.ipynb\" target=\"_parent\"><img src=\"https://colab.research.google.com/assets/colab-badge.svg\" alt=\"Open In Colab\"/></a>"
      ]
    },
    {
      "cell_type": "code",
      "execution_count": null,
      "metadata": {
        "id": "6e5f0u6GB87k"
      },
      "outputs": [],
      "source": [
        "Q1. The facts or pieces of information that can be stored, measured and re-accessed is known as data. There are 2 types of data:\n",
        "1. Quantitative Data (Numerical Data): Numerical data that can be measured and expressed mathematically. It is used for statistical analysis and can be further divided into discrete and continuous data.\n",
        "Examples: Age, Height, Number of students in a class, Temperature: 22.5°C (a continuous measure).\n",
        "\n",
        "2. Qualitative Data (Categorical Data): Non-numerical data that describes characteristics or qualities of a subject. It is often used to categorize or classify data based on attributes.\n",
        "Examples: Colors, Satisfaction levels: Satisfied, neutral, dissatisfied (customer satisfaction surveys).\n",
        "\n",
        "Level of Measurment:\n",
        "1. Nominal Scale Data: A measurement scale that categorizes data into distinct groups or categories without any order or ranking. Eg: Types of fruits (apple, banana, orange)\n",
        "2. Ordinal Scale Data: A measurement scale that categorizes data into ordered groups where the order matters, but the intervals between the ranks are not uniform or meaningful. Eg: Survey ratings (poor, fair, good, excellent)\n",
        "3. Interval Scale Data: A measurement scale that ranks data and has equal intervals between values, but does not have a true zero point. Differences between values are meaningful, but ratios are not. Eg: Temperature in Celsius (0°C does not indicate 'no temperature')\n",
        "4. Ratio Scale Data: A measurement scale that ranks data with equal intervals and includes a true zero point, allowing for meaningful comparisons of both differences and ratios. Eg: Height in centimeters (0 cm indicates no height)\n"
      ]
    },
    {
      "cell_type": "code",
      "source": [
        "Q2. Measures of central tendency are statistical measures that describe the center point or typical value of a dataset. The three most common measures are the mean, median, and mode. Each measure has its own strengths and is appropriate for different types of data and distributions.\n",
        "\n",
        "1. Mean: The mean is the average of a set of values, calculated by summing all the values and dividing by the number of values.\n",
        "\n",
        "Mean= ∑X/N\n",
        "where ∑X is the sum of all data points and N is the number of data points.\n",
        "\n",
        "- We can use the mean when the data is symmetrically distributed without outliers. It provides a good overall representation of the data.\n",
        "\n",
        "2. Median: The median is the middle value in a dataset when the values are arranged in ascending or descending order. If there is an even number of values, the median is the average of the two middle numbers.\n",
        "\n",
        "For the dataset: 3, 1, 4, 2, 5 (arranged: 1, 2, 3, 4, 5)\n",
        "Median is 3\n",
        "\n",
        "We can use the median when the data is skewed or contains outliers, as it is not affected by extreme values.\n",
        "\n",
        "3. Mode: The mode is the value that appears most frequently in a dataset. A dataset may have one mode, more than one mode (bimodal or multimodal), or no mode at all.\n",
        "\n",
        "For the dataset: 1, 2, 2, 3, 4\n",
        "\n",
        "Mode = 2 (it appears most frequently)\n",
        "\n",
        "We can use the mode when dealing with categorical data or when you want to identify the most common value in a dataset.\n",
        "\n",
        "When to Use Each Measure:\n",
        "\n",
        "Mean: It is used when the Data is symmetric and without outliers. For eg: Average scores, average weights\n",
        "Median: It is used when the Data is skewed or contains outliers. For eg: Income data, property prices\n",
        "Mode: Data is categorical or when identifying the most common item. For eg: Popular items, survey responses\n"
      ],
      "metadata": {
        "id": "EASrWhsOIJTA"
      },
      "execution_count": null,
      "outputs": []
    },
    {
      "cell_type": "code",
      "source": [
        "Q3. Dispersion refers to the way data points in a data set spread out or vary from a central value, such as the mean. Understanding dispersion is crucial in statistics because it gives insight into the consistency, variability, or unpredictability of the data. A higher dispersion indicates more spread-out data, while a lower dispersion indicates that the data points are closer to the central value.\n",
        "\n",
        "The most common measures of dispersion are variance and standard deviation.\n",
        "\n",
        "1. Variance: Variance quantifies the average squared deviation of each data point from the mean. In other words, it measures how far each data point in the set is from the mean, but it does so in squared units.\n",
        "\n",
        "How Variance Measures Spread:\n",
        "- A small variance means that the data points are close to the mean, showing low variability (less spread).\n",
        "- A large variance means that the data points are widely spread out from the mean, showing high variability (more spread).\n",
        "\n",
        "2. Standard Deviation: Standard deviation is simply the square root of the variance. While variance gives us a measure of the average squared deviation, the standard deviation brings that measure back to the original units of the data, making it easier to interpret.\n",
        "\n",
        "How Standard Deviation Measures Spread:\n",
        "- A small standard deviation indicates that data points are clustered closely around the mean.\n",
        "- A large standard deviation indicates that data points are more spread out and vary widely from the mean."
      ],
      "metadata": {
        "id": "eApqTVhKIJPo"
      },
      "execution_count": null,
      "outputs": []
    },
    {
      "cell_type": "code",
      "source": [
        "Q4. A box plot, also known as a box-and-whisker plot, is a graphical representation that summarizes the distribution of a data set based on its five-number summary. It provides a visual overview of the data's central tendency, spread, and presence of outliers. The box plot is a useful tool for comparing distributions across different groups or sets of data.\n",
        "\n",
        "A box plot provides a visual summary of a dataset's distribution, showing:\n",
        "\n",
        "- Central Tendency: The median (middle value) indicates the center of the data.\n",
        "- Spread: The interquartile range (IQR), or the length of the box, shows the spread of the middle 50% of the data.\n",
        "- Skewness: If the median is not centered in the box, it suggests skewness (left or right).\n",
        "- Outliers: Data points outside the whiskers are considered outliers, indicating values significantly different from the rest.\n",
        "- Range: The whiskers represent the range (from minimum to maximum, excluding outliers).\n"
      ],
      "metadata": {
        "id": "jnPK3I7ZIJM4"
      },
      "execution_count": null,
      "outputs": []
    },
    {
      "cell_type": "code",
      "source": [
        "Q5. Random sampling is essential for making reliable inferences about a population because it ensures each individual has an equal chance of being selected, reducing bias and making the sample representative of the population. This allows conclusions drawn from the sample, such as estimates of population parameters or hypothesis tests, to be valid and generalizable. Random sampling forms the foundation for statistical techniques like point estimation, confidence intervals, and hypothesis testing, ensuring the accuracy and reliability of inferences.\n",
        "\n"
      ],
      "metadata": {
        "id": "RrGSfnxoIJKd"
      },
      "execution_count": null,
      "outputs": []
    },
    {
      "cell_type": "code",
      "source": [
        "Q6. \"Skewness\" measures the asymmetry in the distribution of data. It indicates how data is stretched or skewed to one side.\n",
        "\n",
        "### Types of Skewness:\n",
        "1. Positive Skew (Right Skew): The tail on the right is longer. The mean is greater than the median.\n",
        "2. Negative Skew (Left Skew): The tail on the left is longer. The mean is less than the median.\n",
        "3. No Skew (Symmetry): The data is evenly distributed, and the mean equals the median.\n",
        "\n",
        "### Impact on Data Interpretation:\n",
        "- Skewed data causes the mean to be pulled toward the longer tail, making it less representative of the typical value.\n",
        "- In positive skew, the data has larger outliers, while in negative skew, it has smaller outliers.\n",
        "- Skewness affects the choice of statistical methods; for skewed data, non-parametric tests or data transformations may be needed.\n",
        "\n"
      ],
      "metadata": {
        "id": "AyWIbhD4KwQl"
      },
      "execution_count": null,
      "outputs": []
    },
    {
      "cell_type": "code",
      "source": [
        "Q7. The Interquartile Range (IQR) is the difference between the third quartile (Q3) and the first quartile (Q1) of a data set, representing the spread of the middle 50% of the data:\n",
        "\n",
        "IQR = 𝑄3 − 𝑄1\n",
        "\n",
        "To detect outliers, the following thresholds are used:\n",
        "\n",
        "Lower threshold: Q1−1.5×IQR\n",
        "Upper threshold: Q3+1.5×IQR\n",
        "Any data point outside this range is considered an outlier."
      ],
      "metadata": {
        "id": "IyGca3yOLmcA"
      },
      "execution_count": null,
      "outputs": []
    },
    {
      "cell_type": "code",
      "source": [
        "Q8. The binomial distribution is a probability distribution that describes the number of successes in a fixed number of independent trials, where each trial has two possible outcomes: success or failure.\n",
        "\n",
        "The binomial distribution is used under the following conditions:\n",
        "\n",
        "- Fixed Number of Trials: The experiment is repeated a specific number of times (denoted as n).\n",
        "\n",
        "- Two Possible Outcomes: Each trial has only two possible outcomes, often labeled as \"success\" and \"failure.\"\n",
        "\n",
        "- Constant Probability: The probability of success p remains the same for each trial.\n",
        "\n",
        "- Independence: The trials are independent, meaning the outcome of one trial does not affect the others.\n",
        "\n",
        "The binomial distribution is commonly used to model situations like coin flips, pass/fail tests, or success/failure in repeated experiments."
      ],
      "metadata": {
        "id": "d5hItr1BLmmF"
      },
      "execution_count": null,
      "outputs": []
    },
    {
      "cell_type": "code",
      "source": [
        "Q9. The normal distribution is a continuous probability distribution that is symmetric and bell-shaped. It describes how data points are distributed around a central mean, with most data points clustering near the mean and fewer data points appearing as you move farther away from it.\n",
        "\n",
        "Properties of the Normal Distribution\n",
        "\n",
        "- Symmetry: The normal distribution is symmetric around its mean, meaning the left and right halves are mirror images.\n",
        "\n",
        "- Bell-Shaped Curve: It has a characteristic bell shape, where the peak corresponds to the mean (μ), and the curve tapers off symmetrically on both sides.\n",
        "\n",
        "- Mean, Median, and Mode: In a normal distribution, the mean, median, and mode are all equal and located at the center of the distribution.\n",
        "\n",
        "- Defined by Mean and Standard Deviation: The normal distribution is fully described by two parameters: the mean (μ) and the standard deviation (σ). The mean controls the center, and the standard deviation controls the spread of the distribution.\n",
        "\n",
        "- Asymptotic: The tails of the normal distribution approach but never touch the horizontal axis, meaning the probability of extreme values is never zero."
      ],
      "metadata": {
        "id": "FMyb5l__Lmoe"
      },
      "execution_count": null,
      "outputs": []
    },
    {
      "cell_type": "code",
      "source": [
        "Q10. A Poisson process is a statistical process that models events happening randomly and independently over time or space, at a constant average rate. A common real-life example is:\n",
        "\n",
        "Example: Number of Calls to a Call Center"
      ],
      "metadata": {
        "id": "zTyE60XfLmrb"
      },
      "execution_count": null,
      "outputs": []
    },
    {
      "cell_type": "code",
      "source": [
        "Q11. A random variable is a variable whose values are determined by the outcome of a random experiment or process. It is a numerical representation of the possible outcomes of a random event. There are two types of random variables:\n",
        "\n",
        "- Discrete Random Variable: Takes on a finite or countably infinite number of distinct values.\n",
        "- Continuous Random Variable: Can take any value within a given range or interval, typically representing measurements.\n",
        "\n",
        "\n",
        "Differences Between Discrete and Continuous Random Variables:\n",
        "\n",
        "1. Nature of Values:\n",
        "\n",
        "Discrete: Takes distinct, countable values (e.g., 0, 1, 2, 3).\n",
        "Continuous: Takes any value within a range, including fractions (e.g., 1.2, 3.14, 5.678).\n",
        "\n",
        "2. Data Type:\n",
        "\n",
        "Discrete: Countable data (e.g., number of students).\n",
        "Continuous: Measurable data (e.g., height, weight).\n",
        "\n",
        "3. Probability Distribution:\n",
        "\n",
        "Discrete: Described by a probability mass function (PMF).\n",
        "Continuous: Described by a probability density function (PDF).\n",
        "\n",
        "4. Example:\n",
        "\n",
        "Discrete: Number of cars in a parking lot.\n",
        "Continuous: Temperature of a room."
      ],
      "metadata": {
        "id": "lQTUuARPNY9k"
      },
      "execution_count": null,
      "outputs": []
    },
    {
      "cell_type": "code",
      "source": [
        "Q12. Consider the following dataset with two variables: X (e.g., number of hours worked) and Y (e.g., money earned).\n",
        "\n",
        "Person\tHours Worked (X)\tMoney Earned (Y)\n",
        "1\t           1\t              15\n",
        "2\t           2\t\t            30\n",
        "3\t           3\t \t            45\n",
        "4\t           4\t\t            60\n",
        "5\t           5\t \t            75\n",
        "\n",
        "1. Covariance formula:\n",
        "\n",
        "Cov(X,Y)= 1/n ∑ (Xi - X)(Yi − Y)\n",
        "\n",
        "Where 𝑋 and Y are the means of X and Y.\n",
        "\n",
        "Calculate the means of X and Y:\n",
        "\n",
        "X = (1+2+3+4+5)/5 = 3\n",
        "Y = (15+30+45+60+75)/5 = 45\n",
        "\n",
        "Calculate each term:\n",
        "\n",
        "For Person 1: (1−3)(15−45)=(−2)(−30)=60\n",
        "For Person 2: (2−3)(30−45)=(−1)(−15)=15\n",
        "For Person 3: (3−3)(45−45)=(0)(0)=0\n",
        "For Person 4: (4−3)(60−45)=(1)(15)=15\n",
        "For Person 5: (5−3)(75−45)=(2)(30)=60\n",
        "\n",
        "Sum of these terms:\n",
        "\n",
        "Sum=60+15+0+15+60=150\n",
        "\n",
        "Calculate the covariance:\n",
        "\n",
        "Cov(X,Y)= 150/5 = 30\n",
        "\n",
        "2. Calculate Correlation\n",
        "\n",
        "The correlation formula is:\n",
        "\n",
        "r= Cov(X,Y)/ 𝜎𝑋 𝜎𝑌\n",
        "\n",
        "Where 𝜎𝑋 and σY are the standard deviations of X and Y.\n",
        "\n",
        "Calculate the standard deviations of X and Y:\n",
        "\n",
        "- For X:\n",
        "\n",
        "𝜎𝑋 ≈1.41\n",
        "\n",
        "- For Y:\n",
        "\n",
        "σY≈21.91\n",
        "\n",
        "Calculate the correlation:\n",
        "\n",
        "r ≈0.97\n",
        "\n",
        "\n",
        "Covariance: The covariance between hours worked (X) and money earned (Y) is 30. Since it's positive, it indicates that as the number of hours worked increases, the money earned also tends to increase.\n",
        "\n",
        "Correlation: The correlation is 0.97, which indicates a very strong positive linear relationship between hours worked and money earned. As the hours worked increases, money earned increases in a nearly perfect linear manner."
      ],
      "metadata": {
        "id": "lAK3P-gLLmuz"
      },
      "execution_count": null,
      "outputs": []
    }
  ]
}