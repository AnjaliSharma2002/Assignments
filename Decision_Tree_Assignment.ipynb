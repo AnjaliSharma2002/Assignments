{
  "nbformat": 4,
  "nbformat_minor": 0,
  "metadata": {
    "colab": {
      "provenance": [],
      "authorship_tag": "ABX9TyM3mRoZ6d1f1h29AGwC+oA1",
      "include_colab_link": true
    },
    "kernelspec": {
      "name": "python3",
      "display_name": "Python 3"
    },
    "language_info": {
      "name": "python"
    }
  },
  "cells": [
    {
      "cell_type": "markdown",
      "metadata": {
        "id": "view-in-github",
        "colab_type": "text"
      },
      "source": [
        "<a href=\"https://colab.research.google.com/github/AnjaliSharma2002/Assignments/blob/main/Decision_Tree_Assignment.ipynb\" target=\"_parent\"><img src=\"https://colab.research.google.com/assets/colab-badge.svg\" alt=\"Open In Colab\"/></a>"
      ]
    },
    {
      "cell_type": "code",
      "execution_count": 1,
      "metadata": {
        "id": "NGSHhTC6sLXd"
      },
      "outputs": [],
      "source": [
        "# Theoretical"
      ]
    },
    {
      "cell_type": "code",
      "source": [
        "# Q1.\n",
        "\n",
        "# A Decision Tree is a machine learning model used for classification and regression. It works by splitting data into smaller subsets based on feature values, forming a tree structure.\n",
        "\n",
        "# Root Node: First decision point.\n",
        "\n",
        "# Internal Nodes: Conditions based on features.\n",
        "\n",
        "# Leaves: Final prediction (label or value).\n",
        "\n",
        "# It chooses splits using criteria like Gini, Entropy, or MSE, and continues until a stopping point.\n",
        "\n",
        "# Pros: Easy to understand, handles all data types.\n",
        "# Cons: Can overfit, sensitive to data changes."
      ],
      "metadata": {
        "id": "_blKHyAJsTSx"
      },
      "execution_count": 3,
      "outputs": []
    },
    {
      "cell_type": "code",
      "source": [
        "# Q2.\n",
        "\n",
        "# In Decision Trees, impurity measures are used to evaluate how mixed or impure a node is in terms of class distribution. These measures help the algorithm decide the best feature to split the data. For classification tasks, common impurity measures include Gini Impurity and Entropy. Gini Impurity measures the probability of misclassifying a randomly chosen element and is calculated as 1−∑pi2, where pi is the probability of class i. Entropy, derived from information theory, measures the disorder or unpredictability in the data and is calculated as −∑pi log2 (pi). The goal is to choose splits that result in a large reduction in impurity—known as information gain in the case of entropy. For regression tasks, Mean Squared Error (MSE) is used, which measures the average squared difference between actual and predicted values. Overall, the Decision Tree algorithm selects splits that make child nodes as pure (less impure) as possible."
      ],
      "metadata": {
        "id": "Wr73RxL-tRtz"
      },
      "execution_count": 4,
      "outputs": []
    },
    {
      "cell_type": "code",
      "source": [
        "# Q3.\n",
        "\n",
        "# The Gini Impurity for a node is calculated using the formula:\n",
        "\n",
        "# Gini=1− ∑pi^2\n",
        "\n",
        "# Where:\n",
        "# C = total number of classes\n",
        "\n",
        "# pi = proportion of samples belonging to class i in the node"
      ],
      "metadata": {
        "id": "gkQJoVVJt24V"
      },
      "execution_count": 5,
      "outputs": []
    },
    {
      "cell_type": "code",
      "source": [
        "# Q4.\n",
        "\n",
        "# The Entropy of a node is calculated as:\n",
        "\n",
        "# Entropy= −∑pi log2 (pi)\n",
        "\n",
        "# Where:\n",
        "\n",
        "# C = total number of classes\n",
        "\n",
        "# pi = proportion of samples in class i"
      ],
      "metadata": {
        "id": "I3VTnTHduOiH"
      },
      "execution_count": 6,
      "outputs": []
    },
    {
      "cell_type": "code",
      "source": [
        "# Q5.\n",
        "\n",
        "# Information Gain is a metric used in Decision Trees to determine which feature best splits the data at each step. It measures the reduction in entropy, or impurity, after the data is split based on a particular feature. The formula for Information Gain is:\n",
        "# Information Gain=Entropy (parent)−Weighted Entropy (children)\n",
        "# This means we first calculate the entropy of the parent node, then split the dataset based on a feature and compute the weighted sum of the entropies of the resulting child nodes. The difference between the parent entropy and the sum of the child entropies is the Information Gain. A higher Information Gain indicates a better feature for splitting, as it leads to purer child nodes. Decision Tree algorithms like ID3 use Information Gain to recursively choose the best features and build the tree."
      ],
      "metadata": {
        "id": "zvPzMnpXu43T"
      },
      "execution_count": 7,
      "outputs": []
    },
    {
      "cell_type": "code",
      "source": [
        "# Q6.\n",
        "\n",
        "# Gini Impurity and Entropy are both measures used in Decision Trees to evaluate how impure a node is, helping to decide the best feature for splitting the data. The key difference lies in how they calculate impurity. Gini Impurity measures the probability of incorrectly classifying a randomly chosen element and is computed as 1−∑pi2, where pi is the probability of each class. Entropy, on the other hand, is based on information theory and measures the level of disorder in the data, calculated as −∑pi log2 (pi). While Entropy tends to be more sensitive to class imbalance and uses logarithmic calculations, Gini is simpler and faster to compute. In practice, both often produce similar results, but Gini is commonly used in the CART algorithm, whereas Entropy is used in algorithms like ID3 and C4.5."
      ],
      "metadata": {
        "id": "oIazuJMyvS8p"
      },
      "execution_count": 8,
      "outputs": []
    },
    {
      "cell_type": "code",
      "source": [
        "# Q7.\n",
        "\n",
        "# Decision Trees work by recursively splitting the dataset into subsets based on feature values to reduce impurity. At each node, the algorithm evaluates all possible splits and chooses the one that minimizes the weighted impurity (like Gini or Entropy) of the resulting subsets. Mathematically, it selects the split\n",
        "\n",
        "# s∗ that maximizes the Information Gain or minimizes the weighted impurity:\n",
        "\n",
        "# s∗ =arg s max [I(D)− ∑ (∣Dk∣ / ∣D∣)I(Dk)]\n",
        "\n",
        "# where\n",
        "\n",
        "# I is the impurity measure,\n",
        "# D is the parent node data, and Dk are the child nodes after the split. This process continues recursively until stopping conditions are met."
      ],
      "metadata": {
        "id": "ZdQ4o_y1v2oI"
      },
      "execution_count": 9,
      "outputs": []
    },
    {
      "cell_type": "code",
      "source": [
        "# Q8.\n",
        "\n",
        "# Pre-pruning in Decision Trees is a technique where the growth of the tree is stopped early during training to prevent overfitting. Instead of fully growing the tree, the algorithm stops splitting a node if certain conditions are met—such as when the node has too few samples, the maximum depth is reached, or if the split does not significantly improve impurity. This way, the tree remains simpler and more generalized, improving its performance on unseen data by avoiding overly complex trees that fit noise in the training set.\n"
      ],
      "metadata": {
        "id": "jVmRh6f6w-NO"
      },
      "execution_count": 10,
      "outputs": []
    },
    {
      "cell_type": "code",
      "source": [
        "# Q9.\n",
        "\n",
        "# Post-pruning (also called cost complexity pruning) is a technique where the Decision Tree is first fully grown, and then branches or subtrees that do not improve model performance are removed or trimmed afterward. This is done to reduce overfitting by simplifying the tree after it has been built. The idea is to evaluate the impact of removing a subtree on the validation error or a complexity measure, and prune those branches that don’t contribute to better generalization, resulting in a smaller, more robust tree.\n"
      ],
      "metadata": {
        "id": "AcLgbNO7xL-j"
      },
      "execution_count": 11,
      "outputs": []
    },
    {
      "cell_type": "code",
      "source": [
        "# Q10.\n",
        "\n",
        "# Pre-pruning and Post-pruning are two techniques to control the complexity of Decision Trees and avoid overfitting, but they differ in when and how they simplify the tree:\n",
        "\n",
        "# Pre-pruning stops the tree growth early during training by setting conditions like maximum depth, minimum samples per node, or minimum impurity decrease. If a split doesn’t meet these criteria, it is not made. This keeps the tree smaller from the start but risks stopping too soon and underfitting.\n",
        "\n",
        "# Post-pruning allows the tree to grow fully first, then removes branches or subtrees that don’t improve validation performance. It simplifies the tree by trimming after training, which usually leads to better accuracy but requires extra validation steps."
      ],
      "metadata": {
        "id": "r0YXw4d_xg7V"
      },
      "execution_count": 12,
      "outputs": []
    },
    {
      "cell_type": "code",
      "source": [
        "# Q11.\n",
        "\n",
        "# A Decision Tree Regressor is a type of Decision Tree used for regression tasks, where the goal is to predict a continuous numeric value instead of class labels. It works by splitting the data into subsets based on feature values, similar to classification trees, but instead of predicting a class, it predicts the average (or sometimes median) value of the target variable in each leaf node. The tree partitions the feature space into regions and fits a constant value in each region to approximate the target function. This makes it useful for modeling nonlinear relationships and handling complex datasets in regression problems.\n"
      ],
      "metadata": {
        "id": "_Q4Ughsnxt6M"
      },
      "execution_count": 13,
      "outputs": []
    },
    {
      "cell_type": "code",
      "source": [
        "# Q12.\n",
        "\n",
        "# Advantages of Decision Trees:\n",
        "# Easy to Understand and Interpret: They visualize decisions clearly, making them intuitive.\n",
        "\n",
        "# No Need for Feature Scaling: Works well with both numerical and categorical data without preprocessing.\n",
        "\n",
        "# Handles Nonlinear Relationships: Can model complex patterns without assuming linearity.\n",
        "\n",
        "# Requires Little Data Preparation: No normalization or dummy variables needed.\n",
        "\n",
        "# Can Handle Missing Values: Some implementations handle missing data gracefully.\n",
        "\n",
        "# Fast Prediction: Once trained, predictions are quick.\n",
        "\n",
        "\n",
        "# Disadvantages of Decision Trees:\n",
        "# Prone to Overfitting: Especially with deep trees, they can fit noise in the training data.\n",
        "\n",
        "# Unstable: Small changes in data can lead to very different trees.\n",
        "\n",
        "# Biased with Imbalanced Data: May favor classes with more samples.\n",
        "\n",
        "# Less Accurate Compared to Ensembles: Single trees often perform worse than ensemble methods like Random Forest or Gradient Boosting.\n",
        "\n",
        "# Greedy Splitting: The locally optimal splits don’t guarantee a globally optimal tree."
      ],
      "metadata": {
        "id": "cKMyhmnMx6ZF"
      },
      "execution_count": 14,
      "outputs": []
    },
    {
      "cell_type": "code",
      "source": [
        "# Q13.\n",
        "\n",
        "# Decision Trees can handle missing values in a few ways, depending on the implementation:\n",
        "\n",
        "# Surrogate Splits: When the value of the primary splitting feature is missing for a sample, the tree uses another feature (a surrogate) that best mimics the original split to decide which branch the sample should follow.\n",
        "\n",
        "# Assigning to Both Branches: Some methods send samples with missing values down both branches, weighting the prediction by the proportion of samples in each branch.\n",
        "\n",
        "# Imputation During Training: Missing values can be filled in (imputed) based on statistics like the mean, median, or the most frequent category before training the tree.\n",
        "\n",
        "# Learned Missing Value Direction: The tree can learn a specific direction (branch) for missing values during training if missingness is informative.\n",
        "\n",
        "# These strategies allow Decision Trees to work effectively even when some feature values are missing without dropping samples or extensive preprocessing."
      ],
      "metadata": {
        "id": "WSCnB3sxyI8i"
      },
      "execution_count": 15,
      "outputs": []
    },
    {
      "cell_type": "code",
      "source": [
        "# Q14.\n",
        "\n",
        "# Decision Trees handle categorical features by splitting the data based on the categories in those features. Unlike numerical features where splits are based on thresholds (e.g., x<5), for categorical features the tree considers splits like:\n",
        "\n",
        "# Binary splits: Dividing categories into two groups (e.g., {Red, Blue} vs {Green, Yellow}).\n",
        "\n",
        "# Multi-way splits: Splitting into multiple branches, one for each category (less common in some implementations).\n",
        "\n",
        "# During training, the algorithm evaluates different ways to group categories to find the split that best reduces impurity (like Gini or Entropy). This makes Decision Trees naturally capable of handling categorical data without needing to convert them into numbers or dummy variables, though sometimes encoding can improve performance depending on the implementation."
      ],
      "metadata": {
        "id": "0n85S0d0yQAO"
      },
      "execution_count": 16,
      "outputs": []
    },
    {
      "cell_type": "code",
      "source": [
        "# Q15.\n",
        "\n",
        "# Decision Trees are widely used across many real-world domains because of their simplicity and interpretability. Here are some common applications:\n",
        "\n",
        "# Healthcare: Diagnosing diseases by classifying patient symptoms and test results to predict illnesses or risk factors.\n",
        "\n",
        "# Finance: Credit scoring and risk assessment to decide loan approvals based on applicant data.\n",
        "\n",
        "# Marketing: Customer segmentation and predicting customer churn by analyzing purchase behavior and demographics.\n",
        "\n",
        "# Manufacturing: Fault detection and quality control by analyzing sensor data to predict machine failures.\n",
        "\n",
        "# Customer Support: Automating responses or routing requests based on the type of customer query.\n",
        "\n",
        "# Fraud Detection: Identifying fraudulent transactions by classifying unusual patterns in transaction data.\n",
        "\n",
        "# Retail: Demand forecasting and product recommendation systems to optimize inventory and sales."
      ],
      "metadata": {
        "id": "IJ8AJiMvykaA"
      },
      "execution_count": 17,
      "outputs": []
    },
    {
      "cell_type": "code",
      "source": [
        "# Practical"
      ],
      "metadata": {
        "id": "qd4l3hqHyt4Q"
      },
      "execution_count": 18,
      "outputs": []
    },
    {
      "cell_type": "code",
      "source": [
        "# Q16.\n",
        "\n",
        "from sklearn.datasets import load_iris\n",
        "from sklearn.tree import DecisionTreeClassifier\n",
        "from sklearn.model_selection import train_test_split\n",
        "from sklearn.metrics import accuracy_score\n",
        "\n",
        "iris = load_iris()\n",
        "X, y = iris.data, iris.target\n",
        "\n",
        "X_train, X_test, y_train, y_test = train_test_split(X, y, test_size=0.3, random_state=42)\n",
        "\n",
        "clf = DecisionTreeClassifier(random_state=42)\n",
        "\n",
        "clf.fit(X_train, y_train)\n",
        "\n",
        "y_pred = clf.predict(X_test)\n",
        "\n",
        "accuracy = accuracy_score(y_test, y_pred)\n",
        "\n",
        "print(f\"Decision Tree Classifier Accuracy: {accuracy:.2f}\")\n"
      ],
      "metadata": {
        "colab": {
          "base_uri": "https://localhost:8080/"
        },
        "id": "8Ljrcp-EyyEM",
        "outputId": "00ab971e-32cd-457c-e8cf-138ad07a0142"
      },
      "execution_count": 19,
      "outputs": [
        {
          "output_type": "stream",
          "name": "stdout",
          "text": [
            "Decision Tree Classifier Accuracy: 1.00\n"
          ]
        }
      ]
    },
    {
      "cell_type": "code",
      "source": [
        "# Q17.\n",
        "\n",
        "from sklearn.datasets import load_iris\n",
        "from sklearn.tree import DecisionTreeClassifier\n",
        "from sklearn.model_selection import train_test_split\n",
        "\n",
        "iris = load_iris()\n",
        "X, y = iris.data, iris.target\n",
        "feature_names = iris.feature_names\n",
        "\n",
        "X_train, X_test, y_train, y_test = train_test_split(X, y, test_size=0.3, random_state=42)\n",
        "\n",
        "clf = DecisionTreeClassifier(criterion='gini', random_state=42)\n",
        "\n",
        "clf.fit(X_train, y_train)\n",
        "\n",
        "print(\"Feature importances:\")\n",
        "for name, importance in zip(feature_names, clf.feature_importances_):\n",
        "    print(f\"{name}: {importance:.4f}\")\n"
      ],
      "metadata": {
        "colab": {
          "base_uri": "https://localhost:8080/"
        },
        "id": "MG8oKO_ZzCFt",
        "outputId": "2c50ce6a-6989-483d-ac00-e190f2af783d"
      },
      "execution_count": 20,
      "outputs": [
        {
          "output_type": "stream",
          "name": "stdout",
          "text": [
            "Feature importances:\n",
            "sepal length (cm): 0.0000\n",
            "sepal width (cm): 0.0191\n",
            "petal length (cm): 0.8933\n",
            "petal width (cm): 0.0876\n"
          ]
        }
      ]
    },
    {
      "cell_type": "code",
      "source": [
        "# Q18.\n",
        "\n",
        "from sklearn.datasets import load_iris\n",
        "from sklearn.tree import DecisionTreeClassifier\n",
        "from sklearn.model_selection import train_test_split\n",
        "from sklearn.metrics import accuracy_score\n",
        "\n",
        "iris = load_iris()\n",
        "X, y = iris.data, iris.target\n",
        "\n",
        "X_train, X_test, y_train, y_test = train_test_split(X, y, test_size=0.3, random_state=42)\n",
        "\n",
        "clf = DecisionTreeClassifier(criterion='entropy', random_state=42)\n",
        "\n",
        "clf.fit(X_train, y_train)\n",
        "\n",
        "y_pred = clf.predict(X_test)\n",
        "\n",
        "accuracy = accuracy_score(y_test, y_pred)\n",
        "print(f\"Decision Tree Classifier Accuracy (using Entropy): {accuracy:.2f}\")"
      ],
      "metadata": {
        "colab": {
          "base_uri": "https://localhost:8080/"
        },
        "id": "QeurgTFQzR1B",
        "outputId": "4c9d7ca8-4c10-47a3-b318-8147321d6e18"
      },
      "execution_count": 21,
      "outputs": [
        {
          "output_type": "stream",
          "name": "stdout",
          "text": [
            "Decision Tree Classifier Accuracy (using Entropy): 0.98\n"
          ]
        }
      ]
    },
    {
      "cell_type": "code",
      "source": [
        "# Q19.\n",
        "\n",
        "import pandas as pd\n",
        "import numpy as np\n",
        "from sklearn.tree import DecisionTreeRegressor\n",
        "from sklearn.model_selection import train_test_split\n",
        "from sklearn.metrics import mean_squared_error\n",
        "\n",
        "data_url = \"http://lib.stat.cmu.edu/datasets/boston\"\n",
        "raw_df = pd.read_csv(data_url, sep=\"\\s+\", skiprows=22, header=None)\n",
        "\n",
        "data = np.hstack([raw_df.values[::2, :], raw_df.values[1::2, :2]])\n",
        "target = raw_df.values[1::2, 2]\n",
        "\n",
        "X_train, X_test, y_train, y_test = train_test_split(data, target, test_size=0.3, random_state=42)\n",
        "\n",
        "regressor = DecisionTreeRegressor(random_state=42)\n",
        "regressor.fit(X_train, y_train)\n",
        "\n",
        "y_pred = regressor.predict(X_test)\n",
        "\n",
        "mse = mean_squared_error(y_test, y_pred)\n",
        "print(f\"Mean Squared Error (MSE): {mse:.2f}\")\n"
      ],
      "metadata": {
        "colab": {
          "base_uri": "https://localhost:8080/"
        },
        "id": "GtyaIe-bzasX",
        "outputId": "1eabdf3b-6be4-4ce9-f33f-f15b2c85112c"
      },
      "execution_count": 23,
      "outputs": [
        {
          "output_type": "stream",
          "name": "stdout",
          "text": [
            "Mean Squared Error (MSE): 11.59\n"
          ]
        }
      ]
    },
    {
      "cell_type": "code",
      "source": [
        "# Q20.\n",
        "\n",
        "from sklearn.datasets import load_iris\n",
        "from sklearn.tree import DecisionTreeClassifier, export_graphviz\n",
        "import graphviz\n",
        "\n",
        "iris = load_iris()\n",
        "X, y = iris.data, iris.target\n",
        "feature_names = iris.feature_names\n",
        "class_names = iris.target_names\n",
        "\n",
        "clf = DecisionTreeClassifier(random_state=42)\n",
        "clf.fit(X, y)\n",
        "\n",
        "dot_data = export_graphviz(\n",
        "    clf,\n",
        "    out_file=None,\n",
        "    feature_names=feature_names,\n",
        "    class_names=class_names,\n",
        "    filled=True,\n",
        "    rounded=True,\n",
        "    special_characters=True\n",
        ")\n",
        "\n",
        "graph = graphviz.Source(dot_data)\n",
        "graph.render(\"decision_tree\")\n",
        "graph.view()"
      ],
      "metadata": {
        "colab": {
          "base_uri": "https://localhost:8080/",
          "height": 36
        },
        "id": "bfDKHDUkzj2W",
        "outputId": "9b1c79f9-3624-4fa7-b2e7-991585efd349"
      },
      "execution_count": 24,
      "outputs": [
        {
          "output_type": "execute_result",
          "data": {
            "text/plain": [
              "'decision_tree.pdf'"
            ],
            "application/vnd.google.colaboratory.intrinsic+json": {
              "type": "string"
            }
          },
          "metadata": {},
          "execution_count": 24
        }
      ]
    },
    {
      "cell_type": "code",
      "source": [
        "# Q21.\n",
        "\n",
        "from sklearn.datasets import load_iris\n",
        "from sklearn.tree import DecisionTreeClassifier\n",
        "from sklearn.model_selection import train_test_split\n",
        "from sklearn.metrics import accuracy_score\n",
        "\n",
        "iris = load_iris()\n",
        "X, y = iris.data, iris.target\n",
        "\n",
        "X_train, X_test, y_train, y_test = train_test_split(X, y, test_size=0.3, random_state=42)\n",
        "\n",
        "clf_limited = DecisionTreeClassifier(max_depth=3, random_state=42)\n",
        "clf_limited.fit(X_train, y_train)\n",
        "y_pred_limited = clf_limited.predict(X_test)\n",
        "accuracy_limited = accuracy_score(y_test, y_pred_limited)\n",
        "\n",
        "clf_full = DecisionTreeClassifier(random_state=42)\n",
        "clf_full.fit(X_train, y_train)\n",
        "y_pred_full = clf_full.predict(X_test)\n",
        "accuracy_full = accuracy_score(y_test, y_pred_full)\n",
        "\n",
        "print(f\"Accuracy with max_depth=3: {accuracy_limited:.2f}\")\n",
        "print(f\"Accuracy with fully grown tree: {accuracy_full:.2f}\")"
      ],
      "metadata": {
        "colab": {
          "base_uri": "https://localhost:8080/"
        },
        "id": "QHmuiktk0Fvm",
        "outputId": "abef7505-2bcd-465f-d5e8-d13373721da7"
      },
      "execution_count": 25,
      "outputs": [
        {
          "output_type": "stream",
          "name": "stdout",
          "text": [
            "Accuracy with max_depth=3: 1.00\n",
            "Accuracy with fully grown tree: 1.00\n"
          ]
        }
      ]
    },
    {
      "cell_type": "code",
      "source": [
        "# Q22.\n",
        "\n",
        "from sklearn.datasets import load_iris\n",
        "from sklearn.tree import DecisionTreeClassifier\n",
        "from sklearn.model_selection import train_test_split\n",
        "from sklearn.metrics import accuracy_score\n",
        "\n",
        "iris = load_iris()\n",
        "X, y = iris.data, iris.target\n",
        "\n",
        "X_train, X_test, y_train, y_test = train_test_split(X, y, test_size=0.3, random_state=42)\n",
        "\n",
        "clf_min_samples = DecisionTreeClassifier(min_samples_split=5, random_state=42)\n",
        "clf_min_samples.fit(X_train, y_train)\n",
        "y_pred_min_samples = clf_min_samples.predict(X_test)\n",
        "accuracy_min_samples = accuracy_score(y_test, y_pred_min_samples)\n",
        "\n",
        "clf_default = DecisionTreeClassifier(random_state=42)\n",
        "clf_default.fit(X_train, y_train)\n",
        "y_pred_default = clf_default.predict(X_test)\n",
        "accuracy_default = accuracy_score(y_test, y_pred_default)\n",
        "\n",
        "print(f\"Accuracy with min_samples_split=5: {accuracy_min_samples:.2f}\")\n",
        "print(f\"Accuracy with default min_samples_split: {accuracy_default:.2f}\")\n"
      ],
      "metadata": {
        "colab": {
          "base_uri": "https://localhost:8080/"
        },
        "id": "hn9wiinF0QuM",
        "outputId": "23f06b6f-4823-456d-9068-d96ee9f286bc"
      },
      "execution_count": 26,
      "outputs": [
        {
          "output_type": "stream",
          "name": "stdout",
          "text": [
            "Accuracy with min_samples_split=5: 1.00\n",
            "Accuracy with default min_samples_split: 1.00\n"
          ]
        }
      ]
    },
    {
      "cell_type": "code",
      "source": [
        "# Q23.\n",
        "\n",
        "from sklearn.datasets import load_iris\n",
        "from sklearn.tree import DecisionTreeClassifier\n",
        "from sklearn.model_selection import train_test_split\n",
        "from sklearn.preprocessing import StandardScaler\n",
        "from sklearn.metrics import accuracy_score\n",
        "\n",
        "iris = load_iris()\n",
        "X, y = iris.data, iris.target\n",
        "\n",
        "X_train, X_test, y_train, y_test = train_test_split(X, y, test_size=0.3, random_state=42)\n",
        "\n",
        "clf_unscaled = DecisionTreeClassifier(random_state=42)\n",
        "clf_unscaled.fit(X_train, y_train)\n",
        "y_pred_unscaled = clf_unscaled.predict(X_test)\n",
        "accuracy_unscaled = accuracy_score(y_test, y_pred_unscaled)\n",
        "\n",
        "scaler = StandardScaler()\n",
        "X_train_scaled = scaler.fit_transform(X_train)\n",
        "X_test_scaled = scaler.transform(X_test)\n",
        "\n",
        "clf_scaled = DecisionTreeClassifier(random_state=42)\n",
        "clf_scaled.fit(X_train_scaled, y_train)\n",
        "y_pred_scaled = clf_scaled.predict(X_test_scaled)\n",
        "accuracy_scaled = accuracy_score(y_test, y_pred_scaled)\n",
        "\n",
        "print(f\"Accuracy on unscaled data: {accuracy_unscaled:.2f}\")\n",
        "print(f\"Accuracy on scaled data: {accuracy_scaled:.2f}\")\n"
      ],
      "metadata": {
        "colab": {
          "base_uri": "https://localhost:8080/"
        },
        "id": "pX70WVIO0ggm",
        "outputId": "25a605aa-0904-44cc-91b7-1496ba580d75"
      },
      "execution_count": 27,
      "outputs": [
        {
          "output_type": "stream",
          "name": "stdout",
          "text": [
            "Accuracy on unscaled data: 1.00\n",
            "Accuracy on scaled data: 1.00\n"
          ]
        }
      ]
    },
    {
      "cell_type": "code",
      "source": [
        "# Q24.\n",
        "\n",
        "from sklearn.datasets import load_iris\n",
        "from sklearn.tree import DecisionTreeClassifier\n",
        "from sklearn.multiclass import OneVsRestClassifier\n",
        "from sklearn.model_selection import train_test_split\n",
        "from sklearn.metrics import accuracy_score\n",
        "\n",
        "iris = load_iris()\n",
        "X, y = iris.data, iris.target\n",
        "\n",
        "X_train, X_test, y_train, y_test = train_test_split(X, y, test_size=0.3, random_state=42)\n",
        "\n",
        "dtree = DecisionTreeClassifier(random_state=42)\n",
        "\n",
        "ovr_classifier = OneVsRestClassifier(dtree)\n",
        "ovr_classifier.fit(X_train, y_train)\n",
        "\n",
        "y_pred = ovr_classifier.predict(X_test)\n",
        "\n",
        "accuracy = accuracy_score(y_test, y_pred)\n",
        "print(f\"Accuracy of Decision Tree with One-vs-Rest strategy: {accuracy:.2f}\")\n"
      ],
      "metadata": {
        "colab": {
          "base_uri": "https://localhost:8080/"
        },
        "id": "FRnBx_a90rm3",
        "outputId": "cf460cd3-c1d7-4456-c0f5-96ac3054f67e"
      },
      "execution_count": 28,
      "outputs": [
        {
          "output_type": "stream",
          "name": "stdout",
          "text": [
            "Accuracy of Decision Tree with One-vs-Rest strategy: 1.00\n"
          ]
        }
      ]
    },
    {
      "cell_type": "code",
      "source": [
        "# Q25.\n",
        "\n",
        "from sklearn.datasets import load_iris\n",
        "from sklearn.tree import DecisionTreeClassifier\n",
        "\n",
        "iris = load_iris()\n",
        "X, y = iris.data, iris.target\n",
        "feature_names = iris.feature_names\n",
        "\n",
        "clf = DecisionTreeClassifier(random_state=42)\n",
        "clf.fit(X, y)\n",
        "\n",
        "importances = clf.feature_importances_\n",
        "\n",
        "for name, importance in zip(feature_names, importances):\n",
        "    print(f\"{name}: {importance:.4f}\")\n"
      ],
      "metadata": {
        "colab": {
          "base_uri": "https://localhost:8080/"
        },
        "id": "FCXJIW4U0z_w",
        "outputId": "c236fe12-2a98-496e-cf5b-38ff52e9af93"
      },
      "execution_count": 29,
      "outputs": [
        {
          "output_type": "stream",
          "name": "stdout",
          "text": [
            "sepal length (cm): 0.0133\n",
            "sepal width (cm): 0.0000\n",
            "petal length (cm): 0.5641\n",
            "petal width (cm): 0.4226\n"
          ]
        }
      ]
    },
    {
      "cell_type": "code",
      "source": [
        "# Q26.\n",
        "\n",
        "from sklearn.datasets import fetch_california_housing\n",
        "from sklearn.tree import DecisionTreeRegressor\n",
        "from sklearn.model_selection import train_test_split\n",
        "from sklearn.metrics import mean_squared_error\n",
        "\n",
        "housing = fetch_california_housing()\n",
        "X, y = housing.data, housing.target\n",
        "\n",
        "X_train, X_test, y_train, y_test = train_test_split(X, y, test_size=0.3, random_state=42)\n",
        "\n",
        "regressor_limited = DecisionTreeRegressor(max_depth=5, random_state=42)\n",
        "regressor_limited.fit(X_train, y_train)\n",
        "y_pred_limited = regressor_limited.predict(X_test)\n",
        "mse_limited = mean_squared_error(y_test, y_pred_limited)\n",
        "\n",
        "regressor_full = DecisionTreeRegressor(random_state=42)\n",
        "regressor_full.fit(X_train, y_train)\n",
        "y_pred_full = regressor_full.predict(X_test)\n",
        "mse_full = mean_squared_error(y_test, y_pred_full)\n",
        "\n",
        "print(f\"MSE with max_depth=5: {mse_limited:.4f}\")\n",
        "print(f\"MSE with unrestricted tree: {mse_full:.4f}\")\n"
      ],
      "metadata": {
        "colab": {
          "base_uri": "https://localhost:8080/"
        },
        "id": "Qe0563aj08vi",
        "outputId": "6d7b756b-c1f3-4d66-d638-99082ef0eb2e"
      },
      "execution_count": 30,
      "outputs": [
        {
          "output_type": "stream",
          "name": "stdout",
          "text": [
            "MSE with max_depth=5: 0.5211\n",
            "MSE with unrestricted tree: 0.5280\n"
          ]
        }
      ]
    },
    {
      "cell_type": "code",
      "source": [
        "# Q27.\n",
        "\n",
        "import matplotlib.pyplot as plt\n",
        "from sklearn.datasets import load_iris\n",
        "from sklearn.tree import DecisionTreeClassifier\n",
        "from sklearn.model_selection import train_test_split\n",
        "from sklearn.metrics import accuracy_score\n",
        "\n",
        "iris = load_iris()\n",
        "X, y = iris.data, iris.target\n",
        "\n",
        "X_train, X_test, y_train, y_test = train_test_split(X, y, test_size=0.3, random_state=42)\n",
        "\n",
        "clf = DecisionTreeClassifier(random_state=42)\n",
        "clf.fit(X_train, y_train)\n",
        "\n",
        "path = clf.cost_complexity_pruning_path(X_train, y_train)\n",
        "ccp_alphas, impurities = path.ccp_alphas, path.impurities\n",
        "\n",
        "ccp_alphas = ccp_alphas[:-1]\n",
        "\n",
        "train_scores = []\n",
        "test_scores = []\n",
        "\n",
        "for ccp_alpha in ccp_alphas:\n",
        "    clf_pruned = DecisionTreeClassifier(random_state=42, ccp_alpha=ccp_alpha)\n",
        "    clf_pruned.fit(X_train, y_train)\n",
        "    train_scores.append(clf_pruned.score(X_train, y_train))\n",
        "    test_scores.append(clf_pruned.score(X_test, y_test))\n",
        "\n",
        "plt.figure(figsize=(8, 5))\n",
        "plt.plot(ccp_alphas, train_scores, marker='o', label='Train Accuracy')\n",
        "plt.plot(ccp_alphas, test_scores, marker='o', label='Test Accuracy')\n",
        "plt.xlabel('ccp_alpha')\n",
        "plt.ylabel('Accuracy')\n",
        "plt.title('Effect of Cost Complexity Pruning on Decision Tree Accuracy')\n",
        "plt.legend()\n",
        "plt.grid(True)\n",
        "plt.show()\n"
      ],
      "metadata": {
        "colab": {
          "base_uri": "https://localhost:8080/",
          "height": 450
        },
        "id": "1ePJWHN31GDE",
        "outputId": "14176f45-0cda-4746-b058-19385ad4c2b2"
      },
      "execution_count": 31,
      "outputs": [
        {
          "output_type": "display_data",
          "data": {
            "text/plain": [
              "<Figure size 800x500 with 1 Axes>"
            ],
            "image/png": "[encoded data removed]"
          },
          "metadata": {}
        }
      ]
    },
    {
      "cell_type": "code",
      "source": [
        "# Q28.\n",
        "\n",
        "from sklearn.datasets import load_iris\n",
        "from sklearn.tree import DecisionTreeClassifier\n",
        "from sklearn.model_selection import train_test_split\n",
        "from sklearn.metrics import classification_report\n",
        "\n",
        "iris = load_iris()\n",
        "X, y = iris.data, iris.target\n",
        "\n",
        "X_train, X_test, y_train, y_test = train_test_split(X, y, test_size=0.3, random_state=42)\n",
        "\n",
        "clf = DecisionTreeClassifier(random_state=42)\n",
        "clf.fit(X_train, y_train)\n",
        "\n",
        "y_pred = clf.predict(X_test)\n",
        "\n",
        "report = classification_report(y_test, y_pred, target_names=iris.target_names)\n",
        "print(report)\n"
      ],
      "metadata": {
        "colab": {
          "base_uri": "https://localhost:8080/"
        },
        "id": "8C25LuaF1YGB",
        "outputId": "6438a19c-a15d-4db5-8759-2889ade2ae45"
      },
      "execution_count": 32,
      "outputs": [
        {
          "output_type": "stream",
          "name": "stdout",
          "text": [
            "              precision    recall  f1-score   support\n",
            "\n",
            "      setosa       1.00      1.00      1.00        19\n",
            "  versicolor       1.00      1.00      1.00        13\n",
            "   virginica       1.00      1.00      1.00        13\n",
            "\n",
            "    accuracy                           1.00        45\n",
            "   macro avg       1.00      1.00      1.00        45\n",
            "weighted avg       1.00      1.00      1.00        45\n",
            "\n"
          ]
        }
      ]
    },
    {
      "cell_type": "code",
      "source": [
        "# Q29.\n",
        "\n",
        "import seaborn as sns\n",
        "import matplotlib.pyplot as plt\n",
        "from sklearn.datasets import load_iris\n",
        "from sklearn.tree import DecisionTreeClassifier\n",
        "from sklearn.model_selection import train_test_split\n",
        "from sklearn.metrics import confusion_matrix\n",
        "\n",
        "iris = load_iris()\n",
        "X, y = iris.data, iris.target\n",
        "\n",
        "X_train, X_test, y_train, y_test = train_test_split(X, y, test_size=0.3, random_state=42)\n",
        "\n",
        "clf = DecisionTreeClassifier(random_state=42)\n",
        "clf.fit(X_train, y_train)\n",
        "\n",
        "y_pred = clf.predict(X_test)\n",
        "\n",
        "cm = confusion_matrix(y_test, y_pred)\n",
        "\n",
        "plt.figure(figsize=(7,5))\n",
        "sns.heatmap(cm, annot=True, fmt='d', cmap='Blues',\n",
        "            xticklabels=iris.target_names,\n",
        "            yticklabels=iris.target_names)\n",
        "plt.xlabel('Predicted')\n",
        "plt.ylabel('Actual')\n",
        "plt.title('Confusion Matrix - Decision Tree Classifier')\n",
        "plt.show()"
      ],
      "metadata": {
        "colab": {
          "base_uri": "https://localhost:8080/",
          "height": 487
        },
        "id": "KKOKofss2tNT",
        "outputId": "408c24fe-f941-4143-889e-836a78b3c824"
      },
      "execution_count": 33,
      "outputs": [
        {
          "output_type": "display_data",
          "data": {
            "text/plain": [
              "<Figure size 700x500 with 2 Axes>"
            ],
            "image/png": "[encoded data removed]"
          },
          "metadata": {}
        }
      ]
    },
    {
      "cell_type": "code",
      "source": [
        "# Q30.\n",
        "\n",
        "from sklearn.datasets import load_iris\n",
        "from sklearn.tree import DecisionTreeClassifier\n",
        "from sklearn.model_selection import GridSearchCV, train_test_split\n",
        "from sklearn.metrics import accuracy_score\n",
        "\n",
        "iris = load_iris()\n",
        "X, y = iris.data, iris.target\n",
        "\n",
        "X_train, X_test, y_train, y_test = train_test_split(X, y, test_size=0.3, random_state=42)\n",
        "\n",
        "clf = DecisionTreeClassifier(random_state=42)\n",
        "\n",
        "param_grid = {\n",
        "    'max_depth': [2, 3, 4, 5, 6, None],\n",
        "    'min_samples_split': [2, 5, 10]\n",
        "}\n",
        "\n",
        "grid_search = GridSearchCV(clf, param_grid, cv=5, scoring='accuracy')\n",
        "\n",
        "grid_search.fit(X_train, y_train)\n",
        "\n",
        "print(\"Best parameters:\", grid_search.best_params_)\n",
        "\n",
        "best_clf = grid_search.best_estimator_\n",
        "y_pred = best_clf.predict(X_test)\n",
        "accuracy = accuracy_score(y_test, y_pred)\n",
        "print(f\"Test set accuracy with best params: {accuracy:.2f}\")"
      ],
      "metadata": {
        "colab": {
          "base_uri": "https://localhost:8080/"
        },
        "id": "UkRh1sZY2_pG",
        "outputId": "008da566-543e-4968-bef7-718656ba791d"
      },
      "execution_count": 34,
      "outputs": [
        {
          "output_type": "stream",
          "name": "stdout",
          "text": [
            "Best parameters: {'max_depth': 4, 'min_samples_split': 10}\n",
            "Test set accuracy with best params: 1.00\n"
          ]
        }
      ]
    }
  ]
}