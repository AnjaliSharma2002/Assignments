{
  "nbformat": 4,
  "nbformat_minor": 0,
  "metadata": {
    "colab": {
      "provenance": [],
      "authorship_tag": "ABX9TyO6z51LnVmFvEcyXyBT2x3B",
      "include_colab_link": true
    },
    "kernelspec": {
      "name": "python3",
      "display_name": "Python 3"
    },
    "language_info": {
      "name": "python"
    }
  },
  "cells": [
    {
      "cell_type": "markdown",
      "metadata": {
        "id": "view-in-github",
        "colab_type": "text"
      },
      "source": [
        "<a href=\"https://colab.research.google.com/github/AnjaliSharma2002/Assignments/blob/main/Logistic_Regression_Assignment.ipynb\" target=\"_parent\"><img src=\"https://colab.research.google.com/assets/colab-badge.svg\" alt=\"Open In Colab\"/></a>"
      ]
    },
    {
      "cell_type": "code",
      "execution_count": null,
      "metadata": {
        "id": "p_Rly2sZ5Ow8"
      },
      "outputs": [],
      "source": [
        "# Theoretical"
      ]
    },
    {
      "cell_type": "code",
      "source": [
        "# Q1.\n",
        "\n",
        "# Logistic Regression is a supervised machine learning algorithm used primarily for classification tasks, especially binary classification where the output is either 0 or 1 (such as spam or not spam, pass or fail). Instead of predicting a continuous value like Linear Regression, Logistic Regression predicts the probability that a given input belongs to a particular class. It uses the sigmoid (logistic) function to map any real-valued number into a range between 0 and 1. Based on a chosen threshold (commonly 0.5), the output is then classified into one of the two categories.\n",
        "\n",
        "# In contrast, Linear Regression is used for regression problems, where the goal is to predict a continuous numeric value, such as a person's salary or the price of a house. It models the relationship between the dependent and independent variables by fitting a straight line to the data. The main difference lies in the nature of their output: Linear Regression provides a continuous value, while Logistic Regression provides a probability that is used to classify the input into categories. Additionally, Linear Regression typically uses Mean Squared Error as its loss function, while Logistic Regression uses Binary Cross-Entropy (Log Loss) to evaluate its performance."
      ],
      "metadata": {
        "id": "AVhAH2zz5TyG"
      },
      "execution_count": null,
      "outputs": []
    },
    {
      "cell_type": "code",
      "source": [
        "# Q2.\n",
        "\n",
        "# The mathematical equation of Logistic Regression is:\n",
        "\n",
        "# y = 1 / (1+e^-(W^T+b))\n",
        "\n",
        "# It first computes a linear combination of the input features, then applies the sigmoid function to convert the result into a probability between 0 and 1, which is used for binary classification.\n"
      ],
      "metadata": {
        "id": "_MxTgX835kl6"
      },
      "execution_count": null,
      "outputs": []
    },
    {
      "cell_type": "code",
      "source": [
        "# Q3.\n",
        "\n",
        "# We use the sigmoid function in Logistic Regression because it transforms any real-valued number into a value between 0 and 1, making it ideal for modeling probabilities. Since Logistic Regression is used for binary classification, we need the output to represent the probability that a given input belongs to a particular class (e.g., class 1). The sigmoid function ensures this by mapping the linear combination of inputs (𝑧 =𝑤^𝑇*𝑥+𝑏)into a smooth, S-shaped curve where:\n",
        "\n",
        "# Values close to 1 indicate a high probability of belonging to class 1,\n",
        "\n",
        "# Values close to 0 indicate a high probability of belonging to class 0.\n",
        "\n",
        "# This makes the sigmoid function essential for converting the output of the model into a form suitable for classification decisions."
      ],
      "metadata": {
        "id": "y3ZAL1ij6i2m"
      },
      "execution_count": null,
      "outputs": []
    },
    {
      "cell_type": "code",
      "source": [
        "# Q4.\n",
        "\n",
        "# The cost function used in Logistic Regression is called Binary Cross-Entropy Loss or Log Loss. It measures how well the predicted probabilities match the actual binary labels (0 or 1). The function is defined as:\n",
        "\n",
        "# −[𝑦log(𝑦^)+(1−𝑦)log(1−𝑦^)]\n",
        "\n",
        "# where\n",
        "# y is the actual class label and\n",
        "# 𝑦^ is the predicted probability from the sigmoid function. This cost function penalizes incorrect predictions more when the model is confident but wrong, making it effective for classification tasks. When applied to the entire dataset, the average of this loss across all training examples is used. The binary cross-entropy function is also convex, which helps in efficiently finding the optimal weights using gradient descent."
      ],
      "metadata": {
        "id": "jp4r6E1r64Xv"
      },
      "execution_count": null,
      "outputs": []
    },
    {
      "cell_type": "code",
      "source": [
        "# Q5.\n",
        "\n",
        "# Regularization in Logistic Regression is a technique used to prevent overfitting, which occurs when the model learns not just the underlying pattern but also the noise in the training data. Overfitting reduces the model’s ability to generalize well on unseen data.\n",
        "\n",
        "# In Logistic Regression, regularization works by adding a penalty term to the cost function, which discourages the model from assigning excessively high weights to features. This keeps the model simpler and more robust.\n",
        "\n",
        "# There are two common types of regularization:\n",
        "\n",
        "# L1 Regularization (Lasso) – Adds the sum of the absolute values of the weights to the cost function. It can shrink some weights to zero, effectively performing feature selection.\n",
        "\n",
        "# L2 Regularization (Ridge) – Adds the sum of the squared weights to the cost function. It penalizes large weights more smoothly and is the most commonly used form in Logistic Regression.\n",
        "\n",
        "# The modified cost function with L2 regularization looks like this:\n",
        "\n",
        "# 𝐽(𝑤,𝑏) = Original Log Loss + 𝜆∑𝑤𝑗^2\n",
        "\n",
        "# Here,\n",
        "\n",
        "# λ is the regularization parameter that controls the strength of the penalty.\n",
        "\n",
        "# In summary, regularization is needed to improve the generalization performance of Logistic Regression by controlling model complexity and preventing it from fitting the training data too closely."
      ],
      "metadata": {
        "id": "SPRLpIYT7ddM"
      },
      "execution_count": null,
      "outputs": []
    },
    {
      "cell_type": "code",
      "source": [
        "# Q6.\n",
        "\n",
        "# Lasso, Ridge, and Elastic Net are three common regularization techniques used to improve regression models by adding a penalty to the loss function. Ridge regression applies an L2 penalty, which adds the sum of the squares of the coefficients to the loss function. This shrinks the coefficients toward zero but does not set any of them exactly to zero, so it keeps all features in the model and is especially useful when many features contribute to the outcome. Lasso regression, on the other hand, uses an L1 penalty, adding the sum of the absolute values of the coefficients. This can shrink some coefficients exactly to zero, effectively performing feature selection by removing less important features. Elastic Net combines both L1 and L2 penalties, balancing the benefits of Ridge and Lasso. It can both select features by setting some coefficients to zero and handle multicollinearity by shrinking correlated features together. Overall, Ridge is preferred when you want to keep all features but regularize them, Lasso is best when you want a sparse model with automatic feature selection, and Elastic Net is useful when you want a compromise between the two, especially with correlated variables.\n"
      ],
      "metadata": {
        "id": "_c9qN59-8HI7"
      },
      "execution_count": null,
      "outputs": []
    },
    {
      "cell_type": "code",
      "source": [
        "# Q7.\n",
        "\n",
        "# We should use Elastic Net instead of Lasso or Ridge when the dataset has many correlated features or when we want a balance between feature selection and coefficient shrinkage. Unlike Ridge, which keeps all features but only shrinks their coefficients, and Lasso, which can select features but sometimes struggles when features are highly correlated, Elastic Net combines both L1 and L2 penalties. This allows it to both select important features by driving some coefficients to zero (like Lasso) and handle groups of correlated features by shrinking them together (like Ridge). So, Elastic Net is especially useful when you have a large number of features, some of which are highly correlated, and you want a more flexible regularization approach that leverages the strengths of both Ridge and Lasso.\n"
      ],
      "metadata": {
        "id": "8r-uRwQ_8ZOA"
      },
      "execution_count": null,
      "outputs": []
    },
    {
      "cell_type": "code",
      "source": [
        "# Q8.\n",
        "\n",
        "# The regularization parameter λ in Logistic Regression controls the strength of the penalty applied to the model’s coefficients during training. A larger λ increases the penalty, forcing the model to keep the weights smaller and simpler, which helps to reduce overfitting by preventing the model from fitting noise in the training data. However, if λ is too large, the model can become too simple, leading to underfitting where it fails to capture important patterns. On the other hand, a smaller λ means less regularization, allowing the model to fit the training data more closely but increasing the risk of overfitting. Therefore, tuning λ is essential to find the right balance between bias and variance, helping the Logistic Regression model generalize well to unseen data."
      ],
      "metadata": {
        "id": "8qSDhI1b8jU4"
      },
      "execution_count": null,
      "outputs": []
    },
    {
      "cell_type": "code",
      "source": [
        "# Q9.\n",
        "\n",
        "# The key assumptions of Logistic Regression are:\n",
        "\n",
        "# Binary Outcome Variable: The dependent variable should be binary or categorical (usually coded as 0 and 1) for standard logistic regression.\n",
        "\n",
        "# Linearity of Logits: Logistic Regression assumes a linear relationship between the independent variables and the log-odds (logit) of the dependent variable. This means the predictors influence the log-odds of the outcome in a linear way.\n",
        "\n",
        "# Independence of Observations: Each observation should be independent of the others. There should be no strong correlation or dependency between the samples.\n",
        "\n",
        "# No Perfect Multicollinearity: The independent variables should not be perfectly correlated with each other. High multicollinearity can make estimates unstable.\n",
        "\n",
        "# Large Sample Size: Logistic regression requires a sufficiently large sample size to provide reliable estimates, especially when dealing with many predictors.\n",
        "\n",
        "# Absence of Outliers Influencing the Model: Although logistic regression is more robust than linear regression, extreme outliers can still disproportionately affect the model."
      ],
      "metadata": {
        "id": "_a2NctuZ8xNv"
      },
      "execution_count": null,
      "outputs": []
    },
    {
      "cell_type": "code",
      "source": [
        "# Q10.\n",
        "\n",
        "# Some common alternatives to Logistic Regression for classification tasks include:\n",
        "\n",
        "# Decision Trees – They split the data based on feature values into branches, making decisions easy to interpret. They handle nonlinear relationships well.\n",
        "\n",
        "# Random Forests – An ensemble of decision trees that improves accuracy and reduces overfitting by averaging multiple trees.\n",
        "\n",
        "# Support Vector Machines (SVM) – Finds the optimal hyperplane that best separates classes, effective in high-dimensional spaces and with non-linear kernels.\n",
        "\n",
        "# K-Nearest Neighbors (KNN) – Classifies data points based on the majority class among their closest neighbors; simple but can be computationally expensive with large datasets.\n",
        "\n",
        "# Naive Bayes – A probabilistic classifier based on Bayes’ theorem, assuming feature independence; fast and effective for certain types of problems like text classification.\n",
        "\n",
        "# Neural Networks – Highly flexible models that can capture complex relationships, widely used in deep learning for tasks like image and speech recognition.\n",
        "\n",
        "# Gradient Boosting Machines (e.g., XGBoost, LightGBM) – Ensemble methods that build models sequentially to correct errors of previous models, known for high performance in many classification tasks."
      ],
      "metadata": {
        "id": "S0uttE3i9B4W"
      },
      "execution_count": null,
      "outputs": []
    },
    {
      "cell_type": "code",
      "source": [
        "# Q11.\n",
        "\n",
        "# Classification evaluation metrics are measures used to assess the performance of a classification model, how well it predicts the correct class labels. Some common metrics include:\n",
        "\n",
        "# Accuracy: The proportion of correctly predicted instances out of all instances. It’s simple but can be misleading if classes are imbalanced.\n",
        "\n",
        "# Precision: The proportion of true positive predictions out of all positive predictions made by the model. It tells how many predicted positives are actually correct.\n",
        "\n",
        "# Recall (Sensitivity or True Positive Rate): The proportion of true positive predictions out of all actual positive cases. It shows how well the model captures positive cases.\n",
        "\n",
        "# F1 Score: The harmonic mean of precision and recall, balancing the two when you want a single metric that accounts for both false positives and false negatives.\n",
        "\n",
        "# Confusion Matrix: A table that shows counts of true positives, true negatives, false positives, and false negatives, providing a complete picture of classification performance.\n",
        "\n",
        "# ROC Curve and AUC (Area Under the Curve): The ROC curve plots the true positive rate against the false positive rate at various threshold settings, and AUC summarizes the overall ability of the model to discriminate between classes.\n",
        "\n",
        "# Specificity (True Negative Rate): The proportion of true negatives out of all actual negatives, measuring how well the model identifies negative cases."
      ],
      "metadata": {
        "id": "ydZAcZ3B9KIi"
      },
      "execution_count": null,
      "outputs": []
    },
    {
      "cell_type": "code",
      "source": [
        "# Q12.\n",
        "\n",
        "# Class imbalance when one class has many more samples than the other can significantly affect Logistic Regression performance. Since Logistic Regression tries to find a decision boundary that best separates the classes, it tends to be biased toward the majority class because minimizing the overall error often means simply predicting the majority class more frequently. This can lead to poor detection of the minority class, resulting in low recall or sensitivity for that class. Additionally, standard evaluation metrics like accuracy can be misleading in imbalanced scenarios, as a model predicting only the majority class can still have high accuracy despite failing to identify minority class examples. To address this, techniques such as resampling (oversampling or undersampling), using class weights to penalize misclassification of minority classes more heavily, or applying more suitable metrics like F1-score and AUC-ROC are often used to improve Logistic Regression’s performance on imbalanced datasets.\n"
      ],
      "metadata": {
        "id": "KFODbvGS9Tm3"
      },
      "execution_count": null,
      "outputs": []
    },
    {
      "cell_type": "code",
      "source": [
        "# Q13.\n",
        "\n",
        "# Hyperparameter tuning in Logistic Regression refers to the process of selecting the best values for parameters that are not learned from the data but set before training the model. These hyperparameters control aspects like the model’s complexity, regularization strength, and how the model fits the data. For example, in Logistic Regression, the key hyperparameters often tuned are the regularization parameter λ (sometimes called C, which is its inverse) and the type of regularization used (L1, L2, or Elastic Net). By experimenting with different hyperparameter values—using techniques like grid search or random search combined with cross-validation—we can find the combination that leads to the best model performance on unseen data. Proper hyperparameter tuning helps prevent overfitting or underfitting and improves the model’s generalization ability."
      ],
      "metadata": {
        "id": "Z1-berWW9eel"
      },
      "execution_count": null,
      "outputs": []
    },
    {
      "cell_type": "code",
      "source": [
        "# Q14.\n",
        "\n",
        "# In Logistic Regression, different solvers are optimization algorithms used to find the best model parameters by minimizing the cost function. Common solvers include liblinear, which is suitable for small to medium-sized datasets and supports both L1 and L2 regularization, making it a good choice for sparse data and when using L1 regularization. Sag (Stochastic Average Gradient) and its improved version saga are designed for large datasets; while SAG supports only L2 regularization, SAGA is more flexible, supporting L1, L2, and Elastic Net regularization, and works well with both large and sparse datasets. Other solvers like lbfgs, a quasi-Newton method, and Newton-CG work efficiently for medium to large datasets but mainly support L2 regularization. Generally, liblinear is preferred for smaller datasets and L1 regularization, saga is often the best choice for large datasets requiring different regularization types, and lbfgs is a solid default for many medium-sized problems. The choice of solver depends on the dataset size, regularization type, and data sparsity.\n"
      ],
      "metadata": {
        "id": "1aaAsfKs9wFM"
      },
      "execution_count": null,
      "outputs": []
    },
    {
      "cell_type": "code",
      "source": [
        "# Q15.\n",
        "\n",
        "# Logistic Regression is extended for multiclass classification using strategies like One-vs-Rest (OvR) and Softmax Regression (also called Multinomial Logistic Regression). In the One-vs-Rest approach, a separate binary logistic regression model is trained for each class, where that class is treated as the positive class and all others as negative. During prediction, the model with the highest confidence score determines the final class. On the other hand, Softmax Regression generalizes Logistic Regression by using the softmax function to directly model the probabilities of all classes simultaneously. It outputs a probability distribution over all classes, ensuring the probabilities sum to one. Softmax Regression is more efficient and often preferred when dealing with multiple classes because it optimizes all classes together rather than training separate binary classifiers. Both methods allow Logistic Regression to handle classification problems beyond two classes effectively.\n"
      ],
      "metadata": {
        "id": "93KTtv9E-adi"
      },
      "execution_count": null,
      "outputs": []
    },
    {
      "cell_type": "code",
      "source": [
        "# Q16.\n",
        "\n",
        "# Advantages of Logistic Regression:\n",
        "# Logistic Regression is simple and easy to implement, making it a great baseline for classification problems. It provides interpretable results through its coefficients, which show the impact of each feature on the outcome. It works well when the relationship between features and the log-odds of the target is approximately linear. Logistic Regression is computationally efficient and performs well on smaller datasets. Additionally, it can be regularized to prevent overfitting.\n",
        "\n",
        "# Disadvantages of Logistic Regression:\n",
        "# Logistic Regression assumes a linear relationship between the independent variables and the log-odds of the dependent variable, so it struggles with complex, non-linear relationships unless features are manually engineered. It can perform poorly if there is high multicollinearity or when the classes are heavily imbalanced. Logistic Regression is also sensitive to outliers and may not capture interactions between variables unless explicitly modeled. For very large or complex datasets, more advanced models like decision trees or neural networks may perform better."
      ],
      "metadata": {
        "id": "R-arxzXr-kNs"
      },
      "execution_count": null,
      "outputs": []
    },
    {
      "cell_type": "code",
      "source": [
        "# Q17.\n",
        "\n",
        "# Logistic Regression is widely used in various fields for solving binary and multiclass classification problems because of its simplicity and interpretability. Some common use cases include:\n",
        "\n",
        "# Medical diagnosis: Predicting whether a patient has a disease (e.g., diabetes, cancer) based on symptoms or test results.\n",
        "\n",
        "# Credit scoring: Assessing whether a borrower is likely to default on a loan based on financial and personal data.\n",
        "\n",
        "# Marketing: Predicting whether a customer will respond to a campaign or buy a product.\n",
        "\n",
        "# Spam detection: Classifying emails as spam or not spam based on email content and metadata.\n",
        "\n",
        "# Churn prediction: Estimating the probability that a customer will stop using a service or product.\n",
        "\n",
        "# Fraud detection: Identifying potentially fraudulent transactions in banking or e-commerce.\n",
        "\n",
        "# Employee attrition: Predicting whether an employee is likely to leave an organization.\n",
        "\n",
        "# Because Logistic Regression outputs probabilities, it’s also useful wherever a probabilistic interpretation is valuable, allowing businesses and researchers to make more informed decisions."
      ],
      "metadata": {
        "id": "_RDT8ZC7-1j6"
      },
      "execution_count": null,
      "outputs": []
    },
    {
      "cell_type": "code",
      "source": [
        "# Q18.\n",
        "\n",
        "# Logistic Regression and Softmax Regression are both classification algorithms, but they differ mainly in the number of classes they handle and how they model probabilities.\n",
        "\n",
        "# Logistic Regression is designed for binary classification problems—it predicts the probability of an instance belonging to one of two classes. It uses the sigmoid function to map any input to a probability between 0 and 1 for a single class.\n",
        "\n",
        "# Softmax Regression, also known as Multinomial Logistic Regression, is a generalization of Logistic Regression for multiclass classification problems with more than two classes. Instead of the sigmoid, it uses the softmax function, which outputs a probability distribution over all possible classes, ensuring the probabilities sum to one. This allows Softmax Regression to model the likelihood of each class simultaneously, rather than fitting multiple binary classifiers separately."
      ],
      "metadata": {
        "id": "ulCEa-Yi-9_Z"
      },
      "execution_count": null,
      "outputs": []
    },
    {
      "cell_type": "code",
      "source": [
        "# Q19.\n",
        "\n",
        "# Choosing between One-vs-Rest (OvR) and Softmax Regression for multiclass classification depends on several factors related to your dataset and problem:\n",
        "\n",
        "# Dataset size and complexity: OvR trains one binary classifier per class independently, which can be simpler and faster on smaller or less complex datasets. Softmax, however, models all classes simultaneously and often performs better on larger datasets where capturing relationships between classes matters.\n",
        "\n",
        "# Class relationships: If classes are mutually exclusive and well-separated, Softmax tends to be more effective because it outputs a proper probability distribution over all classes. OvR treats each class separately, which can sometimes lead to ambiguous predictions if classifiers overlap.\n",
        "\n",
        "# Performance and interpretability: Softmax regression usually provides better calibrated probabilities for each class, while OvR is easier to implement and interpret since each binary classifier focuses on one class versus the rest.\n",
        "\n",
        "# Computational resources: OvR can be computationally cheaper if you have many classes because it breaks the problem into simpler binary tasks, whereas Softmax requires optimizing a more complex joint objective.\n",
        "\n",
        "# In practice, Softmax Regression is often preferred for its probabilistic consistency and overall performance, especially when classes are strongly interrelated, but OvR can be a good choice for simpler or resource-constrained scenarios. Testing both approaches on your specific dataset with cross-validation is a good way to decide.\n"
      ],
      "metadata": {
        "id": "Q_7NqwGS_O6s"
      },
      "execution_count": null,
      "outputs": []
    },
    {
      "cell_type": "code",
      "source": [
        "# Q20.\n",
        "\n",
        "# In Logistic Regression, the coefficients represent the relationship between each feature and the log-odds of the target event occurring. Specifically, each coefficient indicates how a one-unit increase in the corresponding feature affects the log-odds of the positive class, assuming all other variables are held constant. A positive coefficient means that as the feature increases, the odds of the positive outcome increase, while a negative coefficient means the odds decrease. To make interpretation easier, coefficients are often exponentiated to get the odds ratio—this tells you how much the odds multiply for a one-unit increase in the feature. For example, an odds ratio of 1.5 means the odds increase by 50%, whereas an odds ratio of 0.7 means the odds decrease by 30%. This interpretability is one of Logistic Regression’s key advantages, especially in fields like healthcare or finance where understanding feature impact is crucial.\n"
      ],
      "metadata": {
        "id": "utPPnSgW_eW9"
      },
      "execution_count": null,
      "outputs": []
    },
    {
      "cell_type": "code",
      "source": [
        "# Practical"
      ],
      "metadata": {
        "id": "HaLn41La_txu"
      },
      "execution_count": null,
      "outputs": []
    },
    {
      "cell_type": "code",
      "source": [
        "# Q1.\n",
        "\n",
        "from sklearn.datasets import load_iris\n",
        "from sklearn.model_selection import train_test_split\n",
        "from sklearn.linear_model import LogisticRegression\n",
        "from sklearn.metrics import accuracy_score\n",
        "import warnings\n",
        "warnings.filterwarnings(\"ignore\")\n",
        "\n",
        "iris = load_iris()\n",
        "X = iris.data\n",
        "y = iris.target\n",
        "\n",
        "X_train, X_test, y_train, y_test = train_test_split(X, y, test_size=0.2, random_state=42)\n",
        "\n",
        "model = LogisticRegression(max_iter=200)\n",
        "\n",
        "model.fit(X_train, y_train)\n",
        "\n",
        "y_pred = model.predict(X_test)\n",
        "\n",
        "accuracy = accuracy_score(y_test, y_pred)\n",
        "print(f\"Model Accuracy: {accuracy:.2f}\")"
      ],
      "metadata": {
        "id": "7CWQHz9u_vOX",
        "colab": {
          "base_uri": "https://localhost:8080/"
        },
        "outputId": "88fe4f47-59bc-4b69-df3c-430bf3e02477"
      },
      "execution_count": 24,
      "outputs": [
        {
          "output_type": "stream",
          "name": "stdout",
          "text": [
            "Model Accuracy: 1.00\n"
          ]
        }
      ]
    },
    {
      "cell_type": "code",
      "source": [
        "# Q2.\n",
        "\n",
        "from sklearn.datasets import load_iris\n",
        "from sklearn.model_selection import train_test_split\n",
        "from sklearn.linear_model import LogisticRegression\n",
        "from sklearn.metrics import accuracy_score\n",
        "\n",
        "iris = load_iris()\n",
        "X = iris.data\n",
        "y = iris.target\n",
        "\n",
        "X_train, X_test, y_train, y_test = train_test_split(X, y, test_size=0.2, random_state=42)\n",
        "\n",
        "model = LogisticRegression(penalty='l1', solver='saga', multi_class='multinomial', max_iter=500)\n",
        "\n",
        "model.fit(X_train, y_train)\n",
        "\n",
        "y_pred = model.predict(X_test)\n",
        "\n",
        "accuracy = accuracy_score(y_test, y_pred)\n",
        "print(f\"Model Accuracy with L1 Regularization: {accuracy:.2f}\")\n"
      ],
      "metadata": {
        "colab": {
          "base_uri": "https://localhost:8080/"
        },
        "id": "yM2h1YhQV-4m",
        "outputId": "bca796f1-a482-48cf-f639-b9cc84167838"
      },
      "execution_count": 25,
      "outputs": [
        {
          "output_type": "stream",
          "name": "stdout",
          "text": [
            "Model Accuracy with L1 Regularization: 1.00\n"
          ]
        }
      ]
    },
    {
      "cell_type": "code",
      "source": [
        "# Q4.\n",
        "\n",
        "from sklearn.datasets import load_iris\n",
        "from sklearn.model_selection import train_test_split\n",
        "from sklearn.linear_model import LogisticRegression\n",
        "from sklearn.metrics import accuracy_score\n",
        "\n",
        "iris = load_iris()\n",
        "X = iris.data\n",
        "y = iris.target\n",
        "\n",
        "X_train, X_test, y_train, y_test = train_test_split(X, y, test_size=0.2, random_state=42)\n",
        "\n",
        "model = LogisticRegression(penalty='l2', solver='lbfgs', multi_class='multinomial', max_iter=200)\n",
        "\n",
        "model.fit(X_train, y_train)\n",
        "\n",
        "y_pred = model.predict(X_test)\n",
        "\n",
        "accuracy = accuracy_score(y_test, y_pred)\n",
        "print(f\"Model Accuracy with L2 Regularization: {accuracy:.2f}\")\n",
        "\n",
        "print(\"Model Coefficients (weights for each class and feature):\")\n",
        "print(model.coef_)\n"
      ],
      "metadata": {
        "colab": {
          "base_uri": "https://localhost:8080/"
        },
        "id": "ScGnXFRSWJOA",
        "outputId": "41c1a282-cd61-4916-f10e-1ff66bd51030"
      },
      "execution_count": 26,
      "outputs": [
        {
          "output_type": "stream",
          "name": "stdout",
          "text": [
            "Model Accuracy with L2 Regularization: 1.00\n",
            "Model Coefficients (weights for each class and feature):\n",
            "[[-0.39345607  0.96251768 -2.37512436 -0.99874594]\n",
            " [ 0.50843279 -0.25482714 -0.21301129 -0.77574766]\n",
            " [-0.11497673 -0.70769055  2.58813565  1.7744936 ]]\n"
          ]
        }
      ]
    },
    {
      "cell_type": "code",
      "source": [
        "# Q5.\n",
        "\n",
        "from sklearn.datasets import load_iris\n",
        "from sklearn.model_selection import train_test_split\n",
        "from sklearn.linear_model import LogisticRegression\n",
        "from sklearn.metrics import accuracy_score\n",
        "\n",
        "iris = load_iris()\n",
        "X = iris.data\n",
        "y = iris.target\n",
        "\n",
        "X_train, X_test, y_train, y_test = train_test_split(X, y, test_size=0.2, random_state=42)\n",
        "\n",
        "model = LogisticRegression(multi_class='ovr', solver='liblinear', max_iter=200)\n",
        "\n",
        "model.fit(X_train, y_train)\n",
        "\n",
        "y_pred = model.predict(X_test)\n",
        "\n",
        "accuracy = accuracy_score(y_test, y_pred)\n",
        "print(f\"Model Accuracy with One-vs-Rest Strategy: {accuracy:.2f}\")\n",
        "\n",
        "print(\"Model Coefficients for each class:\")\n",
        "print(model.coef_)"
      ],
      "metadata": {
        "colab": {
          "base_uri": "https://localhost:8080/"
        },
        "id": "17i14r9HWeC-",
        "outputId": "c9f0bbe6-a47e-46bb-ef7f-cd96b49b5dc2"
      },
      "execution_count": 27,
      "outputs": [
        {
          "output_type": "stream",
          "name": "stdout",
          "text": [
            "Model Accuracy with One-vs-Rest Strategy: 1.00\n",
            "Model Coefficients for each class:\n",
            "[[ 0.3711229   1.409712   -2.15210117 -0.95474179]\n",
            " [ 0.49400451 -1.58897112  0.43717015 -1.11187838]\n",
            " [-1.55895271 -1.58893375  2.39874554  2.15556209]]\n"
          ]
        }
      ]
    },
    {
      "cell_type": "code",
      "source": [
        "#Q6.\n",
        "\n",
        "from sklearn.datasets import load_iris\n",
        "from sklearn.linear_model import LogisticRegression\n",
        "from sklearn.model_selection import GridSearchCV, train_test_split\n",
        "from sklearn.metrics import accuracy_score\n",
        "\n",
        "X, y = load_iris(return_X_y=True)\n",
        "\n",
        "X_train, X_test, y_train, y_test = train_test_split(X, y, test_size=0.2, random_state=42)\n",
        "\n",
        "logreg = LogisticRegression(solver='liblinear', max_iter=200)\n",
        "\n",
        "param_grid = {\n",
        "    'C': [0.01, 0.1, 1, 10, 100],\n",
        "    'penalty': ['l1', 'l2']\n",
        "}\n",
        "\n",
        "grid = GridSearchCV(logreg, param_grid, cv=5, verbose=0)\n",
        "grid.fit(X_train, y_train)\n",
        "\n",
        "print(\"Best Parameters:\", grid.best_params_)\n",
        "\n",
        "best_model = grid.best_estimator_\n",
        "y_pred = best_model.predict(X_test)\n",
        "accuracy = accuracy_score(y_test, y_pred)\n",
        "print(\"Test Accuracy with Best Parameters: {:.2f}\".format(accuracy))"
      ],
      "metadata": {
        "colab": {
          "base_uri": "https://localhost:8080/"
        },
        "id": "-b6sjNPTW03m",
        "outputId": "d2b2dac8-4c7b-4f19-990a-cf7863f52115"
      },
      "execution_count": 28,
      "outputs": [
        {
          "output_type": "stream",
          "name": "stdout",
          "text": [
            "Best Parameters: {'C': 10, 'penalty': 'l1'}\n",
            "Test Accuracy with Best Parameters: 1.00\n"
          ]
        }
      ]
    },
    {
      "cell_type": "code",
      "source": [
        "# Q7.\n",
        "\n",
        "from sklearn.datasets import load_iris\n",
        "from sklearn.linear_model import LogisticRegression\n",
        "from sklearn.model_selection import StratifiedKFold, cross_val_score\n",
        "import numpy as np\n",
        "\n",
        "X, y = load_iris(return_X_y=True)\n",
        "\n",
        "model = LogisticRegression(solver='liblinear', max_iter=200)\n",
        "\n",
        "skf = StratifiedKFold(n_splits=5, shuffle=True, random_state=42)\n",
        "\n",
        "scores = cross_val_score(model, X, y, cv=skf, scoring='accuracy')\n",
        "\n",
        "for i, score in enumerate(scores, 1):\n",
        "    print(f\"Fold {i} Accuracy: {score:.2f}\")\n",
        "\n",
        "print(f\"\\nAverage Accuracy: {np.mean(scores):.2f}\")"
      ],
      "metadata": {
        "colab": {
          "base_uri": "https://localhost:8080/"
        },
        "id": "2wCaNmTvXFHF",
        "outputId": "9e8d6d83-3835-43c8-b5c0-8fcd8230ffe3"
      },
      "execution_count": 29,
      "outputs": [
        {
          "output_type": "stream",
          "name": "stdout",
          "text": [
            "Fold 1 Accuracy: 0.97\n",
            "Fold 2 Accuracy: 1.00\n",
            "Fold 3 Accuracy: 0.90\n",
            "Fold 4 Accuracy: 0.93\n",
            "Fold 5 Accuracy: 1.00\n",
            "\n",
            "Average Accuracy: 0.96\n"
          ]
        }
      ]
    },
    {
      "cell_type": "code",
      "source": [
        "# Q8.\n",
        "\n",
        "\n",
        "import pandas as pd\n",
        "from sklearn.model_selection import train_test_split\n",
        "from sklearn.linear_model import LogisticRegression\n",
        "from sklearn.metrics import accuracy_score\n",
        "\n",
        "data = pd.read_csv('titanic.csv')\n",
        "\n",
        "data['Age'].fillna(data['Age'].median(), inplace=True)\n",
        "data['Embarked'].fillna(data['Embarked'].mode()[0], inplace=True)\n",
        "data['Sex'] = data['Sex'].map({'male': 0, 'female': 1})\n",
        "\n",
        "data = pd.get_dummies(data, columns=['Embarked'], drop_first=True)\n",
        "\n",
        "features = ['Pclass', 'Sex', 'Age', 'SibSp', 'Parch', 'Fare', 'Embarked_Q', 'Embarked_S']\n",
        "X = data[features]\n",
        "y = data['Survived']\n",
        "\n",
        "X_train, X_test, y_train, y_test = train_test_split(X, y, test_size=0.2, random_state=42)\n",
        "\n",
        "model = LogisticRegression(max_iter=200)\n",
        "model.fit(X_train, y_train)\n",
        "\n",
        "y_pred = model.predict(X_test)\n",
        "\n",
        "accuracy = accuracy_score(y_test, y_pred)\n",
        "print(f'Accuracy: {accuracy:.4f}')"
      ],
      "metadata": {
        "colab": {
          "base_uri": "https://localhost:8080/"
        },
        "id": "CppMQfWIXsVF",
        "outputId": "2a1fd733-9f5f-42cb-ce91-b3fc6211ca53"
      },
      "execution_count": 47,
      "outputs": [
        {
          "output_type": "stream",
          "name": "stdout",
          "text": [
            "Accuracy: 0.8101\n"
          ]
        }
      ]
    },
    {
      "cell_type": "code",
      "source": [
        "# Q9.\n",
        "\n",
        "import numpy as np\n",
        "import pandas as pd\n",
        "from sklearn.datasets import load_iris\n",
        "from sklearn.linear_model import LogisticRegression\n",
        "from sklearn.model_selection import train_test_split, RandomizedSearchCV\n",
        "from sklearn.metrics import accuracy_score\n",
        "from scipy.stats import uniform\n",
        "\n",
        "data = load_iris()\n",
        "X = data.data\n",
        "y = data.target\n",
        "\n",
        "X_train, X_test, y_train, y_test = train_test_split(\n",
        "    X, y, test_size=0.2, random_state=42, stratify=y\n",
        ")\n",
        "\n",
        "logreg = LogisticRegression(max_iter=1000)\n",
        "\n",
        "param_dist = {\n",
        "    'C': uniform(0.01, 10),\n",
        "    'penalty': ['l1', 'l2'],\n",
        "    'solver': ['liblinear', 'saga']\n",
        "}\n",
        "\n",
        "random_search = RandomizedSearchCV(\n",
        "    logreg, param_distributions=param_dist,\n",
        "    n_iter=20, cv=5, scoring='accuracy', random_state=42, n_jobs=-1\n",
        ")\n",
        "\n",
        "random_search.fit(X_train, y_train)\n",
        "\n",
        "best_params = random_search.best_params_\n",
        "best_model = random_search.best_estimator_\n",
        "\n",
        "y_pred = best_model.predict(X_test)\n",
        "\n",
        "accuracy = accuracy_score(y_test, y_pred)\n",
        "\n",
        "print(f\"Best hyperparameters: {best_params}\")\n",
        "print(f\"Test set accuracy with best parameters: {accuracy:.4f}\")"
      ],
      "metadata": {
        "colab": {
          "base_uri": "https://localhost:8080/"
        },
        "id": "qrejSzK_X8ZT",
        "outputId": "49a9e2a3-7a70-42fb-8e74-8a20687ccc7d"
      },
      "execution_count": 31,
      "outputs": [
        {
          "output_type": "stream",
          "name": "stdout",
          "text": [
            "Best hyperparameters: {'C': np.float64(8.334426408004218), 'penalty': 'l2', 'solver': 'saga'}\n",
            "Test set accuracy with best parameters: 1.0000\n"
          ]
        }
      ]
    },
    {
      "cell_type": "code",
      "source": [
        "# Q10.\n",
        "\n",
        "from sklearn.datasets import load_iris\n",
        "from sklearn.linear_model import LogisticRegression\n",
        "from sklearn.multiclass import OneVsOneClassifier\n",
        "from sklearn.model_selection import train_test_split\n",
        "from sklearn.metrics import accuracy_score\n",
        "\n",
        "data = load_iris()\n",
        "X = data.data\n",
        "y = data.target\n",
        "\n",
        "X_train, X_test, y_train, y_test = train_test_split(\n",
        "    X, y, test_size=0.2, random_state=42, stratify=y\n",
        ")\n",
        "\n",
        "ovo_clf = OneVsOneClassifier(LogisticRegression(max_iter=1000, solver='liblinear'))\n",
        "\n",
        "ovo_clf.fit(X_train, y_train)\n",
        "\n",
        "y_pred = ovo_clf.predict(X_test)\n",
        "\n",
        "accuracy = accuracy_score(y_test, y_pred)\n",
        "print(f\"One-vs-One Logistic Regression accuracy: {accuracy:.4f}\")\n"
      ],
      "metadata": {
        "colab": {
          "base_uri": "https://localhost:8080/"
        },
        "id": "LbdHFowMZhwC",
        "outputId": "84920998-de50-4dfa-eb2f-6c33cc04ca30"
      },
      "execution_count": 32,
      "outputs": [
        {
          "output_type": "stream",
          "name": "stdout",
          "text": [
            "One-vs-One Logistic Regression accuracy: 1.0000\n"
          ]
        }
      ]
    },
    {
      "cell_type": "code",
      "source": [
        "# Q11.\n",
        "\n",
        "import numpy as np\n",
        "import matplotlib.pyplot as plt\n",
        "from sklearn.datasets import make_classification\n",
        "from sklearn.linear_model import LogisticRegression\n",
        "from sklearn.model_selection import train_test_split\n",
        "from sklearn.metrics import confusion_matrix, ConfusionMatrixDisplay\n",
        "\n",
        "X, y = make_classification(\n",
        "    n_samples=500, n_features=5, n_informative=3, n_redundant=0,\n",
        "    n_classes=2, random_state=42\n",
        ")\n",
        "\n",
        "X_train, X_test, y_train, y_test = train_test_split(\n",
        "    X, y, test_size=0.3, random_state=42, stratify=y\n",
        ")\n",
        "\n",
        "model = LogisticRegression(max_iter=1000)\n",
        "model.fit(X_train, y_train)\n",
        "\n",
        "y_pred = model.predict(X_test)\n",
        "\n",
        "cm = confusion_matrix(y_test, y_pred)\n",
        "\n",
        "disp = ConfusionMatrixDisplay(confusion_matrix=cm, display_labels=model.classes_)\n",
        "disp.plot(cmap=plt.cm.Blues)\n",
        "plt.title(\"Confusion Matrix for Logistic Regression\")\n",
        "plt.show()"
      ],
      "metadata": {
        "colab": {
          "base_uri": "https://localhost:8080/",
          "height": 472
        },
        "id": "BCBASjsoZnyR",
        "outputId": "df03027e-f927-4a2a-e71b-68e2f20ec21f"
      },
      "execution_count": 33,
      "outputs": [
        {
          "output_type": "display_data",
          "data": {
            "text/plain": [
              "<Figure size 640x480 with 2 Axes>"
            ],
            "image/png": "[encoded data removed]"
          },
          "metadata": {}
        }
      ]
    },
    {
      "cell_type": "code",
      "source": [
        "# Q12.\n",
        "\n",
        "from sklearn.datasets import make_classification\n",
        "from sklearn.linear_model import LogisticRegression\n",
        "from sklearn.model_selection import train_test_split\n",
        "from sklearn.metrics import precision_score, recall_score, f1_score\n",
        "\n",
        "X, y = make_classification(\n",
        "    n_samples=500, n_features=5, n_informative=3, n_redundant=0,\n",
        "    n_classes=2, random_state=42\n",
        ")\n",
        "\n",
        "X_train, X_test, y_train, y_test = train_test_split(\n",
        "    X, y, test_size=0.3, random_state=42, stratify=y\n",
        ")\n",
        "\n",
        "model = LogisticRegression(max_iter=1000)\n",
        "model.fit(X_train, y_train)\n",
        "\n",
        "y_pred = model.predict(X_test)\n",
        "\n",
        "precision = precision_score(y_test, y_pred)\n",
        "recall = recall_score(y_test, y_pred)\n",
        "f1 = f1_score(y_test, y_pred)\n",
        "\n",
        "print(f\"Precision: {precision:.3f}\")\n",
        "print(f\"Recall:    {recall:.3f}\")\n",
        "print(f\"F1-Score:  {f1:.3f}\")"
      ],
      "metadata": {
        "colab": {
          "base_uri": "https://localhost:8080/"
        },
        "id": "-RRCqGU6aGft",
        "outputId": "b00a4609-de6d-49c1-d311-1f2fab146494"
      },
      "execution_count": 34,
      "outputs": [
        {
          "output_type": "stream",
          "name": "stdout",
          "text": [
            "Precision: 0.835\n",
            "Recall:    0.868\n",
            "F1-Score:  0.852\n"
          ]
        }
      ]
    },
    {
      "cell_type": "code",
      "source": [
        "# Q13.\n",
        "\n",
        "from sklearn.datasets import make_classification\n",
        "from sklearn.linear_model import LogisticRegression\n",
        "from sklearn.model_selection import train_test_split\n",
        "from sklearn.metrics import classification_report\n",
        "from collections import Counter\n",
        "\n",
        "X, y = make_classification(\n",
        "    n_samples=1000,\n",
        "    n_features=10,\n",
        "    n_classes=2,\n",
        "    weights=[0.9, 0.1],\n",
        "    flip_y=0,\n",
        "    random_state=42\n",
        ")\n",
        "\n",
        "print(f\"Original class distribution: {Counter(y)}\")\n",
        "\n",
        "X_train, X_test, y_train, y_test = train_test_split(\n",
        "    X, y, test_size=0.3, random_state=42, stratify=y\n",
        ")\n",
        "\n",
        "model_no_weights = LogisticRegression(max_iter=1000)\n",
        "model_no_weights.fit(X_train, y_train)\n",
        "y_pred_no_weights = model_no_weights.predict(X_test)\n",
        "\n",
        "print(\"\\nClassification report without class weights:\")\n",
        "print(classification_report(y_test, y_pred_no_weights))\n",
        "\n",
        "model_with_weights = LogisticRegression(max_iter=1000, class_weight='balanced')\n",
        "model_with_weights.fit(X_train, y_train)\n",
        "y_pred_with_weights = model_with_weights.predict(X_test)\n",
        "\n",
        "print(\"\\nClassification report with class weights:\")\n",
        "print(classification_report(y_test, y_pred_with_weights))"
      ],
      "metadata": {
        "colab": {
          "base_uri": "https://localhost:8080/"
        },
        "id": "rI70a58faUuR",
        "outputId": "763dba87-34eb-45b1-dbaa-a721a3e1620e"
      },
      "execution_count": 35,
      "outputs": [
        {
          "output_type": "stream",
          "name": "stdout",
          "text": [
            "Original class distribution: Counter({np.int64(0): 900, np.int64(1): 100})\n",
            "\n",
            "Classification report without class weights:\n",
            "              precision    recall  f1-score   support\n",
            "\n",
            "           0       0.93      0.98      0.95       270\n",
            "           1       0.67      0.33      0.44        30\n",
            "\n",
            "    accuracy                           0.92       300\n",
            "   macro avg       0.80      0.66      0.70       300\n",
            "weighted avg       0.90      0.92      0.90       300\n",
            "\n",
            "\n",
            "Classification report with class weights:\n",
            "              precision    recall  f1-score   support\n",
            "\n",
            "           0       0.98      0.89      0.94       270\n",
            "           1       0.47      0.87      0.61        30\n",
            "\n",
            "    accuracy                           0.89       300\n",
            "   macro avg       0.73      0.88      0.77       300\n",
            "weighted avg       0.93      0.89      0.90       300\n",
            "\n"
          ]
        }
      ]
    },
    {
      "cell_type": "code",
      "source": [
        "# Q14.\n",
        "\n",
        "import pandas as pd\n",
        "from sklearn.model_selection import train_test_split\n",
        "from sklearn.linear_model import LogisticRegression\n",
        "from sklearn.metrics import accuracy_score, classification_report\n",
        "from sklearn.preprocessing import LabelEncoder\n",
        "\n",
        "url = 'https://raw.githubusercontent.com/datasciencedojo/datasets/master/titanic.csv'\n",
        "data = pd.read_csv(url)\n",
        "\n",
        "print(data.head())\n",
        "\n",
        "data['Age'].fillna(data['Age'].median(), inplace=True)\n",
        "\n",
        "data['Embarked'].fillna(data['Embarked'].mode()[0], inplace=True)\n",
        "\n",
        "data.drop(columns=['PassengerId', 'Name', 'Ticket', 'Cabin'], inplace=True)\n",
        "\n",
        "le_sex = LabelEncoder()\n",
        "data['Sex'] = le_sex.fit_transform(data['Sex'])\n",
        "\n",
        "le_embarked = LabelEncoder()\n",
        "data['Embarked'] = le_embarked.fit_transform(data['Embarked'])\n",
        "\n",
        "X = data.drop('Survived', axis=1)\n",
        "y = data['Survived']\n",
        "\n",
        "X_train, X_test, y_train, y_test = train_test_split(\n",
        "    X, y, test_size=0.2, random_state=42, stratify=y)\n",
        "\n",
        "model = LogisticRegression(max_iter=500)\n",
        "model.fit(X_train, y_train)\n",
        "\n",
        "y_pred = model.predict(X_test)\n",
        "print(\"Accuracy:\", accuracy_score(y_test, y_pred))\n",
        "print(\"\\nClassification Report:\\n\", classification_report(y_test, y_pred))"
      ],
      "metadata": {
        "colab": {
          "base_uri": "https://localhost:8080/"
        },
        "id": "IPZV8hlBagME",
        "outputId": "c4327111-83f9-4c16-a9ee-229a0ecc3835"
      },
      "execution_count": 36,
      "outputs": [
        {
          "output_type": "stream",
          "name": "stdout",
          "text": [
            "   PassengerId  Survived  Pclass  \\\n",
            "0            1         0       3   \n",
            "1            2         1       1   \n",
            "2            3         1       3   \n",
            "3            4         1       1   \n",
            "4            5         0       3   \n",
            "\n",
            "                                                Name     Sex   Age  SibSp  \\\n",
            "0                            Braund, Mr. Owen Harris    male  22.0      1   \n",
            "1  Cumings, Mrs. John Bradley (Florence Briggs Th...  female  38.0      1   \n",
            "2                             Heikkinen, Miss. Laina  female  26.0      0   \n",
            "3       Futrelle, Mrs. Jacques Heath (Lily May Peel)  female  35.0      1   \n",
            "4                           Allen, Mr. William Henry    male  35.0      0   \n",
            "\n",
            "   Parch            Ticket     Fare Cabin Embarked  \n",
            "0      0         A/5 21171   7.2500   NaN        S  \n",
            "1      0          PC 17599  71.2833   C85        C  \n",
            "2      0  STON/O2. 3101282   7.9250   NaN        S  \n",
            "3      0            113803  53.1000  C123        S  \n",
            "4      0            373450   8.0500   NaN        S  \n",
            "Accuracy: 0.8044692737430168\n",
            "\n",
            "Classification Report:\n",
            "               precision    recall  f1-score   support\n",
            "\n",
            "           0       0.81      0.89      0.85       110\n",
            "           1       0.79      0.67      0.72        69\n",
            "\n",
            "    accuracy                           0.80       179\n",
            "   macro avg       0.80      0.78      0.79       179\n",
            "weighted avg       0.80      0.80      0.80       179\n",
            "\n"
          ]
        }
      ]
    },
    {
      "cell_type": "code",
      "source": [
        "# Q15.\n",
        "\n",
        "import pandas as pd\n",
        "from sklearn.model_selection import train_test_split\n",
        "from sklearn.linear_model import LogisticRegression\n",
        "from sklearn.preprocessing import StandardScaler\n",
        "from sklearn.metrics import accuracy_score\n",
        "\n",
        "from sklearn.datasets import load_breast_cancer\n",
        "data = load_breast_cancer()\n",
        "X = pd.DataFrame(data.data, columns=data.feature_names)\n",
        "y = pd.Series(data.target)\n",
        "\n",
        "X_train, X_test, y_train, y_test = train_test_split(X, y, test_size=0.2, random_state=42)\n",
        "\n",
        "model_no_scaling = LogisticRegression(max_iter=1000)\n",
        "model_no_scaling.fit(X_train, y_train)\n",
        "y_pred_no_scaling = model_no_scaling.predict(X_test)\n",
        "accuracy_no_scaling = accuracy_score(y_test, y_pred_no_scaling)\n",
        "\n",
        "scaler = StandardScaler()\n",
        "X_train_scaled = scaler.fit_transform(X_train)\n",
        "X_test_scaled = scaler.transform(X_test)\n",
        "\n",
        "\n",
        "model_scaling = LogisticRegression(max_iter=1000)\n",
        "model_scaling.fit(X_train_scaled, y_train)\n",
        "y_pred_scaling = model_scaling.predict(X_test_scaled)\n",
        "accuracy_scaling = accuracy_score(y_test, y_pred_scaling)\n",
        "\n",
        "print(f\"Accuracy without scaling: {accuracy_no_scaling:.4f}\")\n",
        "print(f\"Accuracy with scaling:    {accuracy_scaling:.4f}\")\n"
      ],
      "metadata": {
        "colab": {
          "base_uri": "https://localhost:8080/"
        },
        "id": "cJkDWFDTavXc",
        "outputId": "7965f31e-0c71-4503-cf38-1a31bd8cda76"
      },
      "execution_count": 37,
      "outputs": [
        {
          "output_type": "stream",
          "name": "stdout",
          "text": [
            "Accuracy without scaling: 0.9561\n",
            "Accuracy with scaling:    0.9737\n"
          ]
        }
      ]
    },
    {
      "cell_type": "code",
      "source": [
        "# Q17.\n",
        "\n",
        "import pandas as pd\n",
        "from sklearn.model_selection import train_test_split\n",
        "from sklearn.linear_model import LogisticRegression\n",
        "from sklearn.metrics import roc_auc_score, roc_curve\n",
        "import matplotlib.pyplot as plt\n",
        "\n",
        "from sklearn.datasets import make_classification\n",
        "X, y = make_classification(n_samples=1000, n_features=20, random_state=42)\n",
        "\n",
        "X_train, X_test, y_train, y_test = train_test_split(X, y, test_size=0.2, random_state=42)\n",
        "\n",
        "model = LogisticRegression(max_iter=1000, solver='liblinear')\n",
        "model.fit(X_train, y_train)\n",
        "\n",
        "y_probs = model.predict_proba(X_test)[:, 1]\n",
        "\n",
        "roc_auc = roc_auc_score(y_test, y_probs)\n",
        "print(f\"ROC-AUC score: {roc_auc:.4f}\")\n",
        "\n",
        "fpr, tpr, thresholds = roc_curve(y_test, y_probs)\n",
        "plt.figure(figsize=(8,6))\n",
        "plt.plot(fpr, tpr, label=f'ROC curve (area = {roc_auc:.4f})')\n",
        "plt.plot([0,1], [0,1], 'k--')\n",
        "plt.xlabel('False Positive Rate')\n",
        "plt.ylabel('True Positive Rate')\n",
        "plt.title('Receiver Operating Characteristic (ROC) Curve')\n",
        "plt.legend(loc='lower right')\n",
        "plt.show()\n"
      ],
      "metadata": {
        "colab": {
          "base_uri": "https://localhost:8080/",
          "height": 545
        },
        "id": "JqF6i4zLbTbp",
        "outputId": "056c0188-be25-416e-d493-314effd608c3"
      },
      "execution_count": 38,
      "outputs": [
        {
          "output_type": "stream",
          "name": "stdout",
          "text": [
            "ROC-AUC score: 0.9216\n"
          ]
        },
        {
          "output_type": "display_data",
          "data": {
            "text/plain": [
              "<Figure size 800x600 with 1 Axes>"
            ],
            "image/png": "[encoded data removed]"
          },
          "metadata": {}
        }
      ]
    },
    {
      "cell_type": "code",
      "source": [
        "# Q18.\n",
        "\n",
        "import pandas as pd\n",
        "from sklearn.datasets import load_breast_cancer\n",
        "from sklearn.linear_model import LogisticRegression\n",
        "from sklearn.model_selection import train_test_split\n",
        "import numpy as np\n",
        "\n",
        "data = load_breast_cancer()\n",
        "X = pd.DataFrame(data.data, columns=data.feature_names)\n",
        "y = data.target\n",
        "\n",
        "X_train, X_test, y_train, y_test = train_test_split(X, y, test_size=0.2, random_state=42)\n",
        "\n",
        "model = LogisticRegression(max_iter=1000, solver='liblinear')\n",
        "model.fit(X_train, y_train)\n",
        "\n",
        "coefficients = model.coef_[0]\n",
        "\n",
        "feature_importance = pd.DataFrame({\n",
        "    'Feature': X.columns,\n",
        "    'Coefficient': coefficients,\n",
        "    'Absolute Coefficient': np.abs(coefficients)\n",
        "})\n",
        "\n",
        "feature_importance = feature_importance.sort_values(by='Absolute Coefficient', ascending=False)\n",
        "\n",
        "print(\"Features ranked by importance (coefficient magnitude):\")\n",
        "print(feature_importance[['Feature', 'Coefficient']])"
      ],
      "metadata": {
        "colab": {
          "base_uri": "https://localhost:8080/"
        },
        "id": "S5yzqfREcBoU",
        "outputId": "d0a93aec-4f50-42df-a1fe-1ffc521cd8f9"
      },
      "execution_count": 39,
      "outputs": [
        {
          "output_type": "stream",
          "name": "stdout",
          "text": [
            "Features ranked by importance (coefficient magnitude):\n",
            "                    Feature  Coefficient\n",
            "0               mean radius     2.132484\n",
            "26          worst concavity    -1.617969\n",
            "11            texture error     1.442984\n",
            "20             worst radius     1.232150\n",
            "25        worst compactness    -1.208985\n",
            "28           worst symmetry    -0.742764\n",
            "6            mean concavity    -0.651940\n",
            "27     worst concave points    -0.615251\n",
            "5          mean compactness    -0.415569\n",
            "21            worst texture    -0.404581\n",
            "7       mean concave points    -0.344456\n",
            "12          perimeter error    -0.303857\n",
            "24         worst smoothness    -0.262631\n",
            "8             mean symmetry    -0.207613\n",
            "1              mean texture     0.152772\n",
            "2            mean perimeter    -0.145091\n",
            "4           mean smoothness    -0.142636\n",
            "29  worst fractal dimension    -0.116960\n",
            "13               area error    -0.072569\n",
            "10             radius error    -0.050034\n",
            "16          concavity error    -0.044886\n",
            "18           symmetry error    -0.041752\n",
            "17     concave points error    -0.037719\n",
            "22          worst perimeter    -0.036209\n",
            "9    mean fractal dimension    -0.029774\n",
            "23               worst area    -0.027087\n",
            "14         smoothness error    -0.016159\n",
            "19  fractal dimension error     0.005613\n",
            "15        compactness error    -0.001907\n",
            "3                 mean area    -0.000829\n"
          ]
        }
      ]
    },
    {
      "cell_type": "code",
      "source": [
        "# Q19.\n",
        "\n",
        "import pandas as pd\n",
        "from sklearn.datasets import load_breast_cancer\n",
        "from sklearn.linear_model import LogisticRegression\n",
        "from sklearn.model_selection import train_test_split\n",
        "from sklearn.metrics import cohen_kappa_score\n",
        "\n",
        "data = load_breast_cancer()\n",
        "X = pd.DataFrame(data.data, columns=data.feature_names)\n",
        "y = data.target\n",
        "\n",
        "X_train, X_test, y_train, y_test = train_test_split(X, y, test_size=0.2, random_state=42)\n",
        "\n",
        "model = LogisticRegression(max_iter=1000, solver='liblinear')\n",
        "model.fit(X_train, y_train)\n",
        "\n",
        "y_pred = model.predict(X_test)\n",
        "\n",
        "kappa = cohen_kappa_score(y_test, y_pred)\n",
        "\n",
        "print(f\"Cohen's Kappa Score: {kappa:.4f}\")\n"
      ],
      "metadata": {
        "colab": {
          "base_uri": "https://localhost:8080/"
        },
        "id": "wECPFkYNcSwF",
        "outputId": "5661ad9b-0fe8-4a1e-a6a2-5e36de612729"
      },
      "execution_count": 40,
      "outputs": [
        {
          "output_type": "stream",
          "name": "stdout",
          "text": [
            "Cohen's Kappa Score: 0.9053\n"
          ]
        }
      ]
    },
    {
      "cell_type": "code",
      "source": [
        "# Q20.\n",
        "\n",
        "import pandas as pd\n",
        "from sklearn.datasets import load_breast_cancer\n",
        "from sklearn.linear_model import LogisticRegression\n",
        "from sklearn.model_selection import train_test_split\n",
        "from sklearn.metrics import precision_recall_curve, average_precision_score\n",
        "import matplotlib.pyplot as plt\n",
        "\n",
        "data = load_breast_cancer()\n",
        "X = pd.DataFrame(data.data, columns=data.feature_names)\n",
        "y = data.target\n",
        "\n",
        "X_train, X_test, y_train, y_test = train_test_split(X, y, test_size=0.2, random_state=42)\n",
        "\n",
        "model = LogisticRegression(max_iter=1000, solver='liblinear')\n",
        "model.fit(X_train, y_train)\n",
        "\n",
        "y_scores = model.predict_proba(X_test)[:, 1]\n",
        "\n",
        "precision, recall, thresholds = precision_recall_curve(y_test, y_scores)\n",
        "avg_precision = average_precision_score(y_test, y_scores)\n",
        "\n",
        "plt.figure(figsize=(8, 6))\n",
        "plt.plot(recall, precision, label=f'Logistic Regression (AP={avg_precision:.2f})')\n",
        "plt.xlabel('Recall')\n",
        "plt.ylabel('Precision')\n",
        "plt.title('Precision-Recall Curve')\n",
        "plt.legend()\n",
        "plt.grid(True)\n",
        "plt.show()"
      ],
      "metadata": {
        "colab": {
          "base_uri": "https://localhost:8080/",
          "height": 521
        },
        "id": "gzjoJI1fcemP",
        "outputId": "5bf83333-0f24-46d0-e378-172e682b41d2"
      },
      "execution_count": 41,
      "outputs": [
        {
          "output_type": "display_data",
          "data": {
            "text/plain": [
              "<Figure size 800x600 with 1 Axes>"
            ],
            "image/png": "[encoded data removed]"
          },
          "metadata": {}
        }
      ]
    },
    {
      "cell_type": "code",
      "source": [
        "# Q21.\n",
        "\n",
        "import pandas as pd\n",
        "from sklearn.datasets import load_breast_cancer\n",
        "from sklearn.linear_model import LogisticRegression\n",
        "from sklearn.model_selection import train_test_split\n",
        "from sklearn.metrics import accuracy_score\n",
        "\n",
        "data = load_breast_cancer()\n",
        "X = pd.DataFrame(data.data, columns=data.feature_names)\n",
        "y = data.target\n",
        "\n",
        "X_train, X_test, y_train, y_test = train_test_split(X, y, test_size=0.2, random_state=42)\n",
        "\n",
        "solvers = ['liblinear', 'saga', 'lbfgs']\n",
        "\n",
        "accuracy_results = {}\n",
        "\n",
        "for solver in solvers:\n",
        "    model = LogisticRegression(solver=solver, max_iter=1000)\n",
        "    model.fit(X_train, y_train)\n",
        "    y_pred = model.predict(X_test)\n",
        "    accuracy = accuracy_score(y_test, y_pred)\n",
        "    accuracy_results[solver] = accuracy\n",
        "\n",
        "for solver, accuracy in accuracy_results.items():\n",
        "    print(f\"Accuracy with solver '{solver}': {accuracy:.4f}\")\n"
      ],
      "metadata": {
        "colab": {
          "base_uri": "https://localhost:8080/"
        },
        "id": "cDdGC4WWd7Nd",
        "outputId": "1f3bad77-bd92-4657-cda2-6bb38950b50a"
      },
      "execution_count": 42,
      "outputs": [
        {
          "output_type": "stream",
          "name": "stdout",
          "text": [
            "Accuracy with solver 'liblinear': 0.9561\n",
            "Accuracy with solver 'saga': 0.9649\n",
            "Accuracy with solver 'lbfgs': 0.9561\n"
          ]
        }
      ]
    },
    {
      "cell_type": "code",
      "source": [
        "# Q22.\n",
        "\n",
        "import pandas as pd\n",
        "from sklearn.datasets import load_breast_cancer\n",
        "from sklearn.linear_model import LogisticRegression\n",
        "from sklearn.model_selection import train_test_split\n",
        "from sklearn.metrics import matthews_corrcoef\n",
        "\n",
        "data = load_breast_cancer()\n",
        "X = pd.DataFrame(data.data, columns=data.feature_names)\n",
        "y = data.target\n",
        "\n",
        "X_train, X_test, y_train, y_test = train_test_split(X, y, test_size=0.2, random_state=42)\n",
        "\n",
        "model = LogisticRegression(max_iter=1000)\n",
        "model.fit(X_train, y_train)\n",
        "\n",
        "y_pred = model.predict(X_test)\n",
        "\n",
        "mcc = matthews_corrcoef(y_test, y_pred)\n",
        "\n",
        "print(f\"Matthews Correlation Coefficient (MCC): {mcc:.4f}\")"
      ],
      "metadata": {
        "colab": {
          "base_uri": "https://localhost:8080/"
        },
        "id": "TNPBaMY_eOmw",
        "outputId": "fa0c99e1-8307-4ec3-b014-fe98fcb4abcc"
      },
      "execution_count": 43,
      "outputs": [
        {
          "output_type": "stream",
          "name": "stdout",
          "text": [
            "Matthews Correlation Coefficient (MCC): 0.9068\n"
          ]
        }
      ]
    },
    {
      "cell_type": "code",
      "source": [
        "# Q23.\n",
        "\n",
        "import pandas as pd\n",
        "from sklearn.datasets import load_breast_cancer\n",
        "from sklearn.linear_model import LogisticRegression\n",
        "from sklearn.model_selection import train_test_split\n",
        "from sklearn.preprocessing import StandardScaler\n",
        "from sklearn.metrics import accuracy_score\n",
        "\n",
        "data = load_breast_cancer()\n",
        "X = pd.DataFrame(data.data, columns=data.feature_names)\n",
        "y = data.target\n",
        "\n",
        "X_train, X_test, y_train, y_test = train_test_split(X, y, test_size=0.2, random_state=42)\n",
        "\n",
        "model_raw = LogisticRegression(max_iter=1000)\n",
        "model_raw.fit(X_train, y_train)\n",
        "y_pred_raw = model_raw.predict(X_test)\n",
        "accuracy_raw = accuracy_score(y_test, y_pred_raw)\n",
        "\n",
        "scaler = StandardScaler()\n",
        "X_train_scaled = scaler.fit_transform(X_train)\n",
        "X_test_scaled = scaler.transform(X_test)\n",
        "\n",
        "model_scaled = LogisticRegression(max_iter=1000)\n",
        "model_scaled.fit(X_train_scaled, y_train)\n",
        "y_pred_scaled = model_scaled.predict(X_test_scaled)\n",
        "accuracy_scaled = accuracy_score(y_test, y_pred_scaled)\n",
        "\n",
        "print(f\"Accuracy without scaling: {accuracy_raw:.4f}\")\n",
        "print(f\"Accuracy with scaling:    {accuracy_scaled:.4f}\")"
      ],
      "metadata": {
        "colab": {
          "base_uri": "https://localhost:8080/"
        },
        "id": "q8faUBWaeYPl",
        "outputId": "489b3de1-e001-4d09-f288-5dc400c54926"
      },
      "execution_count": 44,
      "outputs": [
        {
          "output_type": "stream",
          "name": "stdout",
          "text": [
            "Accuracy without scaling: 0.9561\n",
            "Accuracy with scaling:    0.9737\n"
          ]
        }
      ]
    },
    {
      "cell_type": "code",
      "source": [
        "# Q24.\n",
        "\n",
        "import pandas as pd\n",
        "from sklearn.datasets import load_breast_cancer\n",
        "from sklearn.linear_model import LogisticRegression\n",
        "from sklearn.model_selection import GridSearchCV, train_test_split\n",
        "from sklearn.metrics import accuracy_score\n",
        "\n",
        "data = load_breast_cancer()\n",
        "X = pd.DataFrame(data.data, columns=data.feature_names)\n",
        "y = data.target\n",
        "\n",
        "X_train, X_test, y_train, y_test = train_test_split(X, y, test_size=0.2, random_state=42)\n",
        "\n",
        "model = LogisticRegression(max_iter=1000, solver='liblinear')\n",
        "\n",
        "param_grid = {'C': [0.01, 0.1, 1, 10, 100]}\n",
        "\n",
        "grid_search = GridSearchCV(model, param_grid, cv=5, scoring='accuracy')\n",
        "\n",
        "grid_search.fit(X_train, y_train)\n",
        "\n",
        "best_C = grid_search.best_params_['C']\n",
        "print(f\"Best C: {best_C}\")\n",
        "\n",
        "best_model = grid_search.best_estimator_\n",
        "y_pred = best_model.predict(X_test)\n",
        "accuracy = accuracy_score(y_test, y_pred)\n",
        "print(f\"Accuracy with best C: {accuracy:.4f}\")"
      ],
      "metadata": {
        "colab": {
          "base_uri": "https://localhost:8080/"
        },
        "id": "n7B317idewcy",
        "outputId": "f83decf0-8f0f-45ab-84e5-3c44012c546f"
      },
      "execution_count": 45,
      "outputs": [
        {
          "output_type": "stream",
          "name": "stdout",
          "text": [
            "Best C: 10\n",
            "Accuracy with best C: 0.9561\n"
          ]
        }
      ]
    },
    {
      "cell_type": "code",
      "source": [
        "# Q25.\n",
        "\n",
        "import pandas as pd\n",
        "from sklearn.datasets import load_breast_cancer\n",
        "from sklearn.linear_model import LogisticRegression\n",
        "from sklearn.model_selection import train_test_split\n",
        "from sklearn.metrics import accuracy_score\n",
        "import joblib\n",
        "\n",
        "data = load_breast_cancer()\n",
        "X = pd.DataFrame(data.data, columns=data.feature_names)\n",
        "y = data.target\n",
        "\n",
        "X_train, X_test, y_train, y_test = train_test_split(X, y, test_size=0.2, random_state=42)\n",
        "\n",
        "model = LogisticRegression(max_iter=1000, solver='liblinear')\n",
        "model.fit(X_train, y_train)\n",
        "\n",
        "joblib_file = \"logistic_model.joblib\"\n",
        "joblib.dump(model, joblib_file)\n",
        "print(f\"Model saved to {joblib_file}\")\n",
        "\n",
        "loaded_model = joblib.load(joblib_file)\n",
        "print(\"Model loaded from file.\")\n",
        "\n",
        "y_pred = loaded_model.predict(X_test)\n",
        "\n",
        "accuracy = accuracy_score(y_test, y_pred)\n",
        "print(f\"Accuracy of loaded model: {accuracy:.4f}\")"
      ],
      "metadata": {
        "colab": {
          "base_uri": "https://localhost:8080/"
        },
        "id": "5wd-F3yDe9s5",
        "outputId": "0a4d47f5-acdf-4253-b28e-22e4050ba90a"
      },
      "execution_count": 46,
      "outputs": [
        {
          "output_type": "stream",
          "name": "stdout",
          "text": [
            "Model saved to logistic_model.joblib\n",
            "Model loaded from file.\n",
            "Accuracy of loaded model: 0.9561\n"
          ]
        }
      ]
    }
  ]
}