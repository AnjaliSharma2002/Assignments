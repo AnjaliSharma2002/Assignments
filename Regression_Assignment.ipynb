{
  "nbformat": 4,
  "nbformat_minor": 0,
  "metadata": {
    "colab": {
      "provenance": [],
      "authorship_tag": "ABX9TyM8n0EzEh7+XzfdDiw7QEw8",
      "include_colab_link": true
    },
    "kernelspec": {
      "name": "python3",
      "display_name": "Python 3"
    },
    "language_info": {
      "name": "python"
    }
  },
  "cells": [
    {
      "cell_type": "markdown",
      "metadata": {
        "id": "view-in-github",
        "colab_type": "text"
      },
      "source": [
        "<a href=\"https://colab.research.google.com/github/AnjaliSharma2002/Assignments/blob/main/Regression_Assignment.ipynb\" target=\"_parent\"><img src=\"https://colab.research.google.com/assets/colab-badge.svg\" alt=\"Open In Colab\"/></a>"
      ]
    },
    {
      "cell_type": "code",
      "execution_count": 1,
      "metadata": {
        "id": "71fdV8G800zb"
      },
      "outputs": [],
      "source": [
        "# Q1.\n",
        "\n",
        "# Simple Linear Regression is a statistical technique that models the relationship between a dependent variable and one independent variable by fitting a straight line (called the regression line) through the data points. This line is used to predict the value of the dependent variable based on the given independent variable.\n"
      ]
    },
    {
      "cell_type": "code",
      "source": [
        "# Q2.\n",
        "\n",
        "# The key assumptions of Simple Linear Regression are:\n",
        "\n",
        "# Linearity: The relationship between the independent variable (X) and the dependent variable (Y) is linear.\n",
        "\n",
        "# Independence: Observations (data points) are independent of each other.\n",
        "\n",
        "# Homoscedasticity: The variance of residuals (errors) is constant across all levels of the independent variable.\n",
        "\n",
        "# Normality of Errors: The residuals (differences between actual and predicted values) are normally distributed.\n",
        "\n",
        "# No Multicollinearity (only relevant in multiple regression): Since simple linear regression involves only one predictor, this doesn't apply here."
      ],
      "metadata": {
        "id": "za-J5d_71vv_"
      },
      "execution_count": 2,
      "outputs": []
    },
    {
      "cell_type": "code",
      "source": [
        "# Q3.\n",
        "\n",
        "# In the equation Y=mX+c (which represents a straight line):\n",
        "\n",
        "# m is the coefficient or slope of the line.\n",
        "\n",
        "# It indicates the rate of change of the dependent variable Y with respect to the independent variable X.\n",
        "\n",
        "# In other words, it tells you how much Y changes when X increases by 1 unit."
      ],
      "metadata": {
        "id": "CD0Hhspa2I1i"
      },
      "execution_count": 4,
      "outputs": []
    },
    {
      "cell_type": "code",
      "source": [
        "# Q4.\n",
        "\n",
        "# In the equation Y=mX+c:\n",
        "\n",
        "# c is the intercept, also called the Y-intercept.\n",
        "\n",
        "# What it represents:\n",
        "# It is the value of Y when X=0.\n",
        "\n",
        "# Graphically, it is the point where the line crosses the Y-axis."
      ],
      "metadata": {
        "id": "91ZKg6xQ24IG"
      },
      "execution_count": 5,
      "outputs": []
    },
    {
      "cell_type": "code",
      "source": [
        "# Q5.\n",
        "\n",
        "# In Simple Linear Regression, the slope m (also called 𝛽1) is calculated using the following formula:\n",
        "\n",
        "# m= (n∑(XY)−∑X∑Y)/ n∑X^2 − (∑X)^2\n",
        "\n",
        "# Where:\n",
        "# n = number of data points\n",
        "# ∑XY = sum of the product of X and Y\n",
        "# ∑X = sum of all X values\n",
        "# ∑Y = sum of all Y values\n",
        "# ∑X^2 = sum of squares of X values\n",
        "\n",
        "# It finds the best-fitting line by minimizing the sum of squared differences between the actual values and the predicted values (called least squares method)."
      ],
      "metadata": {
        "id": "d7a_FrDz3VWd"
      },
      "execution_count": null,
      "outputs": []
    },
    {
      "cell_type": "code",
      "source": [
        "# Q6.\n",
        "\n",
        "# The least squares method in Simple Linear Regression is used to determine the best-fitting straight line through a set of data points. Its main purpose is to minimize the sum of the squared differences between the actual values of the dependent variable and the values predicted by the regression line. These differences are called residuals or errors. By squaring them, the method ensures all values are positive and gives more weight to larger errors. Minimizing this total squared error leads to the most accurate estimation of the line's slope and intercept. This approach ensures the regression line represents the overall trend in the data as closely as possible, making it effective for prediction and analysis.\n"
      ],
      "metadata": {
        "id": "vbx5hgX83rGd"
      },
      "execution_count": 6,
      "outputs": []
    },
    {
      "cell_type": "code",
      "source": [
        "# Q7.\n",
        "\n",
        "# In Simple Linear Regression, the coefficient of determination, denoted as R², indicates how well the independent variable explains the variation in the dependent variable. It is a statistical measure that ranges from 0 to 1, where a value closer to 1 suggests a strong relationship and a good fit of the regression line to the data. For example, an R² value of 0.90 means that 90% of the variation in the dependent variable can be explained by the independent variable, while the remaining 10% is due to other unknown factors or random variation. In essence, R² helps us understand the effectiveness of the linear model in capturing the trend present in the data.\n"
      ],
      "metadata": {
        "id": "xgFhCb4s491L"
      },
      "execution_count": 7,
      "outputs": []
    },
    {
      "cell_type": "code",
      "source": [
        "# Q8.\n",
        "\n",
        "# Multiple Linear Regression is an extension of Simple Linear Regression that models the relationship between a dependent variable and two or more independent variables. Instead of a single predictor, Multiple Linear Regression allows you to predict the dependent variable based on several predictors.\n",
        "\n",
        "# Equation:\n",
        "# The general form of the equation for Multiple Linear Regression is:\n",
        "\n",
        "# Y=β0 +β1 X1+β2 X2+⋯+βp Xp+ϵ"
      ],
      "metadata": {
        "id": "iPBPLN0G5NyJ"
      },
      "execution_count": 8,
      "outputs": []
    },
    {
      "cell_type": "code",
      "source": [
        "# Q9.\n",
        "\n",
        "# The main difference between Simple Linear Regression and Multiple Linear Regression lies in the number of independent variables used to predict the dependent variable. Simple Linear Regression involves only one independent variable (predictor) to model the relationship with the dependent variable, and the equation takes the form Y=β0 +β1 X+ϵ.\n",
        "\n",
        "# In contrast, Multiple Linear Regression involves two or more independent variables to predict the dependent variable, and the equation is expanded to Y=β0 +β1 X1+β2 X2+⋯+βp Xp+ϵ. While Simple Linear Regression is used when a single factor influences the target variable, Multiple Linear Regression is employed when multiple factors are believed to impact the dependent variable."
      ],
      "metadata": {
        "id": "4sNzM6vq5qf-"
      },
      "execution_count": 9,
      "outputs": []
    },
    {
      "cell_type": "code",
      "source": [
        "# Q10.\n",
        "\n",
        "# The key assumptions of Multiple Linear Regression are critical for ensuring the accuracy and reliability of the model. First, the relationship between the dependent variable and the independent variables must be linear, meaning the change in the dependent variable is a weighted sum of the changes in the independent variables. Second, the independence of errors assumption requires that the residuals (errors) be independent of each other, meaning the error for one observation shouldn't influence another. The homoscedasticity assumption states that the variance of the residuals should remain constant across all levels of the independent variables. Additionally, the residuals should be normally distributed for valid inferences to be made. Another important assumption is no multicollinearity, meaning the independent variables should not be highly correlated with each other, as this could distort the estimation of their individual effects. Finally, no autocorrelation ensures that residuals do not exhibit any patterns, particularly in time series data. These assumptions, if met, allow for a more accurate and interpretable regression model.\n"
      ],
      "metadata": {
        "id": "QL0ZFfmn6RWi"
      },
      "execution_count": 10,
      "outputs": []
    },
    {
      "cell_type": "code",
      "source": [
        "# Q11.\n",
        "\n",
        "# Heteroscedasticity occurs when the variance of the residuals (errors) in a Multiple Linear Regression model is not constant across all levels of the independent variables. This means that as the values of the predictors change, the spread of the residuals also changes. The presence of heteroscedasticity can lead to several issues in the model. Although the regression coefficients remain unbiased, they become inefficient, meaning their standard errors are larger than they would be if homoscedasticity (constant variance) were assumed. This affects the precision of predictions and makes hypothesis tests, such as t-tests and confidence intervals, unreliable. Consequently, this can result in incorrect conclusions about the relationships between variables. Heteroscedasticity can be detected using residual plots or statistical tests like the Breusch-Pagan test, and it can be addressed by applying transformations to the variables, using Weighted Least Squares (WLS), or adjusting the standard errors using robust methods.\n"
      ],
      "metadata": {
        "id": "yijka6KC6kwj"
      },
      "execution_count": 11,
      "outputs": []
    },
    {
      "cell_type": "code",
      "source": [
        "# Q12.\n",
        "\n",
        "# To improve a Multiple Linear Regression model with high multicollinearity, several approaches can be applied. Multicollinearity occurs when two or more independent variables are highly correlated with each other, making it difficult to estimate the individual effect of each predictor on the dependent variable. One common method to address multicollinearity is removing one of the correlated variables. This can reduce redundancy in the model and improve the accuracy of the coefficient estimates. Another approach is combining correlated variables into a single predictor, such as by calculating their average or creating a composite index. Principal Component Analysis (PCA) is also useful, as it transforms the correlated predictors into a smaller set of uncorrelated components, which can then be used in the regression model. Additionally, regularization techniques like Ridge Regression or Lasso Regression can be applied, which introduce penalties to the model that shrink or eliminate the impact of highly correlated predictors. These methods help improve model stability, prevent overfitting, and lead to more reliable interpretations of the regression results.\n"
      ],
      "metadata": {
        "id": "fQqavJmk6vsJ"
      },
      "execution_count": 12,
      "outputs": []
    },
    {
      "cell_type": "code",
      "source": [
        "# Q13.\n",
        "\n",
        "# When transforming categorical variables for use in regression models, several techniques can be applied depending on the nature of the data. One-Hot Encoding is a popular method that creates binary columns for each category, turning categorical variables into a series of 0s and 1s. This is ideal for nominal variables without any inherent order but can increase dimensionality if there are many categories. Label Encoding assigns a unique integer to each category, which is useful for ordinal variables where the categories have a natural order, though it should be avoided for nominal variables as it may introduce unintended ordinal relationships. Binary Encoding is a hybrid approach that encodes each category as a binary number, reducing dimensionality compared to one-hot encoding, making it more efficient for variables with many categories. Frequency or Count Encoding replaces categories with the number of occurrences of each category, which is simple but may introduce noise if the frequency is not directly related to the target variable. Target Encoding (or mean encoding) uses the mean of the target variable for each category, which can be powerful when there is a strong relationship between the categorical variable and the target, but it requires caution to avoid overfitting. Finally, Ordinal Encoding is used for variables with a natural ranking, assigning numerical values based on the order of the categories. Each of these techniques has its own advantages, and the choice depends on the type of categorical data and the goals of the regression model.\n"
      ],
      "metadata": {
        "id": "oLRQdgdh6-Ao"
      },
      "execution_count": 13,
      "outputs": []
    },
    {
      "cell_type": "code",
      "source": [
        "# Q14.\n",
        "\n",
        "# In Multiple Linear Regression, interaction terms are used to model the combined effect of two or more independent variables on the dependent variable, where the effect of one predictor depends on the level of another predictor. These terms allow the model to capture more complex relationships that cannot be explained by individual predictors alone. By including interaction terms, the regression model becomes more flexible and accurate, as it can better fit real-world data where the influence of one variable might change based on the value of another. For instance, the relationship between education level and salary might vary depending on years of experience, which can be modeled through an interaction term. This helps improve model accuracy and provides a deeper understanding of how different predictors jointly affect the outcome. However, while interaction terms enhance the model’s ability to capture complex relationships, they should be used carefully to avoid overfitting, especially when dealing with a large number of predictors.\n"
      ],
      "metadata": {
        "id": "w-fmtiAc9RBf"
      },
      "execution_count": 14,
      "outputs": []
    },
    {
      "cell_type": "code",
      "source": [
        "# Q15.\n",
        "\n",
        "# In Simple Linear Regression, the intercept represents the expected value of the dependent variable when the independent variable is equal to zero. It provides a baseline prediction for the dependent variable when the predictor has no effect. For example, if you're modeling the relationship between hours studied and test score, the intercept would represent the expected test score when hours studied is zero.\n",
        "\n",
        "# In Multiple Linear Regression, the intercept still represents the expected value of the dependent variable when all independent variables are zero. However, the interpretation becomes more nuanced, especially when multiple predictors are involved. The intercept in Multiple Linear Regression is the baseline value of the dependent variable when all the predictors are at their reference level (e.g., zero for continuous variables or the baseline category for categorical variables). Since the model includes multiple variables, the intercept represents a \"starting point\" that combines the effects of all predictors being zero."
      ],
      "metadata": {
        "id": "i3e7_ilV91U9"
      },
      "execution_count": 15,
      "outputs": []
    },
    {
      "cell_type": "code",
      "source": [
        "# Q16.\n",
        "\n",
        "# The slope in regression analysis represents the rate of change in the dependent variable for each unit change in the corresponding independent variable. It quantifies the strength and direction of the relationship between a predictor and the outcome. A positive slope indicates that as the independent variable increases, the dependent variable also increases, while a negative slope suggests that as the independent variable increases, the dependent variable decreases. The slope significantly affects predictions, as it directly influences how the dependent variable is estimated based on the independent variable. In simple linear regression, the predicted value of the dependent variable is calculated by multiplying the slope by the independent variable and adding the intercept. In multiple linear regression, the slope for each independent variable shows the expected change in the dependent variable when that specific predictor changes, while holding all other variables constant. The slope's interpretation can vary depending on the context, providing insights into how different factors influence the outcome. Overall, the slope is crucial for understanding the relationship between variables and making accurate predictions based on the model.\n"
      ],
      "metadata": {
        "id": "bFqPx5HS-FXh"
      },
      "execution_count": 16,
      "outputs": []
    },
    {
      "cell_type": "code",
      "source": [
        "# Q17.\n",
        "\n",
        "# The intercept in a regression model represents the expected value of the dependent variable when all independent variables are zero. It provides a baseline or starting point for the relationship between the variables. In simple linear regression, it shows the value of the dependent variable when the independent variable is zero, while in multiple linear regression, it represents the dependent variable’s value when all predictors are zero. Although its interpretation can be less meaningful if some predictors cannot realistically be zero, the intercept still offers important context for understanding how the independent variables influence the dependent variable.\n"
      ],
      "metadata": {
        "id": "Dz_q3XdY-izi"
      },
      "execution_count": 17,
      "outputs": []
    },
    {
      "cell_type": "code",
      "source": [
        "# Q18.\n",
        "\n",
        "# While R² provides useful information about the proportion of variance explained by the model, it should not be used in isolation. Complementing R² with other metrics like Adjusted R², Mean Absolute Error (MAE), Root Mean Squared Error (RMSE), and cross-validation techniques can provide a more comprehensive evaluation of model performance.\n"
      ],
      "metadata": {
        "id": "BahSavVt-zh8"
      },
      "execution_count": 18,
      "outputs": []
    },
    {
      "cell_type": "code",
      "source": [
        "# Q19.\n",
        "\n",
        "# A large standard error for a regression coefficient indicates significant uncertainty about the estimate of that coefficient, meaning the model has less confidence in the relationship between the predictor and the dependent variable. This suggests that the coefficient is not reliably estimated and could vary significantly with different samples of data. A large standard error also reduces the precision of the estimate, making it harder to draw firm conclusions about the predictor's effect. As a result, the t-statistic, which is used to assess statistical significance, becomes smaller, making it more difficult to reject the null hypothesis that the coefficient is zero. This implies that the predictor may not be statistically significant. A large standard error can stem from factors like multicollinearity (high correlation between predictors), a small sample size, or high variance in the data. Overall, it suggests that the model may not be well-specified, and the estimates may be unreliable, requiring further investigation or refinement to improve the model's accuracy.\n"
      ],
      "metadata": {
        "id": "ZLYsiJL-_FcR"
      },
      "execution_count": 19,
      "outputs": []
    },
    {
      "cell_type": "code",
      "source": [
        "# Q20.\n",
        "\n",
        "# Heteroscedasticity can be identified in residual plots by observing patterns in the spread of residuals. In a residuals vs. fitted values plot, heteroscedasticity is often indicated by a funnel-shaped or fan-shaped pattern, where the spread of residuals increases or decreases as the fitted values change. Similarly, the scale-location plot, which shows the square root of the absolute residuals against the fitted values, can reveal such patterns. Detecting heteroscedasticity is important because it affects statistical inference. When heteroscedasticity is present, standard errors of the regression coefficients can become unreliable, leading to incorrect conclusions in hypothesis testing. Although the regression coefficients remain unbiased, they become less precise, making the model’s predictions less trustworthy. To address heteroscedasticity, transformations of the dependent or independent variables, such as logarithmic transformations, or using techniques like weighted least squares or robust standard errors, can help stabilize the variance of residuals and improve model accuracy. Addressing this issue ensures more reliable estimates and enhances the validity of the regression analysis."
      ],
      "metadata": {
        "id": "GzT3x2MT_2PZ"
      },
      "execution_count": 20,
      "outputs": []
    },
    {
      "cell_type": "code",
      "source": [
        "# Q21.\n",
        "\n",
        "# If a Multiple Linear Regression model has a high R² but a low adjusted R², it often indicates overfitting. While a high R² suggests that the model explains a large portion of the variance in the dependent variable, it can be misleading because R² always increases with the addition of more predictors, even if those predictors don’t meaningfully contribute to the model. On the other hand, the adjusted R² accounts for the number of predictors and penalizes the inclusion of irrelevant variables. A large gap between R² and adjusted R² suggests that the additional predictors may be unnecessary, capturing noise rather than useful patterns, which leads to overfitting. This combination implies that the model may fit the training data well but struggle to generalize to new, unseen data. To improve the model, it’s important to reconsider the choice of predictors, remove irrelevant variables, or use techniques like regularization or cross-validation to ensure the model generalizes better to new data.\n"
      ],
      "metadata": {
        "id": "xtch_WuwAYmw"
      },
      "execution_count": 21,
      "outputs": []
    },
    {
      "cell_type": "code",
      "source": [
        "# Q22.\n",
        "\n",
        "# Scaling variables in Multiple Linear Regression is crucial because it ensures that the model treats all predictors equally, especially when they are on different scales. Variables with different units and magnitudes can bias the model, as it may give disproportionate weight to variables with larger scales. Scaling ensures that each predictor contributes equally to the model, allowing for a more balanced and accurate analysis. Additionally, scaling improves the interpretability of the regression coefficients, making it easier to compare their effects on the dependent variable. It also aids in faster and more efficient optimization, as gradient-based algorithms perform better when variables are on similar scales. Furthermore, scaling can help mitigate issues like multicollinearity, where highly correlated predictors can distort the model, and is essential for regularization techniques such as Ridge and Lasso, which rely on uniform penalties for the coefficients. Overall, scaling ensures that the model is stable, efficient, and interpretable, leading to more reliable results.\n"
      ],
      "metadata": {
        "id": "hAVGbgUzA-kO"
      },
      "execution_count": 22,
      "outputs": []
    },
    {
      "cell_type": "code",
      "source": [
        "# Q23.\n",
        "\n",
        "# Polynomial regression is an extension of linear regression that allows you to model more complex, non-linear relationships by including polynomial terms in the regression equation. While it increases the model's flexibility, careful consideration of the degree of the polynomial is important to avoid overfitting and ensure that the model generalizes well to new data.\n"
      ],
      "metadata": {
        "id": "J3rTfODSBPmQ"
      },
      "execution_count": 23,
      "outputs": []
    },
    {
      "cell_type": "code",
      "source": [
        "# Q24.\n",
        "\n",
        "# Polynomial regression and linear regression are both methods for modeling relationships between variables, but they differ in how they handle the nature of these relationships. Linear regression assumes a straight-line relationship between the dependent variable and the independent variable(s), represented by a simple linear equation. It suggests that for each unit increase in the independent variable, the dependent variable changes by a constant amount. On the other hand, polynomial regression extends linear regression by adding higher-order terms (like X^2,X^3,…) to the equation, allowing the model to capture non-linear relationships. This makes polynomial regression more flexible and able to model curved or more complex relationships between variables. However, this flexibility comes with a risk of overfitting, especially when the polynomial degree is too high, as the model may fit the noise in the data rather than the underlying pattern. Additionally, while linear regression provides a straightforward interpretation of the coefficients, polynomial regression can make interpretation more complex, as each term reflects different aspects of the relationship. Overall, polynomial regression is better suited for modeling non-linear relationships, whereas linear regression is simpler and effective for linear trends."
      ],
      "metadata": {
        "id": "6NL3_nrTBWtZ"
      },
      "execution_count": 24,
      "outputs": []
    },
    {
      "cell_type": "code",
      "source": [
        "# Q25.\n",
        "\n",
        "# Polynomial regression is used when the relationship between the independent and dependent variables is non-linear, and a simple linear model cannot adequately capture the patterns in the data. It is particularly useful when the data shows curved or parabolic trends, such as when the effect of the independent variable on the dependent variable accelerates or decelerates at different levels. For instance, polynomial regression can model U-shaped or inverted U-shaped relationships, commonly seen in fields like economics or biology, where variables such as age and productivity might follow such patterns. It is also beneficial when you want to avoid overfitting with more complex models like decision trees or neural networks. Additionally, polynomial regression is often used in experimental data where physical laws or trends follow polynomial relationships, such as in physics or chemistry. By allowing for greater flexibility than linear regression, polynomial regression can better fit non-linear data, though care must be taken to avoid overfitting, especially with higher-degree polynomials.\n"
      ],
      "metadata": {
        "id": "CqgaZV3UB_P_"
      },
      "execution_count": 25,
      "outputs": []
    },
    {
      "cell_type": "code",
      "source": [
        "# Q26.\n",
        "\n",
        "# The general equation for polynomial regression is:\n",
        "# Y=β0 + β1 X + β2 X^2 + β3 X^3 +⋯+ βn X^n + ϵ\n",
        "\n",
        "# Where:\n",
        "# - Y is the dependent variable,\n",
        "# - X is the independent variable,\n",
        "# - β0,β1,…,βn are the coefficients,\n",
        "# - X^2,X^3,…,X^n are the polynomial terms,ϵ is the error term.\n",
        "\n",
        "# This equation models a non-linear relationship by adding higher-degree terms of X to the regression."
      ],
      "metadata": {
        "id": "xphs-6xSChlE"
      },
      "execution_count": 26,
      "outputs": []
    },
    {
      "cell_type": "code",
      "source": [
        "# Q27.\n",
        "\n",
        "# Yes, polynomial regression can be applied to multiple variables. When used with multiple independent variables, the equation extends to include polynomial terms for each variable and their interactions. For example, with two variables X1 and X2, the polynomial regression equation would look like:\n",
        "\n",
        "# Y=β0 +β1 X1+β2 X2+β3 X1^2+β4 X2^2+β5 X1 X2+....+ϵ\n",
        "\n",
        "\n",
        "# This allows the model to capture non-linear relationships not just for individual variables but also their interactions."
      ],
      "metadata": {
        "id": "6_qSK-5kDmYY"
      },
      "execution_count": 27,
      "outputs": []
    },
    {
      "cell_type": "code",
      "source": [
        "# Q28.\n",
        "\n",
        "# The limitations of polynomial regression include:\n",
        "\n",
        "# Overfitting: Higher-degree polynomials can fit the training data too closely, capturing noise and leading to poor generalization to new data.\n",
        "\n",
        "# Complexity: As the degree of the polynomial increases, the model becomes more complex and harder to interpret.\n",
        "\n",
        "# Extrapolation Issues: Polynomial models can behave unpredictably outside the range of the training data, leading to unreliable predictions.\n",
        "\n",
        "# Multicollinearity: Higher-degree terms (e.g.,X^2,X^3) can be highly correlated with the original variable, causing instability in the model's coefficients.\n",
        "\n",
        "# Sensitive to Outliers: Polynomial regression is sensitive to outliers, which can distort the model’s fit."
      ],
      "metadata": {
        "id": "wvdW1P8DEXq4"
      },
      "execution_count": 28,
      "outputs": []
    },
    {
      "cell_type": "code",
      "source": [
        "# Q29.\n",
        "\n",
        "# To evaluate model fit when selecting the degree of a polynomial, you can use:\n",
        "\n",
        "# Cross-validation: Helps assess model generalization by testing on different data subsets.\n",
        "\n",
        "# R-squared (R²): Measures variance explained by the model, but may increase with higher-degree polynomials.\n",
        "\n",
        "# Adjusted R-squared: Accounts for model complexity and helps identify the best degree.\n",
        "\n",
        "# AIC/BIC: Penalize for too many parameters, helping balance fit and complexity.\n",
        "\n",
        "# Residual analysis: Examines prediction errors to detect underfitting or overfitting.\n",
        "\n",
        "# MSE/RMSE: Measures prediction accuracy, with lower values indicating better fit.\n",
        "\n",
        "# Visual inspection: Plotting predictions versus actual data to check for overfitting or underfitting."
      ],
      "metadata": {
        "id": "stB5qCsxEnvG"
      },
      "execution_count": 29,
      "outputs": []
    },
    {
      "cell_type": "code",
      "source": [
        "# Q30.\n",
        "\n",
        "# Visualization is crucial in polynomial regression because it allows you to assess how well the polynomial model fits the data. By plotting the polynomial curve alongside the actual data points, you can visually inspect whether the model captures the underlying relationship. This helps in identifying issues like overfitting, where the model becomes overly complex and fits noise in the data, or underfitting, where the model fails to capture important trends. Additionally, visualization of the residuals (the differences between observed and predicted values) can reveal patterns or biases in the model, guiding adjustments. For higher-degree polynomials, it also aids in understanding the complexity of the relationships between variables. Furthermore, visualizing the polynomial curve can highlight how the model behaves outside the range of the data, which is important for evaluating the reliability of predictions in those regions. In short, visualization enhances the understanding of model performance and helps in making more informed decisions during model selection and interpretation.\n"
      ],
      "metadata": {
        "id": "ISa3wK2mEz7Q"
      },
      "execution_count": 30,
      "outputs": []
    },
    {
      "cell_type": "code",
      "source": [
        "# Q31.\n",
        "\n",
        "# To implement polynomial regression in Python, follow these steps:\n",
        "\n",
        "# Import Libraries: Use numpy, matplotlib, and scikit-learn.\n",
        "\n",
        "# Prepare Data: Define your independent variable X and dependent variable Y.\n",
        "\n",
        "# Create Polynomial Features: Use PolynomialFeatures to transform X into polynomial features.\n",
        "\n",
        "# Train Model: Fit the polynomial features to a linear regression model.\n",
        "\n",
        "# Visualize: Plot the original data and the polynomial regression curve.\n",
        "\n",
        "import numpy as np\n",
        "import matplotlib.pyplot as plt\n",
        "from sklearn.preprocessing import PolynomialFeatures\n",
        "from sklearn.linear_model import LinearRegression\n",
        "\n",
        "X = np.array([1, 2, 3, 4, 5]).reshape(-1, 1)\n",
        "Y = np.array([1, 4, 9, 16, 25])\n",
        "\n",
        "poly = PolynomialFeatures(degree=2)\n",
        "X_poly = poly.fit_transform(X)\n",
        "\n",
        "model = LinearRegression()\n",
        "model.fit(X_poly, Y)\n",
        "\n",
        "Y_pred = model.predict(X_poly)\n",
        "\n",
        "plt.scatter(X, Y, color='blue')\n",
        "plt.plot(X, Y_pred, color='red')\n",
        "plt.show()\n"
      ],
      "metadata": {
        "colab": {
          "base_uri": "https://localhost:8080/",
          "height": 430
        },
        "id": "e--xVvCmE_vu",
        "outputId": "100d3030-5eb3-41e2-e049-241e7681d58d"
      },
      "execution_count": 31,
      "outputs": [
        {
          "output_type": "display_data",
          "data": {
            "text/plain": [
              "<Figure size 640x480 with 1 Axes>"
            ],
            "image/png": "[encoded data removed]"
          },
          "metadata": {}
        }
      ]
    }
  ]
}