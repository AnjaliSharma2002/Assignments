{
  "nbformat": 4,
  "nbformat_minor": 0,
  "metadata": {
    "colab": {
      "provenance": [],
      "authorship_tag": "ABX9TyMmnXnF/hZm6ZF5/LSSwokd",
      "include_colab_link": true
    },
    "kernelspec": {
      "name": "python3",
      "display_name": "Python 3"
    },
    "language_info": {
      "name": "python"
    }
  },
  "cells": [
    {
      "cell_type": "markdown",
      "metadata": {
        "id": "view-in-github",
        "colab_type": "text"
      },
      "source": [
        "<a href=\"https://colab.research.google.com/github/AnjaliSharma2002/Assignments/blob/main/Statistics_Advanced_Assignment_1.ipynb\" target=\"_parent\"><img src=\"https://colab.research.google.com/assets/colab-badge.svg\" alt=\"Open In Colab\"/></a>"
      ]
    },
    {
      "cell_type": "code",
      "execution_count": null,
      "metadata": {
        "id": "qTMsV3DlFTbG"
      },
      "outputs": [],
      "source": [
        "Q1. The z-statistic is a measure that quantifies the number of standard deviations a data point or sample statistic is away from the population mean (or some hypothesized value). In statistical terms, it represents a standardized value that enables comparison across different data sets or distributions, regardless of the original scale of the data.\n",
        "\n",
        "The formula for calculating the z-statistic is:\n",
        "\n",
        "z= (X−μ)/σ\n",
        "\n",
        "In hypothesis testing, the z-statistic is used to determine if the sample data supports or contradicts the null hypothesis. We calculate the z-statistic and compare it to critical values from the standard normal distribution. If the z-statistic falls beyond the critical value (based on the significance level), we reject the null hypothesis; otherwise, we fail to reject it."
      ]
    },
    {
      "cell_type": "code",
      "source": [
        "Q2. The p-value is the probability of obtaining a result at least as extreme as the one observed, assuming the null hypothesis is true. In hypothesis testing:\n",
        "\n",
        "- If the p-value is small (typically less than 0.05), it suggests strong evidence against the null hypothesis, and we reject it.\n",
        "- If the p-value is large, we fail to reject the null hypothesis.\n",
        "\n",
        "A very small p-value (e.g., 0.01) means there is only a 1% chance of observing the result if the null hypothesis were true, indicating strong evidence to reject the null hypothesis."
      ],
      "metadata": {
        "id": "e4stZAPmKZZq"
      },
      "execution_count": null,
      "outputs": []
    },
    {
      "cell_type": "code",
      "source": [
        "Q3.\n",
        "\n",
        "The Bernoulli distribution and the binomial distribution are closely related but differ primarily in the number of trials they describe. The Bernoulli distribution is used to model a single binary experiment or trial that has two possible outcomes: success (usually coded as 1) or failure (coded as 0). It is defined by a single parameter, the probability of success p, where 0≤p≤1. This distribution is ideal for modeling situations where we only conduct one trial, such as flipping a coin once or testing whether a lightbulb works.\n",
        "\n",
        "On the other hand, the binomial distribution extends the concept of the Bernoulli distribution to multiple trials. It models the number of successes in n independent Bernoulli trials, each with the same probability of success p. The binomial distribution is defined by two parameters: the number of trials n and the probability of success p. For example, if you flip a coin 10 times and count how many times it lands heads, the number of heads follows a binomial distribution. The binomial distribution accounts for all possible outcomes of these trials, which could range from 0 successes to n successes.\n",
        "\n",
        "In terms of their mathematical properties, the Bernoulli distribution has a very simple structure, with only two possible outcomes, and its probability mass function is\n",
        "\n",
        "P(X=x)=p^x (1−p)^1−x , where x=0,1. The mean of a Bernoulli distribution is p, and its variance is p(1−p). In contrast, the binomial distribution's probability mass function is more complex, given by P(X=k)=( kn)p^k (1−p)^n−k\n",
        "\n",
        ", where k=0,1,2,…,n. The mean of the binomial distribution is np, and the variance is np(1−p).\n",
        "\n",
        "In summary, while both distributions deal with binary outcomes, the Bernoulli distribution is for a single trial, and the binomial distribution is for the number of successes in multiple trials. The Bernoulli distribution is essentially a special case of the binomial distribution when n=1."
      ],
      "metadata": {
        "id": "lt5BHCkqKZb3"
      },
      "execution_count": null,
      "outputs": []
    },
    {
      "cell_type": "code",
      "source": [
        "Q4.\n",
        "\n",
        "The binomial distribution is used when there are multiple independent trials (denoted by n), each with two possible outcomes (success or failure) and a constant probability of success (p) in each trial. It is used to model the number of successes in these n trials.\n",
        "\n",
        "The Bernoulli distribution is a special case of the binomial distribution where n=1, representing a single trial. Thus, the binomial distribution generalizes the Bernoulli distribution to multiple trials."
      ],
      "metadata": {
        "id": "Jfg1IPTeKZd3"
      },
      "execution_count": null,
      "outputs": []
    },
    {
      "cell_type": "code",
      "source": [
        "Q5.\n",
        "The Poisson distribution is a probability distribution that models the number of events occurring within a fixed interval of time or space, under certain conditions. Here are its key properties and when it is appropriate to use it:\n",
        "\n",
        "The Poisson distribution has the following key properties:\n",
        "\n",
        "- Discrete Events: Models the number of events in a fixed interval of time, area, or volume.\n",
        "- Constant Rate: Events occur at a constant average rate λ (mean and variance).\n",
        "- Independence: Events occur independently of each other.\n",
        "- Rare Events: Events are infrequent relative to the interval.\n",
        "- PMF: P(X=k)= (λ^k e^−λ)/ k! , where λ is the average rate and k is the number of events.\n",
        "\n",
        "The Poisson distribution is appropriate when events occur randomly and independently, at a constant average rate, and the number of events is relatively small within the interval (e.g., counting rare occurrences like accidents, emails, or calls in a specific time frame)."
      ],
      "metadata": {
        "id": "zWOXAFwrKZgK"
      },
      "execution_count": null,
      "outputs": []
    },
    {
      "cell_type": "code",
      "source": [
        "Q6.\n",
        "Probability Distribution: A mathematical function that describes the likelihood of different outcomes in a random experiment, either discrete or continuous.\n",
        "\n",
        "Probability Density Function (PDF): A function that describes the probability distribution of a continuous random variable. It gives the probability density, and the probability of a variable falling within an interval is found by integrating the PDF over that interval.\n",
        "\n",
        "A PDF (Probability Density Function) is used for continuous random variables and gives a probability density, where the probability is found by integrating over an interval. A PMF (Probability Mass Function) is used for discrete random variables and gives the actual probability of each specific outcome."
      ],
      "metadata": {
        "id": "D6jN14mXKZil"
      },
      "execution_count": null,
      "outputs": []
    },
    {
      "cell_type": "code",
      "source": [
        "Q7.\n",
        "\n",
        "The Central Limit Theorem (CLT) is one of the most important concepts in statistics. It states that, regardless of the shape of the population distribution, the sampling distribution of the sample mean (or sum) approaches a normal distribution as the sample size increases, given that the samples are independent and identically distributed (i.i.d.).\n",
        "\n",
        "The Central Limit Theorem (CLT) states that, regardless of a population's distribution, the distribution of sample means will approach a normal distribution as the sample size increases.\n",
        "\n",
        "For eg: If we randomly sample exam scores from a skewed population and calculate the average score of each sample, the distribution of those sample means will form a normal distribution as the sample size increases, even if the original scores aren't normally distributed.\n"
      ],
      "metadata": {
        "id": "vOTmaoPpKZmK"
      },
      "execution_count": null,
      "outputs": []
    },
    {
      "cell_type": "code",
      "source": [
        "Q8.\n",
        "Z-scores and t-scores are both used in statistical analysis to measure how far a data point is from the mean, but they are used in different contexts and are calculated differently.\n",
        "\n",
        "A z-score (or standard score) indicates how many standard deviations a data point is from the mean of a population. It is calculated using the formula:\n",
        "\n",
        "Z= (X−μ)/σ\n",
        "\n",
        "Where:\n",
        "\n",
        "X = the data point\n",
        "μ = population mean\n",
        "σ = population standard deviation\n",
        "\n",
        "A t-score (or Student's t-score) is used in a similar way to the z-score, but it is specifically used when the population standard deviation is unknown and is estimated from the sample. The formula for calculating the t-score is:\n",
        "\n",
        "T= (Xi-X)/(S/root(n))\n",
        "\n",
        "Where:\n",
        "\n",
        "Xi = the data point\n",
        "X= sample mean\n",
        "S = sample standard deviation\n",
        "n = sample size\n",
        "\n",
        "\n",
        "Use a z-score when:\n",
        "\n",
        "The population standard deviation is known.\n",
        "The sample size is large (typically n>30).\n",
        "\n",
        "\n",
        "Use a t-score when:\n",
        "\n",
        "The population standard deviation is unknown and must be estimated from the sample.\n",
        "The sample size is small (typically n≤30)."
      ],
      "metadata": {
        "id": "MP61g9NeKaWC"
      },
      "execution_count": null,
      "outputs": []
    },
    {
      "cell_type": "code",
      "source": [
        "# Q9.\n",
        "\n",
        "import scipy.stats as stats\n",
        "\n",
        "sample_mean = 105\n",
        "population_mean = 100\n",
        "population_std_dev = 15\n",
        "sample_size = 25\n",
        "\n",
        "z_score = (sample_mean - population_mean) / (population_std_dev / (sample_size ** 0.5))\n",
        "\n",
        "p_value = 2 * (1 - stats.norm.cdf(abs(z_score)))\n",
        "\n",
        "alpha = 0.05\n",
        "\n",
        "reject_null = p_value < alpha\n",
        "\n",
        "z_score, p_value, reject_null"
      ],
      "metadata": {
        "id": "_X48__IGKaYj",
        "colab": {
          "base_uri": "https://localhost:8080/"
        },
        "outputId": "b5569019-44f7-4354-e992-ad3fd33171c9"
      },
      "execution_count": 2,
      "outputs": [
        {
          "output_type": "execute_result",
          "data": {
            "text/plain": [
              "(1.6666666666666667, 0.09558070454562939, False)"
            ]
          },
          "metadata": {},
          "execution_count": 2
        }
      ]
    },
    {
      "cell_type": "code",
      "source": [
        "# Q10.\n",
        "\n",
        "import numpy as np\n",
        "import matplotlib.pyplot as plt\n",
        "\n",
        "n_trials = 10\n",
        "p_success = 0.6\n",
        "n_samples = 1000\n",
        "\n",
        "binomial_samples = np.random.binomial(n_trials, p_success, n_samples)\n",
        "\n",
        "plt.hist(binomial_samples, bins=np.arange(-0.5, n_trials+1.5, 1), edgecolor='black', density=True)\n",
        "plt.title('Binomial Distribution (n=10, p=0.6)')\n",
        "plt.xlabel('Number of successes')\n",
        "plt.ylabel('Frequency')\n",
        "plt.show()\n",
        "\n",
        "mean = np.mean(binomial_samples)\n",
        "variance = np.var(binomial_samples)\n",
        "\n",
        "print(f'Expected Mean: {mean}')\n",
        "print(f'Expected Variance: {variance}')"
      ],
      "metadata": {
        "id": "mdkcrLvJKaaT",
        "colab": {
          "base_uri": "https://localhost:8080/",
          "height": 507
        },
        "outputId": "19130854-0707-49a5-e1e8-a27e4ac3ef45"
      },
      "execution_count": 3,
      "outputs": [
        {
          "output_type": "display_data",
          "data": {
            "text/plain": [
              "<Figure size 640x480 with 1 Axes>"
            ],
            "image/png": "[encoded data removed]"
          },
          "metadata": {}
        },
        {
          "output_type": "stream",
          "name": "stdout",
          "text": [
            "Expected Mean: 6.029\n",
            "Expected Variance: 2.4281590000000004\n"
          ]
        }
      ]
    },
    {
      "cell_type": "code",
      "source": [],
      "metadata": {
        "id": "UUv7_DFMKad2"
      },
      "execution_count": null,
      "outputs": []
    }
  ]
}