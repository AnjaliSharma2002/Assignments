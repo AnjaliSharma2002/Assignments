{
  "nbformat": 4,
  "nbformat_minor": 0,
  "metadata": {
    "colab": {
      "provenance": [],
      "authorship_tag": "ABX9TyNRtfWuZeJbe/jYNa8k9gVr",
      "include_colab_link": true
    },
    "kernelspec": {
      "name": "python3",
      "display_name": "Python 3"
    },
    "language_info": {
      "name": "python"
    }
  },
  "cells": [
    {
      "cell_type": "markdown",
      "metadata": {
        "id": "view-in-github",
        "colab_type": "text"
      },
      "source": [
        "<a href=\"https://colab.research.google.com/github/AnjaliSharma2002/Assignments/blob/main/OOPsAssignment.ipynb\" target=\"_parent\"><img src=\"https://colab.research.google.com/assets/colab-badge.svg\" alt=\"Open In Colab\"/></a>"
      ]
    },
    {
      "cell_type": "code",
      "source": [
        "# Q1.\n",
        "\n",
        "# The five key concepts of Object-Oriented Programming (OOP):\n",
        "\n",
        "# Encapsulation: Bundling data and methods together while restricting direct access to the data (using access modifiers).\n",
        "# Abstraction: Hiding complex details and showing only the essential features of an object.\n",
        "# Inheritance: Creating new classes from existing ones to reuse code and establish relationships.\n",
        "# Polymorphism: Allowing different objects to be treated as instances of the same class, with methods that can behave differently.\n",
        "# Composition: Building complex objects by combining simpler ones, creating a \"has-a\" relationship between them."
      ],
      "metadata": {
        "id": "JQl1D2Hk4nd-"
      },
      "execution_count": 27,
      "outputs": []
    },
    {
      "cell_type": "code",
      "source": [
        "# Q2.\n",
        "\n",
        "class Car:\n",
        "    def __init__(self, make, model, year):\n",
        "        self.make = make\n",
        "        self.model = model\n",
        "        self.year = year\n",
        "\n",
        "    def display_info(self):\n",
        "        print(f\"Car Information: {self.year} {self.make} {self.model}\")\n",
        "\n",
        "my_car = Car(\"Toyota\", \"Abc\", 2020)\n",
        "my_car.display_info()\n"
      ],
      "metadata": {
        "colab": {
          "base_uri": "https://localhost:8080/"
        },
        "id": "spFhV4lE9n5v",
        "outputId": "c70d68b3-07f3-4547-d0ac-afe7dd9862cc"
      },
      "execution_count": 28,
      "outputs": [
        {
          "output_type": "stream",
          "name": "stdout",
          "text": [
            "Car Information: 2020 Toyota Abc\n"
          ]
        }
      ]
    },
    {
      "cell_type": "code",
      "source": [
        "# Q3.\n",
        "\n",
        "# Instance Methods: These operate on an instance of the class and can access and modify instance attributes. They are defined with self as the first parameter.\n",
        "# Class Methods: These operate on the class itself, not instances, and can access and modify class-level attributes. They are defined with cls as the first parameter and are marked with the @classmethod decorator.\n",
        "\n",
        "\n",
        "class MyClass:\n",
        "    class_var = 0\n",
        "\n",
        "    def __init__(self, value):\n",
        "        self.instance_var = value\n",
        "\n",
        "    def instance_method(self):\n",
        "        print(f\"Instance var: {self.instance_var}\")\n",
        "\n",
        "    @classmethod\n",
        "    def class_method(cls):\n",
        "        print(f\"Class var: {cls.class_var}\")\n",
        "\n",
        "obj = MyClass(10)\n",
        "obj.instance_method()\n",
        "\n",
        "MyClass.class_method()\n"
      ],
      "metadata": {
        "colab": {
          "base_uri": "https://localhost:8080/"
        },
        "id": "HO2wCR_C91XE",
        "outputId": "a9267fdd-eb16-4627-bffb-dc22e137e23d"
      },
      "execution_count": 29,
      "outputs": [
        {
          "output_type": "stream",
          "name": "stdout",
          "text": [
            "Instance var: 10\n",
            "Class var: 0\n"
          ]
        }
      ]
    },
    {
      "cell_type": "code",
      "source": [
        "# Q4.\n",
        "\n",
        "# Python does not support method overloading in the traditional sense like some other languages (e.g., Java or C++). In Python, a method can only be defined once in a class.\n",
        "\n",
        "class Calculator:\n",
        "    def add(self, *args):\n",
        "        return sum(args)\n",
        "\n",
        "calc = Calculator()\n",
        "\n",
        "print(calc.add(2, 3))\n",
        "print(calc.add(1, 2, 3, 4))\n"
      ],
      "metadata": {
        "colab": {
          "base_uri": "https://localhost:8080/"
        },
        "id": "BXt62NbV-OoI",
        "outputId": "6897cc17-9e81-414e-e8bd-85a6980a4ada"
      },
      "execution_count": 30,
      "outputs": [
        {
          "output_type": "stream",
          "name": "stdout",
          "text": [
            "5\n",
            "10\n"
          ]
        }
      ]
    },
    {
      "cell_type": "code",
      "source": [
        "# Q5.\n",
        "\n",
        "# In Python, there are three access modifiers:\n",
        "\n",
        "# Public: No prefix, accessible everywhere.\n",
        "# Example: self.attribute\n",
        "\n",
        "# Protected: Single underscore (_), intended for internal use (by convention).\n",
        "# Example: self._attribute\n",
        "\n",
        "# Private: Double underscore (__), name-mangled to make it harder to access outside the class.\n",
        "# Example: self.__attribute\n",
        "\n",
        "\n",
        "\n",
        "\n",
        "\n",
        "class MyClass:\n",
        "    def __init__(self):\n",
        "        self.public_attribute = \"I am public\"\n",
        "\n",
        "obj = MyClass()\n",
        "print(obj.public_attribute)"
      ],
      "metadata": {
        "colab": {
          "base_uri": "https://localhost:8080/"
        },
        "id": "ENuFjGUU-mRc",
        "outputId": "76beabf5-6133-4d90-f128-5673f108ff55"
      },
      "execution_count": 31,
      "outputs": [
        {
          "output_type": "stream",
          "name": "stdout",
          "text": [
            "I am public\n"
          ]
        }
      ]
    },
    {
      "cell_type": "code",
      "source": [
        "class MyClass:\n",
        "    def __init__(self):\n",
        "        self._protected_attribute = \"I am protected\"\n",
        "\n",
        "obj = MyClass()\n",
        "print(obj._protected_attribute)"
      ],
      "metadata": {
        "colab": {
          "base_uri": "https://localhost:8080/"
        },
        "id": "fCaUkKfz-wl9",
        "outputId": "8923354c-43eb-4dcf-f9c4-5f5a8070b6dd"
      },
      "execution_count": 32,
      "outputs": [
        {
          "output_type": "stream",
          "name": "stdout",
          "text": [
            "I am protected\n"
          ]
        }
      ]
    },
    {
      "cell_type": "code",
      "source": [
        "class MyClass:\n",
        "    def __init__(self):\n",
        "        self.__private_attribute = \"I am private\"\n",
        "\n",
        "obj = MyClass()\n",
        "print(obj._MyClass__private_attribute)"
      ],
      "metadata": {
        "colab": {
          "base_uri": "https://localhost:8080/"
        },
        "id": "FM-wSw2v-1SI",
        "outputId": "80f6a675-8030-4881-d1c7-ccc6dca03214"
      },
      "execution_count": 33,
      "outputs": [
        {
          "output_type": "stream",
          "name": "stdout",
          "text": [
            "I am private\n"
          ]
        }
      ]
    },
    {
      "cell_type": "code",
      "source": [
        "# Q6.\n",
        "\n",
        "# There are five types of inheritance:\n",
        "\n",
        "# Single Inheritance:\n",
        "# A class inherits from a single parent class.\n",
        "\n",
        "class Animal:\n",
        "    def speak(self):\n",
        "        print(\"Animal speaks\")\n",
        "\n",
        "class Dog(Animal):\n",
        "    def bark(self):\n",
        "        print(\"Dog barks\")\n",
        "\n",
        "dog = Dog()\n",
        "dog.speak()\n",
        "dog.bark()"
      ],
      "metadata": {
        "colab": {
          "base_uri": "https://localhost:8080/"
        },
        "id": "dHlQNI6M-6wX",
        "outputId": "996a1d9b-8d78-43dd-cd06-5da804d66d31"
      },
      "execution_count": 34,
      "outputs": [
        {
          "output_type": "stream",
          "name": "stdout",
          "text": [
            "Animal speaks\n",
            "Dog barks\n"
          ]
        }
      ]
    },
    {
      "cell_type": "code",
      "source": [
        "# Multiple Inheritance:\n",
        "# A class inherits from more than one parent class.\n",
        "\n",
        "\n",
        "class Animal:\n",
        "    def speak(self):\n",
        "        print(\"Animal speaks\")\n",
        "\n",
        "class Bird:\n",
        "    def fly(self):\n",
        "        print(\"Bird flies\")\n",
        "\n",
        "class Bat(Animal, Bird):\n",
        "    def hang(self):\n",
        "        print(\"Bat hangs upside down\")\n",
        "\n",
        "bat = Bat()\n",
        "bat.speak()\n",
        "bat.fly()\n",
        "bat.hang()"
      ],
      "metadata": {
        "colab": {
          "base_uri": "https://localhost:8080/"
        },
        "id": "1m4dcphYAVsO",
        "outputId": "5cb53124-9c07-4ced-ae8f-ad8c418a36ef"
      },
      "execution_count": 35,
      "outputs": [
        {
          "output_type": "stream",
          "name": "stdout",
          "text": [
            "Animal speaks\n",
            "Bird flies\n",
            "Bat hangs upside down\n"
          ]
        }
      ]
    },
    {
      "cell_type": "code",
      "source": [
        "# Multilevel Inheritance:\n",
        "# A class inherits from a parent class, and that parent class inherits from another class.\n",
        "\n",
        "\n",
        "class Animal:\n",
        "    def speak(self):\n",
        "        print(\"Animal speaks\")\n",
        "\n",
        "class Mammal(Animal):\n",
        "    def walk(self):\n",
        "        print(\"Mammal walks\")\n",
        "\n",
        "class Dog(Mammal):\n",
        "    def bark(self):\n",
        "        print(\"Dog barks\")\n",
        "\n",
        "dog = Dog()\n",
        "dog.speak()\n",
        "dog.walk()\n",
        "dog.bark()"
      ],
      "metadata": {
        "colab": {
          "base_uri": "https://localhost:8080/"
        },
        "id": "moAKHXu0AifF",
        "outputId": "5406c7bf-8bed-496a-e94b-130610b0a175"
      },
      "execution_count": 36,
      "outputs": [
        {
          "output_type": "stream",
          "name": "stdout",
          "text": [
            "Animal speaks\n",
            "Mammal walks\n",
            "Dog barks\n"
          ]
        }
      ]
    },
    {
      "cell_type": "code",
      "source": [
        "# Hierarchical Inheritance:\n",
        "# Multiple classes inherit from a single parent class.\n",
        "\n",
        "class Animal:\n",
        "    def speak(self):\n",
        "        print(\"Animal speaks\")\n",
        "\n",
        "class Dog(Animal):\n",
        "    def bark(self):\n",
        "        print(\"Dog barks\")\n",
        "\n",
        "class Cat(Animal):\n",
        "    def meow(self):\n",
        "        print(\"Cat meows\")\n",
        "\n",
        "dog = Dog()\n",
        "dog.speak()\n",
        "\n",
        "cat = Cat()\n",
        "cat.speak()"
      ],
      "metadata": {
        "colab": {
          "base_uri": "https://localhost:8080/"
        },
        "id": "0wt3w8iZAuAU",
        "outputId": "d8ef547a-2c84-418a-af7a-75267ab88da7"
      },
      "execution_count": 37,
      "outputs": [
        {
          "output_type": "stream",
          "name": "stdout",
          "text": [
            "Animal speaks\n",
            "Animal speaks\n"
          ]
        }
      ]
    },
    {
      "cell_type": "code",
      "source": [
        "# Hybrid Inheritance:\n",
        "# A combination of two or more types of inheritance.\n",
        "\n",
        "\n",
        "class Animal:\n",
        "    def speak(self):\n",
        "        print(\"Animal speaks\")\n",
        "\n",
        "class Mammal(Animal):\n",
        "    def walk(self):\n",
        "        print(\"Mammal walks\")\n",
        "\n",
        "class Bird:\n",
        "    def fly(self):\n",
        "        print(\"Bird flies\")\n",
        "\n",
        "class Bat(Mammal, Bird):\n",
        "    def hang(self):\n",
        "        print(\"Bat hangs upside down\")\n",
        "\n",
        "bat = Bat()\n",
        "bat.speak()\n",
        "bat.walk()\n",
        "bat.fly()\n",
        "bat.hang()"
      ],
      "metadata": {
        "colab": {
          "base_uri": "https://localhost:8080/"
        },
        "id": "FrMw0YlZA9_X",
        "outputId": "aa7314d4-dce5-45d8-ec32-d39c26921171"
      },
      "execution_count": 38,
      "outputs": [
        {
          "output_type": "stream",
          "name": "stdout",
          "text": [
            "Animal speaks\n",
            "Mammal walks\n",
            "Bird flies\n",
            "Bat hangs upside down\n"
          ]
        }
      ]
    },
    {
      "cell_type": "code",
      "source": [
        "# Q7.\n",
        "\n",
        "# MRO determines the order in which methods and attributes are inherited in a class hierarchy, especially in multiple inheritance. Python uses the C3 Linearization (C3 MRO) Algorithm to resolve conflicts and avoid ambiguity (e.g., Diamond Problem).\n",
        "\n",
        "class A:\n",
        "    pass\n",
        "\n",
        "class B(A):\n",
        "    pass\n",
        "\n",
        "class C(A):\n",
        "    pass\n",
        "\n",
        "class D(B, C):\n",
        "    pass\n",
        "\n",
        "print(D.__mro__)\n",
        "print(D.mro())\n"
      ],
      "metadata": {
        "id": "ANoTW__cBHyh",
        "colab": {
          "base_uri": "https://localhost:8080/"
        },
        "outputId": "c9393935-4cc2-4ce8-d031-3bc66c6419d9"
      },
      "execution_count": 39,
      "outputs": [
        {
          "output_type": "stream",
          "name": "stdout",
          "text": [
            "(<class '__main__.D'>, <class '__main__.B'>, <class '__main__.C'>, <class '__main__.A'>, <class 'object'>)\n",
            "[<class '__main__.D'>, <class '__main__.B'>, <class '__main__.C'>, <class '__main__.A'>, <class 'object'>]\n"
          ]
        }
      ]
    },
    {
      "cell_type": "code",
      "source": [
        "# Q8.\n",
        "from abc import ABC, abstractmethod\n",
        "\n",
        "class Shape(ABC):\n",
        "    @abstractmethod\n",
        "    def area(self):\n",
        "        pass\n",
        "\n",
        "class Circle(Shape):\n",
        "    def __init__(self, radius):\n",
        "        self.radius = radius\n",
        "\n",
        "    def area(self):\n",
        "        return 3.14 * (self.radius ** 2)\n",
        "\n",
        "class Rectangle(Shape):\n",
        "    def __init__(self, length, breadth):\n",
        "        self.length = length\n",
        "        self.breadth = breadth\n",
        "\n",
        "    def area(self):\n",
        "        return self.length * self.breadth\n",
        "\n",
        "circle = Circle(5)\n",
        "rectangle = Rectangle(4, 6)\n",
        "\n",
        "print(\"Circle Area:\", circle.area())\n",
        "print(\"Rectangle Area:\", rectangle.area())"
      ],
      "metadata": {
        "colab": {
          "base_uri": "https://localhost:8080/"
        },
        "id": "8ViDPFwwGL40",
        "outputId": "4406a790-79e8-4c25-a798-22eced8ec055"
      },
      "execution_count": 40,
      "outputs": [
        {
          "output_type": "stream",
          "name": "stdout",
          "text": [
            "Circle Area: 78.5\n",
            "Rectangle Area: 24\n"
          ]
        }
      ]
    },
    {
      "cell_type": "code",
      "source": [
        "# Q9.\n",
        "# Polymorphism allows the same method to have different behaviors based on the context. In Python, we achieve this through Method Overriding and Method Overloading.\n",
        "\n",
        "# method overriding\n",
        "from abc import ABC, abstractmethod\n",
        "import math\n",
        "\n",
        "class Shape(ABC):\n",
        "    @abstractmethod\n",
        "    def area(self):\n",
        "        pass\n",
        "\n",
        "class Circle(Shape):\n",
        "    def __init__(self, radius):\n",
        "        self.radius = radius\n",
        "\n",
        "    def area(self):\n",
        "        return math.pi * (self.radius ** 2)\n",
        "\n",
        "class Rectangle(Shape):\n",
        "    def __init__(self, length, breadth):\n",
        "        self.length = length\n",
        "        self.breadth = breadth\n",
        "\n",
        "    def area(self):\n",
        "        return self.length * self.breadth\n",
        "\n",
        "shapes = [Circle(5), Rectangle(4, 6)]\n",
        "for shape in shapes:\n",
        "    print(f\"Area: {shape.area()}\")"
      ],
      "metadata": {
        "colab": {
          "base_uri": "https://localhost:8080/"
        },
        "id": "8BfrKmITh3re",
        "outputId": "eac0c444-bc13-459b-c75f-e1d777b2af41"
      },
      "execution_count": 41,
      "outputs": [
        {
          "output_type": "stream",
          "name": "stdout",
          "text": [
            "Area: 78.53981633974483\n",
            "Area: 24\n"
          ]
        }
      ]
    },
    {
      "cell_type": "code",
      "source": [
        "# method overloading\n",
        "\n",
        "class MathOperations:\n",
        "    def add(self, a, b=0, c=0):\n",
        "        return a + b + c\n",
        "\n",
        "math_op = MathOperations()\n",
        "print(math_op.add(5))\n",
        "print(math_op.add(5, 10))\n",
        "print(math_op.add(5, 10, 15))"
      ],
      "metadata": {
        "colab": {
          "base_uri": "https://localhost:8080/"
        },
        "id": "Z5WnWiL-lzhK",
        "outputId": "fd3700c6-eee7-4f4b-dc66-ae2f13c0270f"
      },
      "execution_count": 42,
      "outputs": [
        {
          "output_type": "stream",
          "name": "stdout",
          "text": [
            "5\n",
            "15\n",
            "30\n"
          ]
        }
      ]
    },
    {
      "cell_type": "code",
      "source": [
        "# Q10.\n",
        "\n",
        "class BankAccount:\n",
        "  def __init__(self,account_number):\n",
        "    self.__balance = 0\n",
        "    self.__account_number = account_number\n",
        "  def deposit(self,money):\n",
        "    self.__balance += money\n",
        "  def withdraw(self,money):\n",
        "    if self.__balance - money < 0 :\n",
        "      return \"Insufficient balance\"\n",
        "    self.__balance -= money\n",
        "  def balance_inquiry(self):\n",
        "    return f\"Current balance: {self.__balance}\"\n",
        "  def get_account_number(self):\n",
        "    return self.__account_number"
      ],
      "metadata": {
        "id": "uM20XCiCmKT_"
      },
      "execution_count": 43,
      "outputs": []
    },
    {
      "cell_type": "code",
      "source": [
        "b1 = BankAccount(101)"
      ],
      "metadata": {
        "id": "Nxuni2180bQi"
      },
      "execution_count": 44,
      "outputs": []
    },
    {
      "cell_type": "code",
      "source": [
        "b1.deposit(1000)"
      ],
      "metadata": {
        "id": "cgLQF3Gu0ghc"
      },
      "execution_count": 45,
      "outputs": []
    },
    {
      "cell_type": "code",
      "source": [
        "b1.balance_inquiry()"
      ],
      "metadata": {
        "colab": {
          "base_uri": "https://localhost:8080/",
          "height": 36
        },
        "id": "RvDtNM6W0iWo",
        "outputId": "2aae56d9-f232-479f-d5d8-ebb488b5a779"
      },
      "execution_count": 46,
      "outputs": [
        {
          "output_type": "execute_result",
          "data": {
            "text/plain": [
              "'Current balance: 1000'"
            ],
            "application/vnd.google.colaboratory.intrinsic+json": {
              "type": "string"
            }
          },
          "metadata": {},
          "execution_count": 46
        }
      ]
    },
    {
      "cell_type": "code",
      "source": [
        "b1.withdraw(200)"
      ],
      "metadata": {
        "id": "hKUOniGV0kQ9"
      },
      "execution_count": 47,
      "outputs": []
    },
    {
      "cell_type": "code",
      "source": [
        "b1.balance_inquiry()"
      ],
      "metadata": {
        "colab": {
          "base_uri": "https://localhost:8080/",
          "height": 36
        },
        "id": "8e5SVUMk0nbQ",
        "outputId": "fbdf0e89-6c61-4786-f2cd-9d51b3f1d245"
      },
      "execution_count": 48,
      "outputs": [
        {
          "output_type": "execute_result",
          "data": {
            "text/plain": [
              "'Current balance: 800'"
            ],
            "application/vnd.google.colaboratory.intrinsic+json": {
              "type": "string"
            }
          },
          "metadata": {},
          "execution_count": 48
        }
      ]
    },
    {
      "cell_type": "code",
      "source": [
        "b1.get_account_number()"
      ],
      "metadata": {
        "colab": {
          "base_uri": "https://localhost:8080/"
        },
        "id": "czeuJ4r90qKF",
        "outputId": "58a1f3e4-c811-4318-db1f-e722d245d205"
      },
      "execution_count": 49,
      "outputs": [
        {
          "output_type": "execute_result",
          "data": {
            "text/plain": [
              "101"
            ]
          },
          "metadata": {},
          "execution_count": 49
        }
      ]
    },
    {
      "cell_type": "code",
      "source": [
        "# Q11.\n",
        "\n",
        "# __str__: Custom string representation of objects when printed (print(obj)).\n",
        "# __add__: Defines how two objects of the class behave when added together using the + operator.\n",
        "\n",
        "class Point:\n",
        "    def __init__(self, x, y):\n",
        "        self.x = x\n",
        "        self.y = y\n",
        "\n",
        "    def __str__(self):\n",
        "        return f\"({self.x}, {self.y})\"\n",
        "\n",
        "    def __add__(self, other):\n",
        "        return Point(self.x + other.x, self.y + other.y)\n",
        "\n",
        "p1 = Point(2, 3)\n",
        "p2 = Point(4, 5)\n",
        "\n",
        "print(p1)\n",
        "print(p2)\n",
        "print(p1 + p2)\n",
        "\n",
        "\n",
        "# These methods enables:\n",
        "# __str__: Provides a readable string representation when printing an object.\n",
        "# __add__: Allows objects to be combined meaningfully using + (e.g., summing book pages)."
      ],
      "metadata": {
        "colab": {
          "base_uri": "https://localhost:8080/"
        },
        "id": "Sur3bSfE0sCt",
        "outputId": "d076ac5f-f7cc-44ef-e707-d5c95701e2c6"
      },
      "execution_count": 50,
      "outputs": [
        {
          "output_type": "stream",
          "name": "stdout",
          "text": [
            "(2, 3)\n",
            "(4, 5)\n",
            "(6, 8)\n"
          ]
        }
      ]
    },
    {
      "cell_type": "code",
      "source": [
        "# Q12.\n",
        "\n",
        "import time\n",
        "\n",
        "class Timer:\n",
        "    def __init__(self, func):\n",
        "        self.func = func\n",
        "\n",
        "    def __call__(self, *args, **kwargs):\n",
        "        start = time.time()\n",
        "        result = self.func(*args, **kwargs)\n",
        "        end = time.time()\n",
        "        print(f\"Time taken: {end - start:.6f} seconds\")\n",
        "        return result\n",
        "\n",
        "@Timer\n",
        "def example_function():\n",
        "    time.sleep(1)\n",
        "    print(\"Function executed!\")\n",
        "\n",
        "example_function()\n"
      ],
      "metadata": {
        "colab": {
          "base_uri": "https://localhost:8080/"
        },
        "id": "MWnDNliN6kyl",
        "outputId": "6f7f5789-ab77-44f1-ba0a-1a34a6ee49c3"
      },
      "execution_count": 51,
      "outputs": [
        {
          "output_type": "stream",
          "name": "stdout",
          "text": [
            "Function executed!\n",
            "Time taken: 1.000262 seconds\n"
          ]
        }
      ]
    },
    {
      "cell_type": "code",
      "source": [
        "# Q13.\n",
        "\n",
        "# The Diamond Problem occurs in languages that support multiple inheritance when a class inherits from two classes that both inherit from the same base class. This creates ambiguity about which method or attribute should be inherited.\n",
        "\n",
        "class A:\n",
        "    def show(self):\n",
        "        print(\"A\")\n",
        "\n",
        "class B(A):\n",
        "    def show(self):\n",
        "        print(\"B\")\n",
        "\n",
        "class C(A):\n",
        "    def show(self):\n",
        "        print(\"C\")\n",
        "\n",
        "class D(B, C):\n",
        "    pass\n",
        "\n",
        "d = D()\n",
        "d.show()\n"
      ],
      "metadata": {
        "colab": {
          "base_uri": "https://localhost:8080/"
        },
        "id": "Yqz5RmD664Rf",
        "outputId": "91af1267-a41f-4a7e-e8d5-fd383190cbd9"
      },
      "execution_count": 52,
      "outputs": [
        {
          "output_type": "stream",
          "name": "stdout",
          "text": [
            "B\n"
          ]
        }
      ]
    },
    {
      "cell_type": "code",
      "source": [
        "# Python resolves the Diamond Problem using the C3 Linearization Algorithm, which determines the Method Resolution Order (MRO). The MRO is the order in which Python searches for methods when calling them on an object.\n",
        "\n",
        "class A:\n",
        "    def show(self):\n",
        "        print(\"A\")\n",
        "\n",
        "class B(A):\n",
        "    def show(self):\n",
        "        print(\"B\")\n",
        "        super().show()\n",
        "\n",
        "class C(A):\n",
        "    def show(self):\n",
        "        print(\"C\")\n",
        "        super().show()\n",
        "\n",
        "class D(B, C):\n",
        "    def show(self):\n",
        "        print(\"D\")\n",
        "        super().show()\n",
        "\n",
        "d = D()\n",
        "d.show()\n"
      ],
      "metadata": {
        "colab": {
          "base_uri": "https://localhost:8080/"
        },
        "id": "BRK2DkwU7OqU",
        "outputId": "13dc3366-b073-4f36-b03a-d953ea77595f"
      },
      "execution_count": 53,
      "outputs": [
        {
          "output_type": "stream",
          "name": "stdout",
          "text": [
            "D\n",
            "B\n",
            "C\n",
            "A\n"
          ]
        }
      ]
    },
    {
      "cell_type": "code",
      "source": [
        "D.mro()"
      ],
      "metadata": {
        "colab": {
          "base_uri": "https://localhost:8080/"
        },
        "id": "6MayXPSn7w7G",
        "outputId": "7c6fc6b1-2110-493e-8b3e-904574a52388"
      },
      "execution_count": 54,
      "outputs": [
        {
          "output_type": "execute_result",
          "data": {
            "text/plain": [
              "[__main__.D, __main__.B, __main__.C, __main__.A, object]"
            ]
          },
          "metadata": {},
          "execution_count": 54
        }
      ]
    },
    {
      "cell_type": "code",
      "source": [
        "# Q14.\n",
        "\n",
        "class Counter:\n",
        "    instance_count = 0\n",
        "\n",
        "    def __init__(self):\n",
        "        Counter.instance_count += 1\n",
        "\n",
        "    @classmethod\n",
        "    def get_instance_count(cls):\n",
        "        return f\"Instances created: {cls.instance_count}\"\n",
        "\n",
        "obj1 = Counter()\n",
        "obj2 = Counter()\n",
        "obj3 = Counter()\n",
        "\n",
        "print(Counter.get_instance_count())"
      ],
      "metadata": {
        "colab": {
          "base_uri": "https://localhost:8080/"
        },
        "id": "bs6b7rAA71iE",
        "outputId": "1948ff61-5a31-4303-e868-24d76690e6cf"
      },
      "execution_count": 55,
      "outputs": [
        {
          "output_type": "stream",
          "name": "stdout",
          "text": [
            "Instances created: 3\n"
          ]
        }
      ]
    },
    {
      "cell_type": "code",
      "source": [
        "# Q15.\n",
        "\n",
        "class LeapYear:\n",
        "    @staticmethod\n",
        "    def is_leap_year(year):\n",
        "        return (year % 4 == 0 and year % 100 != 0) or (year % 400 == 0)\n",
        "\n",
        "print(LeapYear.is_leap_year(2024))\n",
        "print(LeapYear.is_leap_year(1900))"
      ],
      "metadata": {
        "colab": {
          "base_uri": "https://localhost:8080/"
        },
        "id": "Y_Q75WNA8E22",
        "outputId": "6a375c4d-9e4b-454a-b22b-084fca58bedd"
      },
      "execution_count": 56,
      "outputs": [
        {
          "output_type": "stream",
          "name": "stdout",
          "text": [
            "True\n",
            "False\n"
          ]
        }
      ]
    }
  ]
}