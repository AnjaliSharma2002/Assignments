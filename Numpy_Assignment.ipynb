{
  "nbformat": 4,
  "nbformat_minor": 0,
  "metadata": {
    "colab": {
      "provenance": [],
      "authorship_tag": "ABX9TyOb26LiZ59AqybpIkQxEt+Y",
      "include_colab_link": true
    },
    "kernelspec": {
      "name": "python3",
      "display_name": "Python 3"
    },
    "language_info": {
      "name": "python"
    }
  },
  "cells": [
    {
      "cell_type": "markdown",
      "metadata": {
        "id": "view-in-github",
        "colab_type": "text"
      },
      "source": [
        "<a href=\"https://colab.research.google.com/github/AnjaliSharma2002/Assignments/blob/main/Numpy_Assignment.ipynb\" target=\"_parent\"><img src=\"https://colab.research.google.com/assets/colab-badge.svg\" alt=\"Open In Colab\"/></a>"
      ]
    },
    {
      "cell_type": "code",
      "execution_count": 1,
      "metadata": {
        "id": "vB-YYUf_FC0K"
      },
      "outputs": [],
      "source": [
        "# Theoretical Questions:"
      ]
    },
    {
      "cell_type": "code",
      "source": [
        "# Q1.\n",
        "\n",
        "# NumPy (Numerical Python) is a foundational library in Python for numerical computing. It provides efficient and flexible data structures, primarily the ndarray (N-dimensional array), along with a wide range of mathematical functions optimized for performance.\n",
        "\n",
        "# Purpose:\n",
        "# NumPy provides efficient numerical operations, handling large datasets with optimized performance, making it essential for scientific computing and data analysis.\n",
        "\n",
        "# Advantages:\n",
        "# Faster Computation – Uses optimized C-based operations.\n",
        "# Memory Efficient – Stores homogeneous data in contiguous memory.\n",
        "# Broadcasting – Allows operations on arrays of different shapes.\n",
        "# Rich Math Functions – Supports linear algebra, FFT, statistics, etc.\n",
        "# Seamless Integration – Works well with Pandas, SciPy, TensorFlow, etc.\n",
        "\n",
        "# This enhances Python’s capabilities for high-speed numerical computing and large-scale data processing."
      ],
      "metadata": {
        "id": "apRdtazcFPym"
      },
      "execution_count": 2,
      "outputs": []
    },
    {
      "cell_type": "code",
      "source": [
        "# Q2.\n",
        "\n",
        "# Both np.mean() and np.average() are used to compute the mean of an array, but they differ in functionality.\n",
        "\n",
        "# np.mean() calculates the simple arithmetic mean, where all elements contribute equally. It does not support weights, making it ideal for cases where each value is equally significant.\n",
        "\n",
        "# On the other hand, np.average() allows for weighting, meaning you can assign different importance to each element. If no weights are provided, it behaves like np.mean(). However, when weights are included, it computes a weighted mean, where elements with higher weights contribute more to the final result.\n",
        "\n",
        "# Use np.mean() when all values should be treated equally, such as computing the average temperature over a week.\n",
        "\n",
        "# Use np.average() when certain values should have more influence, such as calculating a weighted exam score where different assignments have different weightages."
      ],
      "metadata": {
        "id": "psQgndFwdFPX"
      },
      "execution_count": 3,
      "outputs": []
    },
    {
      "cell_type": "code",
      "source": [
        "# Q3.\n",
        "\n",
        "# NumPy provides multiple ways to reverse arrays, depending on their dimensions and the required axis of reversal.\n",
        "\n",
        "# For 1D array\n",
        "\n",
        "import numpy as np\n",
        "\n",
        "arr_1d = np.array([1, 2, 3, 4, 5])\n",
        "\n",
        "rev_1d = arr_1d[::-1]\n",
        "\n",
        "rev_1d_flip = np.flip(arr_1d)\n",
        "\n",
        "print(rev_1d)\n",
        "print(rev_1d_flip)\n"
      ],
      "metadata": {
        "colab": {
          "base_uri": "https://localhost:8080/"
        },
        "id": "VhP7RnBsdo92",
        "outputId": "da3b4b1b-1aff-4cc9-d1b9-cf5edd801ff4"
      },
      "execution_count": 4,
      "outputs": [
        {
          "output_type": "stream",
          "name": "stdout",
          "text": [
            "[5 4 3 2 1]\n",
            "[5 4 3 2 1]\n"
          ]
        }
      ]
    },
    {
      "cell_type": "code",
      "source": [
        "# For 2D array\n",
        "\n",
        "arr_2d = np.array([[1, 2, 3],\n",
        "                    [4, 5, 6],\n",
        "                    [7, 8, 9]])\n",
        "\n",
        "rev_rows = arr_2d[::-1, :]\n",
        "\n",
        "rev_cols = arr_2d[:, ::-1]\n",
        "\n",
        "rev_both = arr_2d[::-1, ::-1]\n",
        "\n",
        "print(rev_rows)\n",
        "\n",
        "print(rev_cols)\n",
        "\n",
        "print(rev_both)"
      ],
      "metadata": {
        "colab": {
          "base_uri": "https://localhost:8080/"
        },
        "id": "VxN-9coVecAK",
        "outputId": "189e9f08-ad32-4c77-caa0-30c15e593d3d"
      },
      "execution_count": 5,
      "outputs": [
        {
          "output_type": "stream",
          "name": "stdout",
          "text": [
            "[[7 8 9]\n",
            " [4 5 6]\n",
            " [1 2 3]]\n",
            "[[3 2 1]\n",
            " [6 5 4]\n",
            " [9 8 7]]\n",
            "[[9 8 7]\n",
            " [6 5 4]\n",
            " [3 2 1]]\n"
          ]
        }
      ]
    },
    {
      "cell_type": "code",
      "source": [
        "# Q4.\n",
        "\n",
        "\n",
        "# To check the data type of a NumPy array using the .dtype attribute:\n",
        "\n",
        "import numpy as np\n",
        "\n",
        "arr = np.array([1, 2, 3, 4, 5], dtype=np.int32)\n",
        "print(\"Data Type:\", arr.dtype)\n",
        "\n",
        "# Data types (dtype) in NumPy are crucial for efficient memory management, computational performance, and numerical accuracy. Choosing the right data type ensures optimal use of system resources and prevents errors in numerical operations."
      ],
      "metadata": {
        "colab": {
          "base_uri": "https://localhost:8080/"
        },
        "id": "rX287cpxeqTQ",
        "outputId": "d4bfceec-439c-4c45-f7c0-bff8ce831bf1"
      },
      "execution_count": 7,
      "outputs": [
        {
          "output_type": "stream",
          "name": "stdout",
          "text": [
            "Data Type: int32\n"
          ]
        }
      ]
    },
    {
      "cell_type": "code",
      "source": [
        "# Q5.\n",
        "\n",
        "# In NumPy, an ndarray (N-dimensional array) is a powerful data structure used for efficient numerical computing. It is a homogeneous, multi-dimensional container for storing and manipulating numerical data.\n",
        "\n",
        "# Key Features of ndarray\n",
        "# Homogeneous Data – All elements in an ndarray must be of the same data type (int, float, etc.).\n",
        "# Efficient Memory Management – Stores elements in contiguous memory blocks, reducing overhead.\n",
        "# Supports Vectorized Operations – Performs element-wise operations without explicit loops, improving performance.\n",
        "# Multidimensional Support – Can have multiple dimensions (1D, 2D, 3D, etc.).\n",
        "# Broadcasting – Enables operations on arrays of different shapes without manual resizing.\n",
        "# Fast Mathematical Operations – Optimized with C and Fortran, making computations significantly faster than Python lists.\n",
        "\n",
        "\n",
        "# Difference Between NumPy ndarray and Python Lists\n",
        "\n",
        "# 1. Data Type Consistency\n",
        "\n",
        "# ndarray: Homogeneous (same data type).\n",
        "# List: Heterogeneous (mixed types allowed).\n",
        "\n",
        "# 2. Memory Efficiency\n",
        "\n",
        "# ndarray: Uses less memory (contiguous storage).\n",
        "# List: Requires more memory (stores references).\n",
        "\n",
        "# 3. Performance\n",
        "\n",
        "# ndarray: Faster due to vectorized operations.\n",
        "# List: Slower, requires loops for calculations.\n",
        "\n",
        "# 4. Multi-dimensional Support\n",
        "\n",
        "# ndarray: Supports multi-dimensional arrays easily.\n",
        "# List: Needs nested lists, making indexing complex.\n",
        "\n",
        "# 5. Mathematical Operations\n",
        "\n",
        "# ndarray: Built-in math functions (np.mean(), np.sum()).\n",
        "# List: Requires manual implementation (sum()/len())."
      ],
      "metadata": {
        "id": "QzP0wZ_ufJfD"
      },
      "execution_count": 8,
      "outputs": []
    },
    {
      "cell_type": "code",
      "source": [
        "# Q6.\n",
        "\n",
        "# Performance Benefits of NumPy Arrays Over Python Lists\n",
        "\n",
        "# Memory Efficiency\n",
        "\n",
        "# NumPy stores data in contiguous memory blocks, using less memory.\n",
        "# Python lists store references, consuming more space.\n",
        "\n",
        "# Faster Computation (Vectorization)\n",
        "\n",
        "# NumPy performs vectorized operations using optimized C code.\n",
        "# Python lists require explicit loops, slowing down calculations.\n",
        "\n",
        "# Efficient Broadcasting\n",
        "\n",
        "# NumPy allows operations on arrays of different shapes without extra loops.\n",
        "# Python lists require manual iteration and resizing.\n",
        "\n",
        "# Optimized Mathematical Functions\n",
        "\n",
        "# NumPy has built-in functions (np.mean(), np.sum()) that are faster than Python loops."
      ],
      "metadata": {
        "id": "Bt2-l09qgE9o"
      },
      "execution_count": 9,
      "outputs": []
    },
    {
      "cell_type": "code",
      "source": [
        "# Q7.\n",
        "\n",
        "# Both vstack() and hstack() are used to stack (combine) arrays, but they differ in how they align the arrays:\n",
        "\n",
        "# np.vstack() (Vertical Stack) → Stacks arrays row-wise (along axis 0).\n",
        "# np.hstack() (Horizontal Stack) → Stacks arrays column-wise (along axis 1).\n",
        "\n",
        "import numpy as np\n",
        "\n",
        "arr1 = np.array([1, 2, 3])\n",
        "arr2 = np.array([4, 5, 6])\n",
        "\n",
        "result_v = np.vstack((arr1, arr2))\n",
        "\n",
        "print(result_v)\n"
      ],
      "metadata": {
        "colab": {
          "base_uri": "https://localhost:8080/"
        },
        "id": "Gzo6yt8Kh2OF",
        "outputId": "c2ff6c73-fc4d-4313-dda2-d2aa7b0ae6e2"
      },
      "execution_count": 11,
      "outputs": [
        {
          "output_type": "stream",
          "name": "stdout",
          "text": [
            "[[1 2 3]\n",
            " [4 5 6]]\n"
          ]
        }
      ]
    },
    {
      "cell_type": "code",
      "source": [
        "result_h = np.hstack((arr1, arr2))\n",
        "\n",
        "print(result_h)\n"
      ],
      "metadata": {
        "colab": {
          "base_uri": "https://localhost:8080/"
        },
        "id": "m125Yp7ZiG66",
        "outputId": "9abf9f76-59d6-4daa-aa91-242eb9e2d016"
      },
      "execution_count": 12,
      "outputs": [
        {
          "output_type": "stream",
          "name": "stdout",
          "text": [
            "[1 2 3 4 5 6]\n"
          ]
        }
      ]
    },
    {
      "cell_type": "code",
      "source": [
        "arr3 = np.array([[1, 2], [3, 4]])\n",
        "arr4 = np.array([[5, 6], [7, 8]])\n",
        "\n",
        "print(np.vstack((arr3, arr4)))\n",
        "print(np.hstack((arr3, arr4)))"
      ],
      "metadata": {
        "colab": {
          "base_uri": "https://localhost:8080/"
        },
        "id": "NilF8nmFiI7f",
        "outputId": "5b4412c5-b596-488c-cd4d-9b57bea2a2c7"
      },
      "execution_count": 14,
      "outputs": [
        {
          "output_type": "stream",
          "name": "stdout",
          "text": [
            "[[1 2]\n",
            " [3 4]\n",
            " [5 6]\n",
            " [7 8]]\n",
            "[[1 2 5 6]\n",
            " [3 4 7 8]]\n"
          ]
        }
      ]
    },
    {
      "cell_type": "code",
      "source": [
        "# Q8.\n",
        "\n",
        "# Both fliplr() and flipud() are used to flip (reverse) arrays, but they operate on different axes:\n",
        "\n",
        "# fliplr() (Flip Left-Right)\n",
        "\n",
        "# Reverses columns (left-to-right flip).\n",
        "# Works on 2D arrays and higher (does nothing for 1D arrays).\n",
        "# flipud() (Flip Up-Down)\n",
        "\n",
        "# Reverses rows (top-to-bottom flip).\n",
        "# Works on 2D arrays and higher.\n",
        "\n",
        "import numpy as np\n",
        "\n",
        "arr = np.array([[1, 2, 3],\n",
        "                [4, 5, 6],\n",
        "                [7, 8, 9]])\n",
        "\n",
        "print(np.fliplr(arr))\n",
        "print(np.flipud(arr))\n",
        "\n",
        "\n",
        "# Effect on Different Dimensions\n",
        "# 1D array: fliplr() does nothing, but flipud() works like [::-1].\n",
        "# 2D array: fliplr() flips columns, flipud() flips rows.\n",
        "# 3D+ array: fliplr() and flipud() affect the last two dimensions."
      ],
      "metadata": {
        "colab": {
          "base_uri": "https://localhost:8080/"
        },
        "id": "-2BnlOpTiQmo",
        "outputId": "66509715-fd26-4cac-902b-4c638d5fb1b0"
      },
      "execution_count": 15,
      "outputs": [
        {
          "output_type": "stream",
          "name": "stdout",
          "text": [
            "[[3 2 1]\n",
            " [6 5 4]\n",
            " [9 8 7]]\n",
            "[[7 8 9]\n",
            " [4 5 6]\n",
            " [1 2 3]]\n"
          ]
        }
      ]
    },
    {
      "cell_type": "code",
      "source": [
        "# Q9.\n",
        "\n",
        "# The np.array_split() method is used to split an array into multiple sub-arrays. It is similar to np.split(), but with a key difference:\n",
        "\n",
        "import numpy as np\n",
        "\n",
        "arr = np.array([1, 2, 3, 4, 5, 6])\n",
        "split_arr = np.array_split(arr, 3)\n",
        "print(split_arr)\n"
      ],
      "metadata": {
        "colab": {
          "base_uri": "https://localhost:8080/"
        },
        "id": "gnxGmkJAiqZC",
        "outputId": "0a5054cb-9f26-48b4-8d99-0c5256972f4a"
      },
      "execution_count": 17,
      "outputs": [
        {
          "output_type": "stream",
          "name": "stdout",
          "text": [
            "[array([1, 2]), array([3, 4]), array([5, 6])]\n"
          ]
        }
      ]
    },
    {
      "cell_type": "code",
      "source": [
        "arr2D = np.array([[1, 2, 3], [4, 5, 6]])\n",
        "split_arr = np.array_split(arr2D, 2, axis=1)  # Splitting columns\n",
        "\n",
        "print(split_arr)\n"
      ],
      "metadata": {
        "colab": {
          "base_uri": "https://localhost:8080/"
        },
        "id": "pS0SHYrBi9Ki",
        "outputId": "b671e0b3-29bd-462e-db77-07ca52cbca56"
      },
      "execution_count": 18,
      "outputs": [
        {
          "output_type": "stream",
          "name": "stdout",
          "text": [
            "[array([[1, 2],\n",
            "       [4, 5]]), array([[3],\n",
            "       [6]])]\n"
          ]
        }
      ]
    },
    {
      "cell_type": "code",
      "source": [
        "# Q10.\n",
        "\n",
        "# Vectorization and broadcasting are two key features of NumPy that make array operations efficient, fast, and memory-friendly by eliminating explicit loops.\n",
        "\n",
        "# Vectorization refers to performing operations on entire arrays at once, rather than looping through elements one by one. NumPy achieves this by leveraging highly optimized C and Fortran libraries.\n",
        "\n",
        "import numpy as np\n",
        "\n",
        "arr = np.array([1, 2, 3, 4])\n",
        "\n",
        "# Without vectorization (using loops)\n",
        "result = [x * 2 for x in arr]\n",
        "print(result)\n",
        "\n",
        "# With vectorization\n",
        "result_vec = arr * 2\n",
        "print(result_vec)"
      ],
      "metadata": {
        "colab": {
          "base_uri": "https://localhost:8080/"
        },
        "id": "Pt1UaftTjC1_",
        "outputId": "95c1d9e1-6c27-4d9c-94e1-2d2aa08ea3c6"
      },
      "execution_count": 19,
      "outputs": [
        {
          "output_type": "stream",
          "name": "stdout",
          "text": [
            "[np.int64(2), np.int64(4), np.int64(6), np.int64(8)]\n",
            "[2 4 6 8]\n"
          ]
        }
      ]
    },
    {
      "cell_type": "code",
      "source": [
        "# Broadcasting allows NumPy to perform operations on arrays of different shapes without explicit looping or reshaping. It automatically expands smaller arrays to match the dimensions of larger arrays.\n",
        "\n",
        "arr = np.array([1, 2, 3])\n",
        "print(arr + 5)"
      ],
      "metadata": {
        "colab": {
          "base_uri": "https://localhost:8080/"
        },
        "id": "PP5Dwp3DjaYc",
        "outputId": "f5da9e11-eb30-4dac-951a-19743bc32c36"
      },
      "execution_count": 20,
      "outputs": [
        {
          "output_type": "stream",
          "name": "stdout",
          "text": [
            "[6 7 8]\n"
          ]
        }
      ]
    },
    {
      "cell_type": "code",
      "source": [
        "arr1 = np.array([[1, 2, 3], [4, 5, 6]])\n",
        "arr2 = np.array([1, 2, 3])\n",
        "\n",
        "print(arr1 + arr2)\n"
      ],
      "metadata": {
        "colab": {
          "base_uri": "https://localhost:8080/"
        },
        "id": "Pt8Vbh0cjl4F",
        "outputId": "3669fc11-da3a-4cc3-d8a4-1de9d875b5c2"
      },
      "execution_count": 21,
      "outputs": [
        {
          "output_type": "stream",
          "name": "stdout",
          "text": [
            "[[2 4 6]\n",
            " [5 7 9]]\n"
          ]
        }
      ]
    },
    {
      "cell_type": "code",
      "source": [
        "# Practical Questions:"
      ],
      "metadata": {
        "id": "4RwgNLyMjpiu"
      },
      "execution_count": 22,
      "outputs": []
    },
    {
      "cell_type": "code",
      "source": [
        "# Q1.\n",
        "\n",
        "import random\n",
        "\n",
        "arr = np.random.randint(1,100,(3,3))\n",
        "arr"
      ],
      "metadata": {
        "colab": {
          "base_uri": "https://localhost:8080/"
        },
        "id": "XUsmjsLzjsK3",
        "outputId": "89d59b1e-25b9-4695-b815-4daaca050589"
      },
      "execution_count": 24,
      "outputs": [
        {
          "output_type": "execute_result",
          "data": {
            "text/plain": [
              "array([[51, 14, 89],\n",
              "       [73, 42, 57],\n",
              "       [61,  8, 78]])"
            ]
          },
          "metadata": {},
          "execution_count": 24
        }
      ]
    },
    {
      "cell_type": "code",
      "source": [
        "arr.T"
      ],
      "metadata": {
        "colab": {
          "base_uri": "https://localhost:8080/"
        },
        "id": "ZiFj0Hw_j2FO",
        "outputId": "444d8e24-a19b-43a8-e2b8-8979faa11a7b"
      },
      "execution_count": 25,
      "outputs": [
        {
          "output_type": "execute_result",
          "data": {
            "text/plain": [
              "array([[51, 73, 61],\n",
              "       [14, 42,  8],\n",
              "       [89, 57, 78]])"
            ]
          },
          "metadata": {},
          "execution_count": 25
        }
      ]
    },
    {
      "cell_type": "code",
      "source": [
        "# Q2.\n",
        "\n",
        "import numpy as np\n",
        "\n",
        "arr = np.array([1, 2, 3, 4, 5, 6, 7, 8, 9, 10])\n",
        "\n",
        "arr_2x5 = arr.reshape(2, 5)\n",
        "print(\"2x5 Array:\\n\", arr_2x5)\n",
        "\n",
        "arr_5x2 = arr.reshape(5, 2)\n",
        "print(\"5x2 Array:\\n\", arr_5x2)\n"
      ],
      "metadata": {
        "colab": {
          "base_uri": "https://localhost:8080/"
        },
        "id": "RfuvqXA_j-Zk",
        "outputId": "700d8b69-bcef-4b39-9b45-c24385b98872"
      },
      "execution_count": 27,
      "outputs": [
        {
          "output_type": "stream",
          "name": "stdout",
          "text": [
            "2x5 Array:\n",
            " [[ 1  2  3  4  5]\n",
            " [ 6  7  8  9 10]]\n",
            "5x2 Array:\n",
            " [[ 1  2]\n",
            " [ 3  4]\n",
            " [ 5  6]\n",
            " [ 7  8]\n",
            " [ 9 10]]\n"
          ]
        }
      ]
    },
    {
      "cell_type": "code",
      "source": [
        "# Q3.\n",
        "\n",
        "import numpy as np\n",
        "\n",
        "arr = np.random.rand(4, 4)\n",
        "print(\"Original 4x4 Array:\\n\", arr)\n",
        "\n",
        "arr_with_border = np.zeros((6, 6))\n",
        "\n",
        "arr_with_border[1:-1, 1:-1] = arr\n",
        "print(\"\\n6x6 Array with Zero Border:\\n\", arr_with_border)\n"
      ],
      "metadata": {
        "colab": {
          "base_uri": "https://localhost:8080/"
        },
        "id": "jBQ8O5rrkY2Q",
        "outputId": "5fe4e193-6355-466a-ace3-e8d086409eac"
      },
      "execution_count": 28,
      "outputs": [
        {
          "output_type": "stream",
          "name": "stdout",
          "text": [
            "Original 4x4 Array:\n",
            " [[0.87300384 0.62162091 0.11359302 0.02540673]\n",
            " [0.52946014 0.07470063 0.70241622 0.00305072]\n",
            " [0.78354553 0.92211232 0.46973563 0.96707137]\n",
            " [0.51486448 0.84812774 0.25412049 0.34870831]]\n",
            "\n",
            "6x6 Array with Zero Border:\n",
            " [[0.         0.         0.         0.         0.         0.        ]\n",
            " [0.         0.87300384 0.62162091 0.11359302 0.02540673 0.        ]\n",
            " [0.         0.52946014 0.07470063 0.70241622 0.00305072 0.        ]\n",
            " [0.         0.78354553 0.92211232 0.46973563 0.96707137 0.        ]\n",
            " [0.         0.51486448 0.84812774 0.25412049 0.34870831 0.        ]\n",
            " [0.         0.         0.         0.         0.         0.        ]]\n"
          ]
        }
      ]
    },
    {
      "cell_type": "code",
      "source": [
        "# Q4.\n",
        "\n",
        "import numpy as np\n",
        "\n",
        "arr = np.arange(10, 65, 5)\n",
        "print(arr)\n"
      ],
      "metadata": {
        "colab": {
          "base_uri": "https://localhost:8080/"
        },
        "id": "z5Krdt_bk1yp",
        "outputId": "015dc40f-e172-412a-9fcc-57556bb65818"
      },
      "execution_count": 29,
      "outputs": [
        {
          "output_type": "stream",
          "name": "stdout",
          "text": [
            "[10 15 20 25 30 35 40 45 50 55 60]\n"
          ]
        }
      ]
    },
    {
      "cell_type": "code",
      "source": [
        "# Q5.\n",
        "\n",
        "import numpy as np\n",
        "\n",
        "arr = np.array(['python', 'numpy', 'pandas'])\n",
        "\n",
        "uppercase_arr = np.char.upper(arr)\n",
        "lowercase_arr = np.char.lower(arr)\n",
        "titlecase_arr = np.char.title(arr)\n",
        "capitalize_arr = np.char.capitalize(arr)\n",
        "\n",
        "print(\"Original Array:\", arr)\n",
        "print(\"Uppercase:\", uppercase_arr)\n",
        "print(\"Lowercase:\", lowercase_arr)\n",
        "print(\"Title Case:\", titlecase_arr)\n",
        "print(\"Capitalize:\", capitalize_arr)"
      ],
      "metadata": {
        "colab": {
          "base_uri": "https://localhost:8080/"
        },
        "id": "Kq8c1-eplDtc",
        "outputId": "f7069901-4d12-4e8c-b172-a80a009fed4b"
      },
      "execution_count": 30,
      "outputs": [
        {
          "output_type": "stream",
          "name": "stdout",
          "text": [
            "Original Array: ['python' 'numpy' 'pandas']\n",
            "Uppercase: ['PYTHON' 'NUMPY' 'PANDAS']\n",
            "Lowercase: ['python' 'numpy' 'pandas']\n",
            "Title Case: ['Python' 'Numpy' 'Pandas']\n",
            "Capitalize: ['Python' 'Numpy' 'Pandas']\n"
          ]
        }
      ]
    },
    {
      "cell_type": "code",
      "source": [
        "# Q6.\n",
        "\n",
        "import numpy as np\n",
        "\n",
        "arr = np.array(['python', 'numpy', 'pandas'])\n",
        "\n",
        "spaced_arr = np.char.join(' ', arr)\n",
        "\n",
        "print(spaced_arr)\n"
      ],
      "metadata": {
        "colab": {
          "base_uri": "https://localhost:8080/"
        },
        "id": "lD2vmkYalTj8",
        "outputId": "28a23b1e-5a28-4991-e297-55c5834b4c60"
      },
      "execution_count": 31,
      "outputs": [
        {
          "output_type": "stream",
          "name": "stdout",
          "text": [
            "['p y t h o n' 'n u m p y' 'p a n d a s']\n"
          ]
        }
      ]
    },
    {
      "cell_type": "code",
      "source": [
        "# Q7.\n",
        "\n",
        "import numpy as np\n",
        "\n",
        "arr1 = np.array([[1, 2, 3], [4, 5, 6]])\n",
        "arr2 = np.array([[7, 8, 9], [10, 11, 12]])\n",
        "\n",
        "addition = arr1 + arr2\n",
        "subtraction = arr1 - arr2\n",
        "multiplication = arr1 * arr2\n",
        "division = arr1 / arr2\n",
        "\n",
        "print(\"Addition:\\n\", addition)\n",
        "print(\"\\nSubtraction:\\n\", subtraction)\n",
        "print(\"\\nMultiplication:\\n\", multiplication)\n",
        "print(\"\\nDivision:\\n\", division)"
      ],
      "metadata": {
        "colab": {
          "base_uri": "https://localhost:8080/"
        },
        "id": "06r5Xm1HlhF0",
        "outputId": "a29615af-af4f-482d-957a-dda6e1f3001b"
      },
      "execution_count": 33,
      "outputs": [
        {
          "output_type": "stream",
          "name": "stdout",
          "text": [
            "Addition:\n",
            " [[ 8 10 12]\n",
            " [14 16 18]]\n",
            "\n",
            "Subtraction:\n",
            " [[-6 -6 -6]\n",
            " [-6 -6 -6]]\n",
            "\n",
            "Multiplication:\n",
            " [[ 7 16 27]\n",
            " [40 55 72]]\n",
            "\n",
            "Division:\n",
            " [[0.14285714 0.25       0.33333333]\n",
            " [0.4        0.45454545 0.5       ]]\n"
          ]
        }
      ]
    },
    {
      "cell_type": "code",
      "source": [
        "# Q8.\n",
        "\n",
        "import numpy as np\n",
        "\n",
        "identity_matrix = np.eye(5)\n",
        "print(\"5x5 Identity Matrix:\\n\", identity_matrix)\n",
        "\n",
        "diagonal_elements = np.diag(identity_matrix)\n",
        "print(\"\\nDiagonal Elements:\\n\", diagonal_elements)\n"
      ],
      "metadata": {
        "colab": {
          "base_uri": "https://localhost:8080/"
        },
        "id": "zeq735kxl0qV",
        "outputId": "25808c67-2b34-4c71-d1dc-8e5b3d2bc43e"
      },
      "execution_count": 34,
      "outputs": [
        {
          "output_type": "stream",
          "name": "stdout",
          "text": [
            "5x5 Identity Matrix:\n",
            " [[1. 0. 0. 0. 0.]\n",
            " [0. 1. 0. 0. 0.]\n",
            " [0. 0. 1. 0. 0.]\n",
            " [0. 0. 0. 1. 0.]\n",
            " [0. 0. 0. 0. 1.]]\n",
            "\n",
            "Diagonal Elements:\n",
            " [1. 1. 1. 1. 1.]\n"
          ]
        }
      ]
    },
    {
      "cell_type": "code",
      "source": [
        "# Q9.\n",
        "\n",
        "import numpy as np\n",
        "\n",
        "def is_prime(n):\n",
        "    if n < 2:\n",
        "        return False\n",
        "    for i in range(2, int(n**0.5) + 1):\n",
        "        if n % i == 0:\n",
        "            return False\n",
        "    return True\n",
        "\n",
        "arr = np.random.randint(0, 1000, 100)\n",
        "\n",
        "prime_numbers = arr[np.vectorize(is_prime)(arr)]\n",
        "\n",
        "print(\"Original Array:\\n\", arr)\n",
        "print(\"\\nPrime Numbers:\\n\", prime_numbers)\n"
      ],
      "metadata": {
        "colab": {
          "base_uri": "https://localhost:8080/"
        },
        "id": "lFrNOU3EmD16",
        "outputId": "3c2d6411-e523-45c9-81ba-1f0faf397d0b"
      },
      "execution_count": 35,
      "outputs": [
        {
          "output_type": "stream",
          "name": "stdout",
          "text": [
            "Original Array:\n",
            " [ 16 174 231  53 370 642 555 102 322 337  17 937 173 472 431 458 794 942\n",
            " 734 165 266 737 627 990  55 137 598 810 134 907 756 165 455 899 797 810\n",
            " 846  92  76 239 904  20 428 845  51 261 389 672 649 477 275 915 510  57\n",
            " 261 145 372 497 524  99 175 970 875 921 723 332 335 388  11 406  16 307\n",
            " 154 393 486 339 788 298 684  96 448 228 783 162 495 832 169 408 292 419\n",
            "  45 428  29 420 732 274 633 857 687 931]\n",
            "\n",
            "Prime Numbers:\n",
            " [ 53 337  17 937 173 431 137 907 797 239 389  11 307 419  29 857]\n"
          ]
        }
      ]
    },
    {
      "cell_type": "code",
      "source": [
        "# Q10.\n",
        "\n",
        "import numpy as np\n",
        "\n",
        "daily_temps = np.random.uniform(15, 35, 30)\n",
        "print(\"Daily Temperatures:\\n\", daily_temps)\n",
        "\n",
        "weeks = daily_temps[:28].reshape(4, 7)\n",
        "extra_days = daily_temps[28:]\n",
        "\n",
        "weekly_averages = np.mean(weeks, axis=1)\n",
        "\n",
        "if extra_days.size > 0:\n",
        "    extra_week_avg = np.mean(extra_days)\n",
        "    weekly_averages = np.append(weekly_averages, extra_week_avg)\n",
        "\n",
        "print(\"\\nWeekly Averages:\\n\", weekly_averages)\n"
      ],
      "metadata": {
        "colab": {
          "base_uri": "https://localhost:8080/"
        },
        "id": "h1p_gHFVmSrj",
        "outputId": "87b05713-7f7f-433c-c3d0-95d213760c2b"
      },
      "execution_count": 36,
      "outputs": [
        {
          "output_type": "stream",
          "name": "stdout",
          "text": [
            "Daily Temperatures:\n",
            " [28.1679773  32.95492159 30.54861913 21.09082609 23.7867338  17.06989763\n",
            " 31.49315701 22.79995592 30.46097818 32.71088065 26.24113119 31.11770984\n",
            " 29.18663826 34.49562755 29.14496608 24.75411879 18.50069127 30.25427509\n",
            " 30.07783484 34.53816134 32.5844525  33.74359183 19.13690481 17.15532745\n",
            " 29.1911325  32.79145756 30.77550814 20.26859789 16.34322313 30.23513418]\n",
            "\n",
            "Weekly Averages:\n",
            " [26.44459037 29.57327451 28.55064284 26.1517886  23.28917866]\n"
          ]
        }
      ]
    },
    {
      "cell_type": "code",
      "source": [],
      "metadata": {
        "id": "Q4MyvXO2moxI"
      },
      "execution_count": null,
      "outputs": []
    }
  ]
}